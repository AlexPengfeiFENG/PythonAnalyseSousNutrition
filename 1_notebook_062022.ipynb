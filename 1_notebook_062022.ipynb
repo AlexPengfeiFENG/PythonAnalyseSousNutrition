{
 "cells": [
  {
   "cell_type": "code",
   "execution_count": 1,
   "id": "f9da6e01-fbfa-4d00-8f63-f1c45121648a",
   "metadata": {},
   "outputs": [],
   "source": [
    "%matplotlib inline\n",
    "import matplotlib.pyplot as plt\n",
    "import numpy as np\n",
    "import pandas as pd\n",
    "import seaborn as sns"
   ]
  },
  {
   "cell_type": "markdown",
   "id": "66b9db0b-c69e-4d46-907f-bd120f07423b",
   "metadata": {
    "tags": []
   },
   "source": [
    "## Question 1: la proportion de personnes en état de sous-nutrition en 2017\n",
    "\n",
    "#### Résultat:\n",
    "7.1% de population mondiale (7.54Mds) sont en état de sous nutrition, soit 0.53Mds personnes sous nutrition.\n",
    "\n",
    "\n",
    "#### Méthode:\n",
    "\n",
    "Pour répondre cette information, il faut faire la division entre le total de nombre de population sous nutrition 2017\n",
    "et la population mondiale 2017\n",
    "\n",
    "Donc il faut récupérer et traiter les informations dans le tableau df_sous_nutrition et df_population"
   ]
  },
  {
   "cell_type": "markdown",
   "id": "7b77497c-4079-4c1c-9b58-aaa8d1590d10",
   "metadata": {},
   "source": [
    "## Lire et Affichier le tableau df_sous_nutrition"
   ]
  },
  {
   "cell_type": "code",
   "execution_count": 2,
   "id": "940ed036-dcd5-4b2e-a6de-e0b447d29558",
   "metadata": {
    "tags": []
   },
   "outputs": [
    {
     "data": {
      "text/html": [
       "<div>\n",
       "<style scoped>\n",
       "    .dataframe tbody tr th:only-of-type {\n",
       "        vertical-align: middle;\n",
       "    }\n",
       "\n",
       "    .dataframe tbody tr th {\n",
       "        vertical-align: top;\n",
       "    }\n",
       "\n",
       "    .dataframe thead th {\n",
       "        text-align: right;\n",
       "    }\n",
       "</style>\n",
       "<table border=\"1\" class=\"dataframe\">\n",
       "  <thead>\n",
       "    <tr style=\"text-align: right;\">\n",
       "      <th></th>\n",
       "      <th>Zone</th>\n",
       "      <th>Année</th>\n",
       "      <th>Valeur</th>\n",
       "    </tr>\n",
       "  </thead>\n",
       "  <tbody>\n",
       "    <tr>\n",
       "      <th>0</th>\n",
       "      <td>Afghanistan</td>\n",
       "      <td>2012-2014</td>\n",
       "      <td>8.6</td>\n",
       "    </tr>\n",
       "    <tr>\n",
       "      <th>1</th>\n",
       "      <td>Afghanistan</td>\n",
       "      <td>2013-2015</td>\n",
       "      <td>8.8</td>\n",
       "    </tr>\n",
       "    <tr>\n",
       "      <th>2</th>\n",
       "      <td>Afghanistan</td>\n",
       "      <td>2014-2016</td>\n",
       "      <td>8.9</td>\n",
       "    </tr>\n",
       "    <tr>\n",
       "      <th>3</th>\n",
       "      <td>Afghanistan</td>\n",
       "      <td>2015-2017</td>\n",
       "      <td>9.7</td>\n",
       "    </tr>\n",
       "    <tr>\n",
       "      <th>4</th>\n",
       "      <td>Afghanistan</td>\n",
       "      <td>2016-2018</td>\n",
       "      <td>10.5</td>\n",
       "    </tr>\n",
       "  </tbody>\n",
       "</table>\n",
       "</div>"
      ],
      "text/plain": [
       "          Zone      Année Valeur\n",
       "0  Afghanistan  2012-2014    8.6\n",
       "1  Afghanistan  2013-2015    8.8\n",
       "2  Afghanistan  2014-2016    8.9\n",
       "3  Afghanistan  2015-2017    9.7\n",
       "4  Afghanistan  2016-2018   10.5"
      ]
     },
     "execution_count": 2,
     "metadata": {},
     "output_type": "execute_result"
    }
   ],
   "source": [
    "df_sous_nutrition=pd.read_csv('C:/Users/PF/Desktop/openclassroom/P4 Réalisez une étude de santé publique avec R ou Python/sous_nutrition.csv')\n",
    "df_sous_nutrition.head()"
   ]
  },
  {
   "cell_type": "markdown",
   "id": "0e9240cc-4dd9-4415-998b-bccd7179aec9",
   "metadata": {},
   "source": [
    "## Explication le tableau df_sous_nutrition\n",
    "Un fichier d’insécurité alimentaire, qui inclut :\n",
    "-Le pays.\n",
    "-Intervalle d’années.\n",
    "-Le nombre de personnes en sous-alimentation en millions d’habitants (ex. : pour l’intervalle 2016-2018, le nombre de personnes correspond à la moyenne sur ces 3 années, on peut le résumer en 2017)."
   ]
  },
  {
   "cell_type": "markdown",
   "id": "77ceabb1-29fc-4d0c-8071-8227594f2973",
   "metadata": {
    "tags": []
   },
   "source": [
    "### Analyser df_sous_nutrition en général et le traitement des données\n",
    "Analyser 'Année' et transformer 'Année' dans une nouvelle colonne AnnéeCorrigé\n",
    "\n",
    "Analyser 'Valeur' de tableau df_sous_nutrition et les transformer dans une nouvelle colonne NombreDePersonne_sous_nutrition"
   ]
  },
  {
   "cell_type": "code",
   "execution_count": 3,
   "id": "4d55199f-1269-4e14-adea-7b1a84b9814c",
   "metadata": {},
   "outputs": [
    {
     "name": "stdout",
     "output_type": "stream",
     "text": [
      "<class 'pandas.core.frame.DataFrame'>\n",
      "RangeIndex: 1218 entries, 0 to 1217\n",
      "Data columns (total 3 columns):\n",
      " #   Column  Non-Null Count  Dtype \n",
      "---  ------  --------------  ----- \n",
      " 0   Zone    1218 non-null   object\n",
      " 1   Année   1218 non-null   object\n",
      " 2   Valeur  624 non-null    object\n",
      "dtypes: object(3)\n",
      "memory usage: 28.7+ KB\n"
     ]
    }
   ],
   "source": [
    "df_sous_nutrition.info()\n",
    "#On trouve Valeur non null 624 contre le nombre de ligne 1218 (Zone,Année)"
   ]
  },
  {
   "cell_type": "code",
   "execution_count": 4,
   "id": "c2e95303-51d1-4e6a-b208-ee416371234a",
   "metadata": {
    "tags": []
   },
   "outputs": [
    {
     "data": {
      "text/plain": [
       "array(['2012-2014', '2013-2015', '2014-2016', '2015-2017', '2016-2018',\n",
       "       '2017-2019'], dtype=object)"
      ]
     },
     "execution_count": 4,
     "metadata": {},
     "output_type": "execute_result"
    }
   ],
   "source": [
    "df_sous_nutrition['Année'].unique()\n",
    "#Sans valeur aberrante dans la colonne 'Année'"
   ]
  },
  {
   "cell_type": "code",
   "execution_count": 5,
   "id": "2d7e726d-ce57-4d8c-9a6f-108775d95cfe",
   "metadata": {
    "tags": []
   },
   "outputs": [
    {
     "name": "stderr",
     "output_type": "stream",
     "text": [
      "C:\\Users\\PF\\AppData\\Local\\Temp\\ipykernel_9192\\712583313.py:3: SettingWithCopyWarning: \n",
      "A value is trying to be set on a copy of a slice from a DataFrame\n",
      "\n",
      "See the caveats in the documentation: https://pandas.pydata.org/pandas-docs/stable/user_guide/indexing.html#returning-a-view-versus-a-copy\n",
      "  df_sous_nutrition['AnnéeCorrigé'][i]=int(df_sous_nutrition['Année'][i][:4])+1\n"
     ]
    },
    {
     "data": {
      "text/html": [
       "<div>\n",
       "<style scoped>\n",
       "    .dataframe tbody tr th:only-of-type {\n",
       "        vertical-align: middle;\n",
       "    }\n",
       "\n",
       "    .dataframe tbody tr th {\n",
       "        vertical-align: top;\n",
       "    }\n",
       "\n",
       "    .dataframe thead th {\n",
       "        text-align: right;\n",
       "    }\n",
       "</style>\n",
       "<table border=\"1\" class=\"dataframe\">\n",
       "  <thead>\n",
       "    <tr style=\"text-align: right;\">\n",
       "      <th></th>\n",
       "      <th>Zone</th>\n",
       "      <th>Année</th>\n",
       "      <th>Valeur</th>\n",
       "      <th>AnnéeCorrigé</th>\n",
       "    </tr>\n",
       "  </thead>\n",
       "  <tbody>\n",
       "    <tr>\n",
       "      <th>0</th>\n",
       "      <td>Afghanistan</td>\n",
       "      <td>2012-2014</td>\n",
       "      <td>8.6</td>\n",
       "      <td>2013</td>\n",
       "    </tr>\n",
       "    <tr>\n",
       "      <th>1</th>\n",
       "      <td>Afghanistan</td>\n",
       "      <td>2013-2015</td>\n",
       "      <td>8.8</td>\n",
       "      <td>2014</td>\n",
       "    </tr>\n",
       "    <tr>\n",
       "      <th>2</th>\n",
       "      <td>Afghanistan</td>\n",
       "      <td>2014-2016</td>\n",
       "      <td>8.9</td>\n",
       "      <td>2015</td>\n",
       "    </tr>\n",
       "    <tr>\n",
       "      <th>3</th>\n",
       "      <td>Afghanistan</td>\n",
       "      <td>2015-2017</td>\n",
       "      <td>9.7</td>\n",
       "      <td>2016</td>\n",
       "    </tr>\n",
       "    <tr>\n",
       "      <th>4</th>\n",
       "      <td>Afghanistan</td>\n",
       "      <td>2016-2018</td>\n",
       "      <td>10.5</td>\n",
       "      <td>2017</td>\n",
       "    </tr>\n",
       "  </tbody>\n",
       "</table>\n",
       "</div>"
      ],
      "text/plain": [
       "          Zone      Année Valeur  AnnéeCorrigé\n",
       "0  Afghanistan  2012-2014    8.6          2013\n",
       "1  Afghanistan  2013-2015    8.8          2014\n",
       "2  Afghanistan  2014-2016    8.9          2015\n",
       "3  Afghanistan  2015-2017    9.7          2016\n",
       "4  Afghanistan  2016-2018   10.5          2017"
      ]
     },
     "execution_count": 5,
     "metadata": {},
     "output_type": "execute_result"
    }
   ],
   "source": [
    "df_sous_nutrition['AnnéeCorrigé']=0\n",
    "for i,j in enumerate (df_sous_nutrition['Année']):\n",
    "    df_sous_nutrition['AnnéeCorrigé'][i]=int(df_sous_nutrition['Année'][i][:4])+1\n",
    "df_sous_nutrition.head(5)\n",
    "\n",
    "#Transformer l'année exprimée en interval à l'année réelle concernée"
   ]
  },
  {
   "cell_type": "code",
   "execution_count": 6,
   "id": "2ad5f8e4-05d7-46e1-b71c-845dfa0a35df",
   "metadata": {},
   "outputs": [
    {
     "data": {
      "text/plain": [
       "array(['8.6', '8.8', '8.9', '9.7', '10.5', '11.1', '2.2', '2.5', '2.8',\n",
       "       '3', '3.1', '3.3', '0.1', '1.3', '1.2', nan, '7.6', '6.2', '5.3',\n",
       "       '5.6', '5.8', '5.7', '1.5', '1.6', '1.1', '1.7', '<0.1', '21.7',\n",
       "       '22.4', '23.3', '22.3', '21.5', '20.9', '0.8', '2', '1.9', '1.8',\n",
       "       '0.4', '0.5', '0.3', '0.2', '3.2', '3.4', '3.6', '3.8', '2.1',\n",
       "       '2.3', '2.4', '0.6', '0.7', '0.9', '3.9', '2.7', '1.4', '4.8',\n",
       "       '4.6', '4.9', '5', '4.4', '4.3', '4.2', '4.5', '26.2', '24.3',\n",
       "       '21.3', '21.1', '2.9', '5.1', '5.2', '5.4', '203.8', '198.3',\n",
       "       '193.1', '190.9', '190.1', '189.2', '23.6', '24', '24.1', '3.7',\n",
       "       '7.3', '7.8', '8.4', '9', '9.1', '10.1', '10', '10.7', '11.5',\n",
       "       '11.9', '11.8', '8.7', '10.3', '11', '1', '5.5', '6.8', '7.9',\n",
       "       '5.9', '7', '9.2', '9.4', '9.6', '6.7', '7.1', '7.2', '14.7',\n",
       "       '17.4', '20.2', '22.2', '22.8', '24.6', '31.1', '28.5', '25.4',\n",
       "       '24.8', '26.1', '14.5', '15.4', '16.5', '15.8', '15.7', '10.8',\n",
       "       '11.2', '11.6', '12', '12.2', '13.5', '13.2', '12.8', '13', '13.4',\n",
       "       '14.1', '4.1', '6.1', '6', '6.5', '2.6', '8', '8.3'], dtype=object)"
      ]
     },
     "execution_count": 6,
     "metadata": {},
     "output_type": "execute_result"
    }
   ],
   "source": [
    "df_sous_nutrition['Valeur'].unique()\n",
    "#On a identifié les valeurs abérantes de colonne 'Valeur'"
   ]
  },
  {
   "cell_type": "markdown",
   "id": "f30d1aa2-293b-463f-a706-57ca4a8eeb61",
   "metadata": {},
   "source": [
    "### Transformer les valeur 'nan' en 0, '<0.1' en 0.1 de colonne valeur, puis transformer tous les valeurs dans une nouvelle colonne 'NombreDePersonne_sous_nutrition'"
   ]
  },
  {
   "cell_type": "code",
   "execution_count": 7,
   "id": "c2fbfbc5-8202-435f-9fdb-c4a1f4d7e5dd",
   "metadata": {},
   "outputs": [
    {
     "name": "stderr",
     "output_type": "stream",
     "text": [
      "C:\\Users\\PF\\AppData\\Local\\Temp\\ipykernel_9192\\1467412713.py:7: SettingWithCopyWarning: \n",
      "A value is trying to be set on a copy of a slice from a DataFrame\n",
      "\n",
      "See the caveats in the documentation: https://pandas.pydata.org/pandas-docs/stable/user_guide/indexing.html#returning-a-view-versus-a-copy\n",
      "  df_sous_nutrition['NombreDePersonne_sous_nutrition'][i]=int(float(df_sous_nutrition['Valeur'][i])*1000000)\n"
     ]
    },
    {
     "data": {
      "text/html": [
       "<div>\n",
       "<style scoped>\n",
       "    .dataframe tbody tr th:only-of-type {\n",
       "        vertical-align: middle;\n",
       "    }\n",
       "\n",
       "    .dataframe tbody tr th {\n",
       "        vertical-align: top;\n",
       "    }\n",
       "\n",
       "    .dataframe thead th {\n",
       "        text-align: right;\n",
       "    }\n",
       "</style>\n",
       "<table border=\"1\" class=\"dataframe\">\n",
       "  <thead>\n",
       "    <tr style=\"text-align: right;\">\n",
       "      <th></th>\n",
       "      <th>Zone</th>\n",
       "      <th>Année</th>\n",
       "      <th>Valeur</th>\n",
       "      <th>AnnéeCorrigé</th>\n",
       "      <th>NombreDePersonne_sous_nutrition</th>\n",
       "    </tr>\n",
       "  </thead>\n",
       "  <tbody>\n",
       "    <tr>\n",
       "      <th>0</th>\n",
       "      <td>Afghanistan</td>\n",
       "      <td>2012-2014</td>\n",
       "      <td>8.6</td>\n",
       "      <td>2013</td>\n",
       "      <td>8600000</td>\n",
       "    </tr>\n",
       "    <tr>\n",
       "      <th>1</th>\n",
       "      <td>Afghanistan</td>\n",
       "      <td>2013-2015</td>\n",
       "      <td>8.8</td>\n",
       "      <td>2014</td>\n",
       "      <td>8800000</td>\n",
       "    </tr>\n",
       "    <tr>\n",
       "      <th>2</th>\n",
       "      <td>Afghanistan</td>\n",
       "      <td>2014-2016</td>\n",
       "      <td>8.9</td>\n",
       "      <td>2015</td>\n",
       "      <td>8900000</td>\n",
       "    </tr>\n",
       "    <tr>\n",
       "      <th>3</th>\n",
       "      <td>Afghanistan</td>\n",
       "      <td>2015-2017</td>\n",
       "      <td>9.7</td>\n",
       "      <td>2016</td>\n",
       "      <td>9700000</td>\n",
       "    </tr>\n",
       "    <tr>\n",
       "      <th>4</th>\n",
       "      <td>Afghanistan</td>\n",
       "      <td>2016-2018</td>\n",
       "      <td>10.5</td>\n",
       "      <td>2017</td>\n",
       "      <td>10500000</td>\n",
       "    </tr>\n",
       "  </tbody>\n",
       "</table>\n",
       "</div>"
      ],
      "text/plain": [
       "          Zone      Année Valeur  AnnéeCorrigé  \\\n",
       "0  Afghanistan  2012-2014    8.6          2013   \n",
       "1  Afghanistan  2013-2015    8.8          2014   \n",
       "2  Afghanistan  2014-2016    8.9          2015   \n",
       "3  Afghanistan  2015-2017    9.7          2016   \n",
       "4  Afghanistan  2016-2018   10.5          2017   \n",
       "\n",
       "   NombreDePersonne_sous_nutrition  \n",
       "0                          8600000  \n",
       "1                          8800000  \n",
       "2                          8900000  \n",
       "3                          9700000  \n",
       "4                         10500000  "
      ]
     },
     "execution_count": 7,
     "metadata": {},
     "output_type": "execute_result"
    }
   ],
   "source": [
    "df_sous_nutrition['NombreDePersonne_sous_nutrition']=0\n",
    "\n",
    "for i,j in enumerate (df_sous_nutrition['Valeur']):\n",
    "    if df_sous_nutrition['Valeur'][i]=='<0.1':\n",
    "        df_sous_nutrition['NombreDePersonne_sous_nutrition'][i] == int(0.1*1000000)\n",
    "    elif  pd.isna(df_sous_nutrition['Valeur'][i]) == False:\n",
    "        df_sous_nutrition['NombreDePersonne_sous_nutrition'][i]=int(float(df_sous_nutrition['Valeur'][i])*1000000)\n",
    "df_sous_nutrition.head(5)\n",
    "\n",
    "#on considère Valeur'nan' = 0, Valeur'<0.1'=0.1, Valeur non vide x 1000000 pour trouver le nombre en unité personne"
   ]
  },
  {
   "cell_type": "markdown",
   "id": "2a6a6815-af00-4a95-959b-9b6c74743c5b",
   "metadata": {
    "tags": []
   },
   "source": [
    "### Créer tableau df_sous_nutrition2017 en filtant l'AnnéeCorrigé"
   ]
  },
  {
   "cell_type": "code",
   "execution_count": 8,
   "id": "66a31dc0-dddd-4fa7-b8f4-d5bc717ebf51",
   "metadata": {},
   "outputs": [
    {
     "data": {
      "text/html": [
       "<div>\n",
       "<style scoped>\n",
       "    .dataframe tbody tr th:only-of-type {\n",
       "        vertical-align: middle;\n",
       "    }\n",
       "\n",
       "    .dataframe tbody tr th {\n",
       "        vertical-align: top;\n",
       "    }\n",
       "\n",
       "    .dataframe thead th {\n",
       "        text-align: right;\n",
       "    }\n",
       "</style>\n",
       "<table border=\"1\" class=\"dataframe\">\n",
       "  <thead>\n",
       "    <tr style=\"text-align: right;\">\n",
       "      <th></th>\n",
       "      <th>Zone</th>\n",
       "      <th>AnnéeCorrigé</th>\n",
       "      <th>NombreDePersonne_sous_nutrition</th>\n",
       "    </tr>\n",
       "  </thead>\n",
       "  <tbody>\n",
       "    <tr>\n",
       "      <th>4</th>\n",
       "      <td>Afghanistan</td>\n",
       "      <td>2017</td>\n",
       "      <td>10500000</td>\n",
       "    </tr>\n",
       "    <tr>\n",
       "      <th>10</th>\n",
       "      <td>Afrique du Sud</td>\n",
       "      <td>2017</td>\n",
       "      <td>3100000</td>\n",
       "    </tr>\n",
       "    <tr>\n",
       "      <th>16</th>\n",
       "      <td>Albanie</td>\n",
       "      <td>2017</td>\n",
       "      <td>100000</td>\n",
       "    </tr>\n",
       "    <tr>\n",
       "      <th>22</th>\n",
       "      <td>Algérie</td>\n",
       "      <td>2017</td>\n",
       "      <td>1300000</td>\n",
       "    </tr>\n",
       "    <tr>\n",
       "      <th>28</th>\n",
       "      <td>Allemagne</td>\n",
       "      <td>2017</td>\n",
       "      <td>0</td>\n",
       "    </tr>\n",
       "  </tbody>\n",
       "</table>\n",
       "</div>"
      ],
      "text/plain": [
       "              Zone  AnnéeCorrigé  NombreDePersonne_sous_nutrition\n",
       "4      Afghanistan          2017                         10500000\n",
       "10  Afrique du Sud          2017                          3100000\n",
       "16         Albanie          2017                           100000\n",
       "22         Algérie          2017                          1300000\n",
       "28       Allemagne          2017                                0"
      ]
     },
     "execution_count": 8,
     "metadata": {},
     "output_type": "execute_result"
    }
   ],
   "source": [
    "df_sous_nutrition2017=df_sous_nutrition[df_sous_nutrition['AnnéeCorrigé']==2017]\n",
    "del df_sous_nutrition2017['Année']\n",
    "del df_sous_nutrition2017['Valeur']\n",
    "df_sous_nutrition2017.head()\n",
    "\n",
    "#Le tableau de sous nutrition 2017 est crée avec le filtrage de 'AnnéeCorrigé' pour calculer le nombre de personne sous nutrition mondial en 2017"
   ]
  },
  {
   "cell_type": "markdown",
   "id": "78298b8f-9d36-4423-aa93-3c360b3f64ef",
   "metadata": {},
   "source": [
    "## Lire et Affichier le tableau df_population"
   ]
  },
  {
   "cell_type": "code",
   "execution_count": 9,
   "id": "2ac57247-4262-458d-ab70-8dc1c3971845",
   "metadata": {
    "tags": []
   },
   "outputs": [
    {
     "data": {
      "text/html": [
       "<div>\n",
       "<style scoped>\n",
       "    .dataframe tbody tr th:only-of-type {\n",
       "        vertical-align: middle;\n",
       "    }\n",
       "\n",
       "    .dataframe tbody tr th {\n",
       "        vertical-align: top;\n",
       "    }\n",
       "\n",
       "    .dataframe thead th {\n",
       "        text-align: right;\n",
       "    }\n",
       "</style>\n",
       "<table border=\"1\" class=\"dataframe\">\n",
       "  <thead>\n",
       "    <tr style=\"text-align: right;\">\n",
       "      <th></th>\n",
       "      <th>Zone</th>\n",
       "      <th>Année</th>\n",
       "      <th>Valeur</th>\n",
       "    </tr>\n",
       "  </thead>\n",
       "  <tbody>\n",
       "    <tr>\n",
       "      <th>0</th>\n",
       "      <td>Afghanistan</td>\n",
       "      <td>2013</td>\n",
       "      <td>32269.589</td>\n",
       "    </tr>\n",
       "    <tr>\n",
       "      <th>1</th>\n",
       "      <td>Afghanistan</td>\n",
       "      <td>2014</td>\n",
       "      <td>33370.794</td>\n",
       "    </tr>\n",
       "    <tr>\n",
       "      <th>2</th>\n",
       "      <td>Afghanistan</td>\n",
       "      <td>2015</td>\n",
       "      <td>34413.603</td>\n",
       "    </tr>\n",
       "    <tr>\n",
       "      <th>3</th>\n",
       "      <td>Afghanistan</td>\n",
       "      <td>2016</td>\n",
       "      <td>35383.032</td>\n",
       "    </tr>\n",
       "    <tr>\n",
       "      <th>4</th>\n",
       "      <td>Afghanistan</td>\n",
       "      <td>2017</td>\n",
       "      <td>36296.113</td>\n",
       "    </tr>\n",
       "  </tbody>\n",
       "</table>\n",
       "</div>"
      ],
      "text/plain": [
       "          Zone  Année     Valeur\n",
       "0  Afghanistan   2013  32269.589\n",
       "1  Afghanistan   2014  33370.794\n",
       "2  Afghanistan   2015  34413.603\n",
       "3  Afghanistan   2016  35383.032\n",
       "4  Afghanistan   2017  36296.113"
      ]
     },
     "execution_count": 9,
     "metadata": {},
     "output_type": "execute_result"
    }
   ],
   "source": [
    "df_population=pd.read_csv('C:/Users/PF/Desktop/openclassroom/P4 Réalisez une étude de santé publique avec R ou Python/population.csv')\n",
    "\n",
    "df_population.head()"
   ]
  },
  {
   "cell_type": "markdown",
   "id": "52d999a9-b814-4fb5-ba7d-2155b6d2d353",
   "metadata": {
    "tags": []
   },
   "source": [
    "### Explication de donnée de tableau df_population\n",
    "Un fichier de population qui inclut :\n",
    "-Le pays.\n",
    "-L’année.\n",
    "-La population du pays, exprimée en milliers d’habitants."
   ]
  },
  {
   "cell_type": "markdown",
   "id": "cfca62ab-bcdc-40c2-9a4b-7763b967537f",
   "metadata": {
    "tags": []
   },
   "source": [
    "### Vérifier général de df_population\n",
    "Verifier la colonne Valeur de df_population et les transformer dans une nouvelle colonne'Population'"
   ]
  },
  {
   "cell_type": "code",
   "execution_count": 10,
   "id": "e53473be-5958-4bfe-9c5c-fa44d11276dd",
   "metadata": {},
   "outputs": [
    {
     "name": "stdout",
     "output_type": "stream",
     "text": [
      "<class 'pandas.core.frame.DataFrame'>\n",
      "RangeIndex: 1416 entries, 0 to 1415\n",
      "Data columns (total 3 columns):\n",
      " #   Column  Non-Null Count  Dtype  \n",
      "---  ------  --------------  -----  \n",
      " 0   Zone    1416 non-null   object \n",
      " 1   Année   1416 non-null   int64  \n",
      " 2   Valeur  1416 non-null   float64\n",
      "dtypes: float64(1), int64(1), object(1)\n",
      "memory usage: 33.3+ KB\n"
     ]
    }
   ],
   "source": [
    "df_population.info()\n",
    "#sans valeur manquante dans le tableau population"
   ]
  },
  {
   "cell_type": "code",
   "execution_count": 11,
   "id": "64eaf490-9d3d-4f73-be29-4a5200fef597",
   "metadata": {},
   "outputs": [
    {
     "data": {
      "text/plain": [
       "Zone      0\n",
       "Année     0\n",
       "Valeur    0\n",
       "dtype: int64"
      ]
     },
     "execution_count": 11,
     "metadata": {},
     "output_type": "execute_result"
    }
   ],
   "source": [
    "df_population[df_population.Valeur<=0].count()\n",
    "#les données de la colonne 'Valeur' sont toutes conforme au besoin"
   ]
  },
  {
   "cell_type": "code",
   "execution_count": 12,
   "id": "bee7ec97-e8ae-45bb-8c16-fecb1659729e",
   "metadata": {},
   "outputs": [
    {
     "data": {
      "text/html": [
       "<div>\n",
       "<style scoped>\n",
       "    .dataframe tbody tr th:only-of-type {\n",
       "        vertical-align: middle;\n",
       "    }\n",
       "\n",
       "    .dataframe tbody tr th {\n",
       "        vertical-align: top;\n",
       "    }\n",
       "\n",
       "    .dataframe thead th {\n",
       "        text-align: right;\n",
       "    }\n",
       "</style>\n",
       "<table border=\"1\" class=\"dataframe\">\n",
       "  <thead>\n",
       "    <tr style=\"text-align: right;\">\n",
       "      <th></th>\n",
       "      <th>Zone</th>\n",
       "      <th>Année</th>\n",
       "      <th>Valeur</th>\n",
       "      <th>Population</th>\n",
       "    </tr>\n",
       "  </thead>\n",
       "  <tbody>\n",
       "    <tr>\n",
       "      <th>0</th>\n",
       "      <td>Afghanistan</td>\n",
       "      <td>2013</td>\n",
       "      <td>32269.589</td>\n",
       "      <td>32269589.0</td>\n",
       "    </tr>\n",
       "    <tr>\n",
       "      <th>1</th>\n",
       "      <td>Afghanistan</td>\n",
       "      <td>2014</td>\n",
       "      <td>33370.794</td>\n",
       "      <td>33370794.0</td>\n",
       "    </tr>\n",
       "    <tr>\n",
       "      <th>2</th>\n",
       "      <td>Afghanistan</td>\n",
       "      <td>2015</td>\n",
       "      <td>34413.603</td>\n",
       "      <td>34413603.0</td>\n",
       "    </tr>\n",
       "    <tr>\n",
       "      <th>3</th>\n",
       "      <td>Afghanistan</td>\n",
       "      <td>2016</td>\n",
       "      <td>35383.032</td>\n",
       "      <td>35383032.0</td>\n",
       "    </tr>\n",
       "    <tr>\n",
       "      <th>4</th>\n",
       "      <td>Afghanistan</td>\n",
       "      <td>2017</td>\n",
       "      <td>36296.113</td>\n",
       "      <td>36296113.0</td>\n",
       "    </tr>\n",
       "  </tbody>\n",
       "</table>\n",
       "</div>"
      ],
      "text/plain": [
       "          Zone  Année     Valeur  Population\n",
       "0  Afghanistan   2013  32269.589  32269589.0\n",
       "1  Afghanistan   2014  33370.794  33370794.0\n",
       "2  Afghanistan   2015  34413.603  34413603.0\n",
       "3  Afghanistan   2016  35383.032  35383032.0\n",
       "4  Afghanistan   2017  36296.113  36296113.0"
      ]
     },
     "execution_count": 12,
     "metadata": {},
     "output_type": "execute_result"
    }
   ],
   "source": [
    "df_population['Population']=df_population['Valeur']*1000\n",
    "df_population.head()\n",
    "#Transformer 'Valeur-unité en mille en Population-unité personne"
   ]
  },
  {
   "cell_type": "markdown",
   "id": "a309a272-86c6-4f80-b6bd-fdc4c0a05534",
   "metadata": {},
   "source": [
    "### Montrer df_population après le traitement des données"
   ]
  },
  {
   "cell_type": "code",
   "execution_count": 13,
   "id": "a6ef52c9-c06b-42b1-9c1b-e5d91975b264",
   "metadata": {},
   "outputs": [
    {
     "data": {
      "text/html": [
       "<div>\n",
       "<style scoped>\n",
       "    .dataframe tbody tr th:only-of-type {\n",
       "        vertical-align: middle;\n",
       "    }\n",
       "\n",
       "    .dataframe tbody tr th {\n",
       "        vertical-align: top;\n",
       "    }\n",
       "\n",
       "    .dataframe thead th {\n",
       "        text-align: right;\n",
       "    }\n",
       "</style>\n",
       "<table border=\"1\" class=\"dataframe\">\n",
       "  <thead>\n",
       "    <tr style=\"text-align: right;\">\n",
       "      <th></th>\n",
       "      <th>Zone</th>\n",
       "      <th>Année</th>\n",
       "      <th>Population</th>\n",
       "    </tr>\n",
       "  </thead>\n",
       "  <tbody>\n",
       "    <tr>\n",
       "      <th>4</th>\n",
       "      <td>Afghanistan</td>\n",
       "      <td>2017</td>\n",
       "      <td>36296113.0</td>\n",
       "    </tr>\n",
       "    <tr>\n",
       "      <th>10</th>\n",
       "      <td>Afrique du Sud</td>\n",
       "      <td>2017</td>\n",
       "      <td>57009756.0</td>\n",
       "    </tr>\n",
       "    <tr>\n",
       "      <th>16</th>\n",
       "      <td>Albanie</td>\n",
       "      <td>2017</td>\n",
       "      <td>2884169.0</td>\n",
       "    </tr>\n",
       "    <tr>\n",
       "      <th>22</th>\n",
       "      <td>Algérie</td>\n",
       "      <td>2017</td>\n",
       "      <td>41389189.0</td>\n",
       "    </tr>\n",
       "    <tr>\n",
       "      <th>28</th>\n",
       "      <td>Allemagne</td>\n",
       "      <td>2017</td>\n",
       "      <td>82658409.0</td>\n",
       "    </tr>\n",
       "  </tbody>\n",
       "</table>\n",
       "</div>"
      ],
      "text/plain": [
       "              Zone  Année  Population\n",
       "4      Afghanistan   2017  36296113.0\n",
       "10  Afrique du Sud   2017  57009756.0\n",
       "16         Albanie   2017   2884169.0\n",
       "22         Algérie   2017  41389189.0\n",
       "28       Allemagne   2017  82658409.0"
      ]
     },
     "execution_count": 13,
     "metadata": {},
     "output_type": "execute_result"
    }
   ],
   "source": [
    "df_population2017=df_population[df_population['Année']==2017]\n",
    "del df_population2017['Valeur']\n",
    "df_population2017.head()\n",
    "#Tableau Population 2017 est crée via le filtrage de 'Année' pour calculer la population mondiale 2017"
   ]
  },
  {
   "cell_type": "markdown",
   "id": "073a5d0e-1e59-4064-9ebf-8a59bc9ca9e0",
   "metadata": {},
   "source": [
    "### Réponse Question 1: Calculer la proportion de personnes en état de sous-nutrition"
   ]
  },
  {
   "cell_type": "code",
   "execution_count": 14,
   "id": "5e59880b-9841-4963-8a65-9e3ef4cf903f",
   "metadata": {},
   "outputs": [
    {
     "name": "stdout",
     "output_type": "stream",
     "text": [
      "la porportion sous nutrition mondiale est : 7.1 %\n"
     ]
    }
   ],
   "source": [
    "#Calculer le ratio Sous Nutrition par division\n",
    "Porportion_Sous_Nutrition_Mondial\\\n",
    "=df_sous_nutrition2017['NombreDePersonne_sous_nutrition'].sum()/df_population2017['Population'].sum()\n",
    "\n",
    "#Utiliser round pour arrondir le résultat\n",
    "print('la porportion sous nutrition mondiale est :', round(Porportion_Sous_Nutrition_Mondial*100,2),'%')"
   ]
  },
  {
   "cell_type": "code",
   "execution_count": 15,
   "id": "ec71d0fe-126d-4394-97e2-202152254140",
   "metadata": {},
   "outputs": [
    {
     "data": {
      "text/plain": [
       "Text(8.375, 0.5, 'Nombre de Personne (en Millard)')"
      ]
     },
     "execution_count": 15,
     "metadata": {},
     "output_type": "execute_result"
    },
    {
     "data": {
      "image/png": "[encoded data removed]",
      "text/plain": [
       "<Figure size 432x288 with 1 Axes>"
      ]
     },
     "metadata": {
      "needs_background": "light"
     },
     "output_type": "display_data"
    }
   ],
   "source": [
    "# Créer l'indicateur type vaterfall pour affichier les valeurs et\n",
    "#la relation 'Population Mondiale', 'Population sous nutrition','Population sécurisé'\n",
    "\n",
    "import waterfall_chart\n",
    "import matplotlib.pyplot as plt\n",
    "x = [round(((df_population2017['Population'].sum()-df_sous_nutrition2017['NombreDePersonne_sous_nutrition'].sum())/1000000000),4), \n",
    "     round((df_sous_nutrition2017['NombreDePersonne_sous_nutrition'].sum()/1000000000),4)]\n",
    "label = [\"Population Sécurisé\",\"Population_Sous_Nutrition\"]\n",
    "waterfall_chart.plot(label, x, net_label='Population Mondiale',rotation_value=0,formatting='{:,.4f}')\n",
    "plt.title(\"Sécurité Alimentaire Mondiale 2017\")\n",
    "plt.ylabel(\"Nombre de Personne (en Millard)\")"
   ]
  },
  {
   "cell_type": "code",
   "execution_count": 16,
   "id": "6f413f07-218d-4193-8421-34a172530c24",
   "metadata": {},
   "outputs": [
    {
     "data": {
      "image/png": "[encoded data removed]",
      "text/plain": [
       "<Figure size 432x432 with 1 Axes>"
      ]
     },
     "metadata": {},
     "output_type": "display_data"
    }
   ],
   "source": [
    "#Créer graphique type camembert pour affichier la proportion de population sous nutrition\n",
    "\n",
    "x = [(1-Porportion_Sous_Nutrition_Mondial), Porportion_Sous_Nutrition_Mondial]\n",
    "plt.figure(figsize=(6,6))\n",
    "plt.pie(x, labels = ['', 'Propotion Population Sous Nutrition'],\n",
    "           colors = ['green', 'red'],\n",
    "           explode = [0, 0.4],autopct = lambda x: str(round(x, 2)) + '%',pctdistance = 0.7, labeldistance = 1.2,shadow = True)\n",
    "plt.title(\"Propotion Population Sous Nutrition Mondiale 2017\")\n",
    "plt.show()"
   ]
  },
  {
   "cell_type": "markdown",
   "id": "56665345-972e-4034-89bc-2ce8d7088db0",
   "metadata": {},
   "source": [
    "### Question2 le nombre théorique de personnes qui pourraient être nourries en 2017\n",
    "\n",
    "#### Résultat:\n",
    "Année 2017\n",
    "\n",
    "En calorie: Disponibilité 7,732,467Mds Kcal, Nombre des personnes Nourries en théorie 8.47Mds, \n",
    "\n",
    "            Equivalent de 112.27% Population Mondiale\n",
    "\n",
    "En Protéine: Disponibilité 216.76M Tonnes, Nombre des personnes Nourries en théorie 11.93Mds, \n",
    "\n",
    "             Equivalent de 157.99% Population Mondiale\n",
    "\n",
    "#### Méthode:\n",
    "\n",
    "Pour répondre cette question, il faut voir le tableau df_dispo_alimentaire en calculant Disponibilité alimentaire Mondiale en 2017. Puis il faut identifier le besoin nécessaire par personne par an recommandé par l'organisme de santé. A la fin, le nombre théorique de personnes qui pourraient être nourries en 2017 sera obtenu via la division entre Disponibilité alimentaire Mondiale en 2017 et le besoin par personne par an recommandé."
   ]
  },
  {
   "cell_type": "markdown",
   "id": "ae9a4dbe-6da3-4076-8aa7-aafc188e03cd",
   "metadata": {},
   "source": [
    "### Lire et Affichier le tableau df_dispo_alimentaire"
   ]
  },
  {
   "cell_type": "code",
   "execution_count": 17,
   "id": "f89e59fa-1cf6-468c-8a1e-52a857c9eb20",
   "metadata": {
    "tags": []
   },
   "outputs": [
    {
     "data": {
      "text/html": [
       "<div>\n",
       "<style scoped>\n",
       "    .dataframe tbody tr th:only-of-type {\n",
       "        vertical-align: middle;\n",
       "    }\n",
       "\n",
       "    .dataframe tbody tr th {\n",
       "        vertical-align: top;\n",
       "    }\n",
       "\n",
       "    .dataframe thead th {\n",
       "        text-align: right;\n",
       "    }\n",
       "</style>\n",
       "<table border=\"1\" class=\"dataframe\">\n",
       "  <thead>\n",
       "    <tr style=\"text-align: right;\">\n",
       "      <th></th>\n",
       "      <th>Zone</th>\n",
       "      <th>Produit</th>\n",
       "      <th>Origine</th>\n",
       "      <th>Aliments pour animaux</th>\n",
       "      <th>Autres Utilisations</th>\n",
       "      <th>Disponibilité alimentaire (Kcal/personne/jour)</th>\n",
       "      <th>Disponibilité alimentaire en quantité (kg/personne/an)</th>\n",
       "      <th>Disponibilité de matière grasse en quantité (g/personne/jour)</th>\n",
       "      <th>Disponibilité de protéines en quantité (g/personne/jour)</th>\n",
       "      <th>Disponibilité intérieure</th>\n",
       "      <th>Exportations - Quantité</th>\n",
       "      <th>Importations - Quantité</th>\n",
       "      <th>Nourriture</th>\n",
       "      <th>Pertes</th>\n",
       "      <th>Production</th>\n",
       "      <th>Semences</th>\n",
       "      <th>Traitement</th>\n",
       "      <th>Variation de stock</th>\n",
       "    </tr>\n",
       "  </thead>\n",
       "  <tbody>\n",
       "    <tr>\n",
       "      <th>0</th>\n",
       "      <td>Afghanistan</td>\n",
       "      <td>Abats Comestible</td>\n",
       "      <td>animale</td>\n",
       "      <td>NaN</td>\n",
       "      <td>NaN</td>\n",
       "      <td>5.0</td>\n",
       "      <td>1.72</td>\n",
       "      <td>0.20</td>\n",
       "      <td>0.77</td>\n",
       "      <td>53.0</td>\n",
       "      <td>NaN</td>\n",
       "      <td>NaN</td>\n",
       "      <td>53.0</td>\n",
       "      <td>NaN</td>\n",
       "      <td>53.0</td>\n",
       "      <td>NaN</td>\n",
       "      <td>NaN</td>\n",
       "      <td>NaN</td>\n",
       "    </tr>\n",
       "    <tr>\n",
       "      <th>1</th>\n",
       "      <td>Afghanistan</td>\n",
       "      <td>Agrumes, Autres</td>\n",
       "      <td>vegetale</td>\n",
       "      <td>NaN</td>\n",
       "      <td>NaN</td>\n",
       "      <td>1.0</td>\n",
       "      <td>1.29</td>\n",
       "      <td>0.01</td>\n",
       "      <td>0.02</td>\n",
       "      <td>41.0</td>\n",
       "      <td>2.0</td>\n",
       "      <td>40.0</td>\n",
       "      <td>39.0</td>\n",
       "      <td>2.0</td>\n",
       "      <td>3.0</td>\n",
       "      <td>NaN</td>\n",
       "      <td>NaN</td>\n",
       "      <td>NaN</td>\n",
       "    </tr>\n",
       "    <tr>\n",
       "      <th>2</th>\n",
       "      <td>Afghanistan</td>\n",
       "      <td>Aliments pour enfants</td>\n",
       "      <td>vegetale</td>\n",
       "      <td>NaN</td>\n",
       "      <td>NaN</td>\n",
       "      <td>1.0</td>\n",
       "      <td>0.06</td>\n",
       "      <td>0.01</td>\n",
       "      <td>0.03</td>\n",
       "      <td>2.0</td>\n",
       "      <td>NaN</td>\n",
       "      <td>2.0</td>\n",
       "      <td>2.0</td>\n",
       "      <td>NaN</td>\n",
       "      <td>NaN</td>\n",
       "      <td>NaN</td>\n",
       "      <td>NaN</td>\n",
       "      <td>NaN</td>\n",
       "    </tr>\n",
       "    <tr>\n",
       "      <th>3</th>\n",
       "      <td>Afghanistan</td>\n",
       "      <td>Ananas</td>\n",
       "      <td>vegetale</td>\n",
       "      <td>NaN</td>\n",
       "      <td>NaN</td>\n",
       "      <td>0.0</td>\n",
       "      <td>0.00</td>\n",
       "      <td>NaN</td>\n",
       "      <td>NaN</td>\n",
       "      <td>0.0</td>\n",
       "      <td>NaN</td>\n",
       "      <td>0.0</td>\n",
       "      <td>0.0</td>\n",
       "      <td>NaN</td>\n",
       "      <td>NaN</td>\n",
       "      <td>NaN</td>\n",
       "      <td>NaN</td>\n",
       "      <td>NaN</td>\n",
       "    </tr>\n",
       "    <tr>\n",
       "      <th>4</th>\n",
       "      <td>Afghanistan</td>\n",
       "      <td>Bananes</td>\n",
       "      <td>vegetale</td>\n",
       "      <td>NaN</td>\n",
       "      <td>NaN</td>\n",
       "      <td>4.0</td>\n",
       "      <td>2.70</td>\n",
       "      <td>0.02</td>\n",
       "      <td>0.05</td>\n",
       "      <td>82.0</td>\n",
       "      <td>NaN</td>\n",
       "      <td>82.0</td>\n",
       "      <td>82.0</td>\n",
       "      <td>NaN</td>\n",
       "      <td>NaN</td>\n",
       "      <td>NaN</td>\n",
       "      <td>NaN</td>\n",
       "      <td>NaN</td>\n",
       "    </tr>\n",
       "  </tbody>\n",
       "</table>\n",
       "</div>"
      ],
      "text/plain": [
       "          Zone                Produit   Origine  Aliments pour animaux  \\\n",
       "0  Afghanistan       Abats Comestible   animale                    NaN   \n",
       "1  Afghanistan        Agrumes, Autres  vegetale                    NaN   \n",
       "2  Afghanistan  Aliments pour enfants  vegetale                    NaN   \n",
       "3  Afghanistan                 Ananas  vegetale                    NaN   \n",
       "4  Afghanistan                Bananes  vegetale                    NaN   \n",
       "\n",
       "   Autres Utilisations  Disponibilité alimentaire (Kcal/personne/jour)  \\\n",
       "0                  NaN                                             5.0   \n",
       "1                  NaN                                             1.0   \n",
       "2                  NaN                                             1.0   \n",
       "3                  NaN                                             0.0   \n",
       "4                  NaN                                             4.0   \n",
       "\n",
       "   Disponibilité alimentaire en quantité (kg/personne/an)  \\\n",
       "0                                               1.72        \n",
       "1                                               1.29        \n",
       "2                                               0.06        \n",
       "3                                               0.00        \n",
       "4                                               2.70        \n",
       "\n",
       "   Disponibilité de matière grasse en quantité (g/personne/jour)  \\\n",
       "0                                               0.20               \n",
       "1                                               0.01               \n",
       "2                                               0.01               \n",
       "3                                                NaN               \n",
       "4                                               0.02               \n",
       "\n",
       "   Disponibilité de protéines en quantité (g/personne/jour)  \\\n",
       "0                                               0.77          \n",
       "1                                               0.02          \n",
       "2                                               0.03          \n",
       "3                                                NaN          \n",
       "4                                               0.05          \n",
       "\n",
       "   Disponibilité intérieure  Exportations - Quantité  Importations - Quantité  \\\n",
       "0                      53.0                      NaN                      NaN   \n",
       "1                      41.0                      2.0                     40.0   \n",
       "2                       2.0                      NaN                      2.0   \n",
       "3                       0.0                      NaN                      0.0   \n",
       "4                      82.0                      NaN                     82.0   \n",
       "\n",
       "   Nourriture  Pertes  Production  Semences  Traitement  Variation de stock  \n",
       "0        53.0     NaN        53.0       NaN         NaN                 NaN  \n",
       "1        39.0     2.0         3.0       NaN         NaN                 NaN  \n",
       "2         2.0     NaN         NaN       NaN         NaN                 NaN  \n",
       "3         0.0     NaN         NaN       NaN         NaN                 NaN  \n",
       "4        82.0     NaN         NaN       NaN         NaN                 NaN  "
      ]
     },
     "execution_count": 17,
     "metadata": {},
     "output_type": "execute_result"
    }
   ],
   "source": [
    "df_dispo_alimentaire=pd.read_csv('C:/Users/PF/Desktop/openclassroom/P4 Réalisez une étude de santé publique avec R ou Python/dispo_alimentaire.csv')\n",
    "df_dispo_alimentaire.head()"
   ]
  },
  {
   "cell_type": "markdown",
   "id": "df788aac-a431-4414-ad85-7215d0f0de07",
   "metadata": {},
   "source": [
    "### Explication de tableau df_dispo_alimentaire\n",
    "1.Un fichier de disponibilité alimentaire pour l’année 2017 qui contient 17 variables :\n",
    "-Le pays.\n",
    "-Le produit.\n",
    "-4 variables de disponibilité alimentaire.\n",
    "\n",
    "Ces 4 variables sont exprimées dans des unités bien spécifiques,qui sont précisées directement dans le nom de la variable.\\ À noter cependant que la notation kcal est un abus de langage,elle correspand à une calorie réelle.\\\n",
    "\n",
    "-10 variables qui précisent les utilisations/moyens d’acquisition de la disponibilité alimentaire.\\ Elles sont toutes exprimées en milliers de tonnes.\n",
    "-Enfin, une variable type qui précise si le produit est d’origine animale ou végétale.\n"
   ]
  },
  {
   "cell_type": "code",
   "execution_count": 18,
   "id": "9c2ad7f3-e8e3-4141-a5bb-f9dcee8dd99a",
   "metadata": {},
   "outputs": [
    {
     "name": "stdout",
     "output_type": "stream",
     "text": [
      "<class 'pandas.core.frame.DataFrame'>\n",
      "RangeIndex: 15605 entries, 0 to 15604\n",
      "Data columns (total 18 columns):\n",
      " #   Column                                                         Non-Null Count  Dtype  \n",
      "---  ------                                                         --------------  -----  \n",
      " 0   Zone                                                           15605 non-null  object \n",
      " 1   Produit                                                        15605 non-null  object \n",
      " 2   Origine                                                        15605 non-null  object \n",
      " 3   Aliments pour animaux                                          2720 non-null   float64\n",
      " 4   Autres Utilisations                                            5496 non-null   float64\n",
      " 5   Disponibilité alimentaire (Kcal/personne/jour)                 14241 non-null  float64\n",
      " 6   Disponibilité alimentaire en quantité (kg/personne/an)         14015 non-null  float64\n",
      " 7   Disponibilité de matière grasse en quantité (g/personne/jour)  11794 non-null  float64\n",
      " 8   Disponibilité de protéines en quantité (g/personne/jour)       11561 non-null  float64\n",
      " 9   Disponibilité intérieure                                       15382 non-null  float64\n",
      " 10  Exportations - Quantité                                        12226 non-null  float64\n",
      " 11  Importations - Quantité                                        14852 non-null  float64\n",
      " 12  Nourriture                                                     14015 non-null  float64\n",
      " 13  Pertes                                                         4278 non-null   float64\n",
      " 14  Production                                                     9180 non-null   float64\n",
      " 15  Semences                                                       2091 non-null   float64\n",
      " 16  Traitement                                                     2292 non-null   float64\n",
      " 17  Variation de stock                                             6776 non-null   float64\n",
      "dtypes: float64(15), object(3)\n",
      "memory usage: 2.1+ MB\n"
     ]
    }
   ],
   "source": [
    "df_dispo_alimentaire.info()\n",
    "# Avec les données montées par la méthode .info(), on trouve qu'il existe 15605 lignes de données, \n",
    "# dont il y a les données manquantes dans les disponibilité alimentaire en Kcal et en Protéine"
   ]
  },
  {
   "cell_type": "markdown",
   "id": "a6a08b80-074b-4ee2-94f6-0fbc7e443b1f",
   "metadata": {},
   "source": [
    "### Pour calculer la disponibilité alimentaire 2017, il faut ajouter la population 2017 dans le tableau df_dispo_alimentaire, donc il faut fusionner ce dernier avec le tableau df_population2017 utilisé dans la dernière question.\n",
    "\n",
    "Vérifier la cohérence de liste des pays dans les 2 tableaux et intégrer la population 2017 dans df_dispo_alimentaire\n",
    "\n",
    "#### Avant de fusioner les tableaux, on compare la cohérence des pays dans 2 tableaux.\n",
    "Par l'analyse ci dessous, on trouve que df_dispo_alimentaire utilise le nom des pays ['Royaume-Uni', 'Tchéquie (la)'], mais ['Royaume-Uni de Grande-Bretagne et d'Irlande du Nord', 'Tchéquie (la)'] df_population2017, donc il faut mettre en cohérence dans df_population2017 avant de fusionner les 2 tableaux"
   ]
  },
  {
   "cell_type": "code",
   "execution_count": 19,
   "id": "c437f596-9b9b-4622-8dc9-7745a4f41593",
   "metadata": {},
   "outputs": [
    {
     "name": "stdout",
     "output_type": "stream",
     "text": [
      "Pays connu de df_dispo_alimentaire mais inconnu de df_population2017:\n",
      " ['Tchéquie (la)', 'Royaume-Uni']\n"
     ]
    }
   ],
   "source": [
    "ListPaysDispoAlimentaire=df_dispo_alimentaire.Zone.unique().tolist()\n",
    "ListPaysPoPulation=df_population2017.Zone.unique().tolist()\n",
    "print('Pays connu de df_dispo_alimentaire mais inconnu de df_population2017:\\n'\n",
    "      ,list(set(ListPaysDispoAlimentaire)-set(ListPaysPoPulation)))\n",
    "# 2 différences concernant la nommination des pays sont identifiées"
   ]
  },
  {
   "cell_type": "code",
   "execution_count": 20,
   "id": "1ea47ccc-6b1f-4c15-8a40-cc78a3d0f075",
   "metadata": {},
   "outputs": [
    {
     "data": {
      "text/plain": [
       "array(['Afghanistan', 'Afrique du Sud', 'Albanie', 'Algérie', 'Allemagne',\n",
       "       'Angola', 'Antigua-et-Barbuda', 'Arabie saoudite', 'Argentine',\n",
       "       'Arménie', 'Australie', 'Autriche', 'Azerbaïdjan', 'Bahamas',\n",
       "       'Bangladesh', 'Barbade', 'Belgique', 'Belize', 'Bermudes',\n",
       "       'Bolivie (État plurinational de)', 'Bosnie-Herzégovine',\n",
       "       'Botswana', 'Brunéi Darussalam', 'Brésil', 'Bulgarie',\n",
       "       'Burkina Faso', 'Bélarus', 'Bénin', 'Cabo Verde', 'Cambodge',\n",
       "       'Cameroun', 'Canada', 'Chili', 'Chine - RAS de Hong-Kong',\n",
       "       'Chine - RAS de Macao', 'Chine, Taiwan Province de',\n",
       "       'Chine, continentale', 'Chypre', 'Colombie', 'Congo', 'Costa Rica',\n",
       "       'Croatie', 'Cuba', \"Côte d'Ivoire\", 'Danemark', 'Djibouti',\n",
       "       'Dominique', 'El Salvador', 'Espagne', 'Estonie', 'Eswatini',\n",
       "       'Fidji', 'Finlande', 'France', 'Fédération de Russie', 'Gabon',\n",
       "       'Gambie', 'Ghana', 'Grenade', 'Grèce', 'Guatemala', 'Guinée',\n",
       "       'Guinée-Bissau', 'Guyana', 'Géorgie', 'Haïti', 'Honduras',\n",
       "       'Hongrie', 'Inde', 'Indonésie', \"Iran (République islamique d')\",\n",
       "       'Iraq', 'Irlande', 'Islande', 'Israël', 'Italie', 'Jamaïque',\n",
       "       'Japon', 'Jordanie', 'Kazakhstan', 'Kenya', 'Kirghizistan',\n",
       "       'Kiribati', 'Koweït', 'Lesotho', 'Lettonie', 'Liban', 'Libéria',\n",
       "       'Lituanie', 'Luxembourg', 'Macédoine du Nord', 'Madagascar',\n",
       "       'Malaisie', 'Malawi', 'Maldives', 'Mali', 'Malte', 'Maroc',\n",
       "       'Maurice', 'Mauritanie', 'Mexique', 'Mongolie', 'Monténégro',\n",
       "       'Mozambique', 'Myanmar', 'Namibie', 'Nicaragua', 'Niger',\n",
       "       'Nigéria', 'Norvège', 'Nouvelle-Calédonie', 'Nouvelle-Zélande',\n",
       "       'Népal', 'Oman', 'Ouganda', 'Ouzbékistan', 'Pakistan', 'Panama',\n",
       "       'Paraguay', 'Pays-Bas', 'Philippines', 'Pologne',\n",
       "       'Polynésie française', 'Portugal', 'Pérou', 'Roumanie',\n",
       "       'Royaume-Uni', 'Rwanda', 'République centrafricaine',\n",
       "       'République de Corée', 'République de Moldova',\n",
       "       'République dominicaine', 'République démocratique populaire lao',\n",
       "       'République populaire démocratique de Corée',\n",
       "       'République-Unie de Tanzanie', 'Saint-Kitts-et-Nevis',\n",
       "       'Saint-Vincent-et-les Grenadines', 'Sainte-Lucie', 'Samoa',\n",
       "       'Sao Tomé-et-Principe', 'Serbie', 'Sierra Leone', 'Slovaquie',\n",
       "       'Slovénie', 'Soudan', 'Sri Lanka', 'Suisse', 'Suriname', 'Suède',\n",
       "       'Sénégal', 'Tadjikistan', 'Tchad', 'Tchéquie (la)', 'Thaïlande',\n",
       "       'Timor-Leste', 'Togo', 'Trinité-et-Tobago', 'Tunisie',\n",
       "       'Turkménistan', 'Turquie', 'Ukraine', 'Uruguay', 'Vanuatu',\n",
       "       'Venezuela (République bolivarienne du)', 'Viet Nam', 'Yémen',\n",
       "       'Zambie', 'Zimbabwe', 'Égypte', 'Émirats arabes unis', 'Équateur',\n",
       "       \"États-Unis d'Amérique\", 'Éthiopie', 'Îles Salomon'], dtype=object)"
      ]
     },
     "metadata": {},
     "output_type": "display_data"
    },
    {
     "data": {
      "text/plain": [
       "array(['Afghanistan', 'Afrique du Sud', 'Albanie', 'Algérie', 'Allemagne',\n",
       "       'Andorre', 'Angola', 'Anguilla', 'Antigua-et-Barbuda',\n",
       "       'Antilles néerlandaises (ex)', 'Arabie saoudite', 'Argentine',\n",
       "       'Arménie', 'Aruba', 'Australie', 'Autriche', 'Azerbaïdjan',\n",
       "       'Bahamas', 'Bahreïn', 'Bangladesh', 'Barbade', 'Bélarus',\n",
       "       'Belgique', 'Belize', 'Bénin', 'Bermudes', 'Bhoutan',\n",
       "       'Bolivie (État plurinational de)',\n",
       "       'Bonaire, Saint-Eustache et Saba', 'Bosnie-Herzégovine',\n",
       "       'Botswana', 'Brésil', 'Brunéi Darussalam', 'Bulgarie',\n",
       "       'Burkina Faso', 'Burundi', 'Cabo Verde', 'Cambodge', 'Cameroun',\n",
       "       'Canada', 'Chili', 'Chine - RAS de Hong-Kong',\n",
       "       'Chine - RAS de Macao', 'Chine, continentale',\n",
       "       'Chine, Taiwan Province de', 'Chypre', 'Colombie', 'Comores',\n",
       "       'Congo', 'Costa Rica', \"Côte d'Ivoire\", 'Croatie', 'Cuba',\n",
       "       'Curaçao', 'Danemark', 'Djibouti', 'Dominique', 'Égypte',\n",
       "       'El Salvador', 'Émirats arabes unis', 'Équateur', 'Érythrée',\n",
       "       'Espagne', 'Estonie', 'Eswatini', \"États-Unis d'Amérique\",\n",
       "       'Éthiopie', 'Fédération de Russie', 'Fidji', 'Finlande', 'France',\n",
       "       'Gabon', 'Gambie', 'Géorgie', 'Ghana', 'Gibraltar', 'Grèce',\n",
       "       'Grenade', 'Groenland', 'Guadeloupe', 'Guam', 'Guatemala',\n",
       "       'Guinée', 'Guinée équatoriale', 'Guinée-Bissau', 'Guyana',\n",
       "       'Guyane française', 'Haïti', 'Honduras', 'Hongrie', 'Île de Man',\n",
       "       'Îles Anglo-Normandes', 'Îles Caïmanes', 'Îles Cook',\n",
       "       'Îles Falkland (Malvinas)', 'Îles Féroé', 'Îles Mariannes du Nord',\n",
       "       'Îles Marshall', 'Îles Salomon', 'Îles Turques-et-Caïques',\n",
       "       'Îles Vierges américaines', 'Îles Vierges britanniques',\n",
       "       'Îles Wallis-et-Futuna', 'Inde', 'Indonésie',\n",
       "       \"Iran (République islamique d')\", 'Iraq', 'Irlande', 'Islande',\n",
       "       'Israël', 'Italie', 'Jamaïque', 'Japon', 'Jordanie', 'Kazakhstan',\n",
       "       'Kenya', 'Kirghizistan', 'Kiribati', 'Koweït', 'Lesotho',\n",
       "       'Lettonie', 'Liban', 'Libéria', 'Libye', 'Liechtenstein',\n",
       "       'Lituanie', 'Luxembourg', 'Macédoine du Nord', 'Madagascar',\n",
       "       'Malaisie', 'Malawi', 'Maldives', 'Mali', 'Malte', 'Maroc',\n",
       "       'Martinique', 'Maurice', 'Mauritanie', 'Mayotte', 'Mexique',\n",
       "       'Micronésie (États fédérés de)', 'Monaco', 'Mongolie',\n",
       "       'Monténégro', 'Montserrat', 'Mozambique', 'Myanmar', 'Namibie',\n",
       "       'Nauru', 'Népal', 'Nicaragua', 'Niger', 'Nigéria', 'Nioué',\n",
       "       'Norvège', 'Nouvelle-Calédonie', 'Nouvelle-Zélande', 'Oman',\n",
       "       'Ouganda', 'Ouzbékistan', 'Pakistan', 'Palaos', 'Palestine',\n",
       "       'Panama', 'Papouasie-Nouvelle-Guinée', 'Paraguay', 'Pays-Bas',\n",
       "       'Pérou', 'Philippines', 'Pologne', 'Polynésie française',\n",
       "       'Porto Rico', 'Portugal', 'Qatar', 'République arabe syrienne',\n",
       "       'République centrafricaine', 'République de Corée',\n",
       "       'République de Moldova', 'République démocratique du Congo',\n",
       "       'République démocratique populaire lao', 'République dominicaine',\n",
       "       'République populaire démocratique de Corée',\n",
       "       'République-Unie de Tanzanie', 'Réunion', 'Roumanie',\n",
       "       \"Royaume-Uni de Grande-Bretagne et d'Irlande du Nord\", 'Rwanda',\n",
       "       'Sahara occidental', 'Saint-Barthélemy',\n",
       "       'Sainte-Hélène, Ascension et Tristan da Cunha', 'Sainte-Lucie',\n",
       "       'Saint-Kitts-et-Nevis', 'Saint-Marin',\n",
       "       'Saint-Martin (partie française)', 'Saint-Pierre-et-Miquelon',\n",
       "       'Saint-Siège', 'Saint-Vincent-et-les Grenadines', 'Samoa',\n",
       "       'Samoa américaines', 'Sao Tomé-et-Principe', 'Sénégal', 'Serbie',\n",
       "       'Seychelles', 'Sierra Leone', 'Singapour',\n",
       "       'Sint Maarten  (partie néerlandaise)', 'Slovaquie', 'Slovénie',\n",
       "       'Somalie', 'Soudan', 'Soudan du Sud', 'Sri Lanka', 'Suède',\n",
       "       'Suisse', 'Suriname', 'Tadjikistan', 'Tchad', 'Tchéquie',\n",
       "       'Thaïlande', 'Timor-Leste', 'Togo', 'Tokélaou', 'Tonga',\n",
       "       'Trinité-et-Tobago', 'Tunisie', 'Turkménistan', 'Turquie',\n",
       "       'Tuvalu', 'Ukraine', 'Uruguay', 'Vanuatu',\n",
       "       'Venezuela (République bolivarienne du)', 'Viet Nam', 'Yémen',\n",
       "       'Zambie', 'Zimbabwe'], dtype=object)"
      ]
     },
     "metadata": {},
     "output_type": "display_data"
    }
   ],
   "source": [
    "#Vérifier les 2 différents nomminations des pays en détail\n",
    "display(df_dispo_alimentaire.Zone.unique())\n",
    "display(df_population2017.Zone.unique())"
   ]
  },
  {
   "cell_type": "markdown",
   "id": "47df8ff1-1229-43a8-81c9-c51b996d9afb",
   "metadata": {},
   "source": [
    "###\n",
    "Par l'analyse ci dessus, on trouve que df_dispo_alimentaire utilise le nom des pays ['Royaume-Uni', 'Tchéquie (la)'], mais ['Royaume-Uni de Grande-Bretagne et d'Irlande du Nord', 'Tchéquie (la)'] df_population2017, donc il faut mettre en cohérence dans df_population2017 avant de fusionner les 2 tableaux"
   ]
  },
  {
   "cell_type": "code",
   "execution_count": 21,
   "id": "b4ffa284-b529-49a3-9ec4-0e5e8588ac5d",
   "metadata": {},
   "outputs": [
    {
     "name": "stderr",
     "output_type": "stream",
     "text": [
      "C:\\Users\\PF\\AppData\\Local\\Temp\\ipykernel_9192\\2928237623.py:2: SettingWithCopyWarning: \n",
      "A value is trying to be set on a copy of a slice from a DataFrame.\n",
      "Try using .loc[row_indexer,col_indexer] = value instead\n",
      "\n",
      "See the caveats in the documentation: https://pandas.pydata.org/pandas-docs/stable/user_guide/indexing.html#returning-a-view-versus-a-copy\n",
      "  df_population2017['Zone'] = df_population2017['Zone'].replace(['Tchéquie',\"Royaume-Uni de Grande-Bretagne et d'Irlande du Nord\"],['Tchéquie (la)','Royaume-Uni'])\n"
     ]
    },
    {
     "data": {
      "text/html": [
       "<div>\n",
       "<style scoped>\n",
       "    .dataframe tbody tr th:only-of-type {\n",
       "        vertical-align: middle;\n",
       "    }\n",
       "\n",
       "    .dataframe tbody tr th {\n",
       "        vertical-align: top;\n",
       "    }\n",
       "\n",
       "    .dataframe thead th {\n",
       "        text-align: right;\n",
       "    }\n",
       "</style>\n",
       "<table border=\"1\" class=\"dataframe\">\n",
       "  <thead>\n",
       "    <tr style=\"text-align: right;\">\n",
       "      <th></th>\n",
       "      <th>Zone</th>\n",
       "      <th>Année</th>\n",
       "      <th>Population</th>\n",
       "    </tr>\n",
       "  </thead>\n",
       "  <tbody>\n",
       "    <tr>\n",
       "      <th>1114</th>\n",
       "      <td>Royaume-Uni</td>\n",
       "      <td>2017</td>\n",
       "      <td>66727461.0</td>\n",
       "    </tr>\n",
       "    <tr>\n",
       "      <th>1306</th>\n",
       "      <td>Tchéquie (la)</td>\n",
       "      <td>2017</td>\n",
       "      <td>10641034.0</td>\n",
       "    </tr>\n",
       "  </tbody>\n",
       "</table>\n",
       "</div>"
      ],
      "text/plain": [
       "               Zone  Année  Population\n",
       "1114    Royaume-Uni   2017  66727461.0\n",
       "1306  Tchéquie (la)   2017  10641034.0"
      ]
     },
     "execution_count": 21,
     "metadata": {},
     "output_type": "execute_result"
    }
   ],
   "source": [
    "#Uniformiser les nominations des pays\n",
    "df_population2017['Zone'] = df_population2017['Zone'].replace(['Tchéquie',\"Royaume-Uni de Grande-Bretagne et d'Irlande du Nord\"],['Tchéquie (la)','Royaume-Uni'])\n",
    "df_population2017[(df_population2017['Zone']=='Royaume-Uni') | (df_population2017['Zone']=='Tchéquie (la)')]                                                                                                                                  "
   ]
  },
  {
   "cell_type": "code",
   "execution_count": 22,
   "id": "1e169f2a-5664-402a-99bb-406ac4d288fd",
   "metadata": {},
   "outputs": [
    {
     "data": {
      "text/html": [
       "<div>\n",
       "<style scoped>\n",
       "    .dataframe tbody tr th:only-of-type {\n",
       "        vertical-align: middle;\n",
       "    }\n",
       "\n",
       "    .dataframe tbody tr th {\n",
       "        vertical-align: top;\n",
       "    }\n",
       "\n",
       "    .dataframe thead th {\n",
       "        text-align: right;\n",
       "    }\n",
       "</style>\n",
       "<table border=\"1\" class=\"dataframe\">\n",
       "  <thead>\n",
       "    <tr style=\"text-align: right;\">\n",
       "      <th></th>\n",
       "      <th>Zone</th>\n",
       "      <th>Produit</th>\n",
       "      <th>Origine</th>\n",
       "      <th>Aliments pour animaux</th>\n",
       "      <th>Autres Utilisations</th>\n",
       "      <th>Disponibilité alimentaire (Kcal/personne/jour)</th>\n",
       "      <th>Disponibilité alimentaire en quantité (kg/personne/an)</th>\n",
       "      <th>Disponibilité de matière grasse en quantité (g/personne/jour)</th>\n",
       "      <th>Disponibilité de protéines en quantité (g/personne/jour)</th>\n",
       "      <th>Disponibilité intérieure</th>\n",
       "      <th>Exportations - Quantité</th>\n",
       "      <th>Importations - Quantité</th>\n",
       "      <th>Nourriture</th>\n",
       "      <th>Pertes</th>\n",
       "      <th>Production</th>\n",
       "      <th>Semences</th>\n",
       "      <th>Traitement</th>\n",
       "      <th>Variation de stock</th>\n",
       "      <th>Année</th>\n",
       "      <th>Population</th>\n",
       "    </tr>\n",
       "  </thead>\n",
       "  <tbody>\n",
       "    <tr>\n",
       "      <th>0</th>\n",
       "      <td>Afghanistan</td>\n",
       "      <td>Abats Comestible</td>\n",
       "      <td>animale</td>\n",
       "      <td>NaN</td>\n",
       "      <td>NaN</td>\n",
       "      <td>5.0</td>\n",
       "      <td>1.72</td>\n",
       "      <td>0.20</td>\n",
       "      <td>0.77</td>\n",
       "      <td>53.0</td>\n",
       "      <td>NaN</td>\n",
       "      <td>NaN</td>\n",
       "      <td>53.0</td>\n",
       "      <td>NaN</td>\n",
       "      <td>53.0</td>\n",
       "      <td>NaN</td>\n",
       "      <td>NaN</td>\n",
       "      <td>NaN</td>\n",
       "      <td>2017</td>\n",
       "      <td>36296113.0</td>\n",
       "    </tr>\n",
       "    <tr>\n",
       "      <th>1</th>\n",
       "      <td>Afghanistan</td>\n",
       "      <td>Agrumes, Autres</td>\n",
       "      <td>vegetale</td>\n",
       "      <td>NaN</td>\n",
       "      <td>NaN</td>\n",
       "      <td>1.0</td>\n",
       "      <td>1.29</td>\n",
       "      <td>0.01</td>\n",
       "      <td>0.02</td>\n",
       "      <td>41.0</td>\n",
       "      <td>2.0</td>\n",
       "      <td>40.0</td>\n",
       "      <td>39.0</td>\n",
       "      <td>2.0</td>\n",
       "      <td>3.0</td>\n",
       "      <td>NaN</td>\n",
       "      <td>NaN</td>\n",
       "      <td>NaN</td>\n",
       "      <td>2017</td>\n",
       "      <td>36296113.0</td>\n",
       "    </tr>\n",
       "    <tr>\n",
       "      <th>2</th>\n",
       "      <td>Afghanistan</td>\n",
       "      <td>Aliments pour enfants</td>\n",
       "      <td>vegetale</td>\n",
       "      <td>NaN</td>\n",
       "      <td>NaN</td>\n",
       "      <td>1.0</td>\n",
       "      <td>0.06</td>\n",
       "      <td>0.01</td>\n",
       "      <td>0.03</td>\n",
       "      <td>2.0</td>\n",
       "      <td>NaN</td>\n",
       "      <td>2.0</td>\n",
       "      <td>2.0</td>\n",
       "      <td>NaN</td>\n",
       "      <td>NaN</td>\n",
       "      <td>NaN</td>\n",
       "      <td>NaN</td>\n",
       "      <td>NaN</td>\n",
       "      <td>2017</td>\n",
       "      <td>36296113.0</td>\n",
       "    </tr>\n",
       "    <tr>\n",
       "      <th>3</th>\n",
       "      <td>Afghanistan</td>\n",
       "      <td>Ananas</td>\n",
       "      <td>vegetale</td>\n",
       "      <td>NaN</td>\n",
       "      <td>NaN</td>\n",
       "      <td>0.0</td>\n",
       "      <td>0.00</td>\n",
       "      <td>NaN</td>\n",
       "      <td>NaN</td>\n",
       "      <td>0.0</td>\n",
       "      <td>NaN</td>\n",
       "      <td>0.0</td>\n",
       "      <td>0.0</td>\n",
       "      <td>NaN</td>\n",
       "      <td>NaN</td>\n",
       "      <td>NaN</td>\n",
       "      <td>NaN</td>\n",
       "      <td>NaN</td>\n",
       "      <td>2017</td>\n",
       "      <td>36296113.0</td>\n",
       "    </tr>\n",
       "    <tr>\n",
       "      <th>4</th>\n",
       "      <td>Afghanistan</td>\n",
       "      <td>Bananes</td>\n",
       "      <td>vegetale</td>\n",
       "      <td>NaN</td>\n",
       "      <td>NaN</td>\n",
       "      <td>4.0</td>\n",
       "      <td>2.70</td>\n",
       "      <td>0.02</td>\n",
       "      <td>0.05</td>\n",
       "      <td>82.0</td>\n",
       "      <td>NaN</td>\n",
       "      <td>82.0</td>\n",
       "      <td>82.0</td>\n",
       "      <td>NaN</td>\n",
       "      <td>NaN</td>\n",
       "      <td>NaN</td>\n",
       "      <td>NaN</td>\n",
       "      <td>NaN</td>\n",
       "      <td>2017</td>\n",
       "      <td>36296113.0</td>\n",
       "    </tr>\n",
       "  </tbody>\n",
       "</table>\n",
       "</div>"
      ],
      "text/plain": [
       "          Zone                Produit   Origine  Aliments pour animaux  \\\n",
       "0  Afghanistan       Abats Comestible   animale                    NaN   \n",
       "1  Afghanistan        Agrumes, Autres  vegetale                    NaN   \n",
       "2  Afghanistan  Aliments pour enfants  vegetale                    NaN   \n",
       "3  Afghanistan                 Ananas  vegetale                    NaN   \n",
       "4  Afghanistan                Bananes  vegetale                    NaN   \n",
       "\n",
       "   Autres Utilisations  Disponibilité alimentaire (Kcal/personne/jour)  \\\n",
       "0                  NaN                                             5.0   \n",
       "1                  NaN                                             1.0   \n",
       "2                  NaN                                             1.0   \n",
       "3                  NaN                                             0.0   \n",
       "4                  NaN                                             4.0   \n",
       "\n",
       "   Disponibilité alimentaire en quantité (kg/personne/an)  \\\n",
       "0                                               1.72        \n",
       "1                                               1.29        \n",
       "2                                               0.06        \n",
       "3                                               0.00        \n",
       "4                                               2.70        \n",
       "\n",
       "   Disponibilité de matière grasse en quantité (g/personne/jour)  \\\n",
       "0                                               0.20               \n",
       "1                                               0.01               \n",
       "2                                               0.01               \n",
       "3                                                NaN               \n",
       "4                                               0.02               \n",
       "\n",
       "   Disponibilité de protéines en quantité (g/personne/jour)  \\\n",
       "0                                               0.77          \n",
       "1                                               0.02          \n",
       "2                                               0.03          \n",
       "3                                                NaN          \n",
       "4                                               0.05          \n",
       "\n",
       "   Disponibilité intérieure  Exportations - Quantité  Importations - Quantité  \\\n",
       "0                      53.0                      NaN                      NaN   \n",
       "1                      41.0                      2.0                     40.0   \n",
       "2                       2.0                      NaN                      2.0   \n",
       "3                       0.0                      NaN                      0.0   \n",
       "4                      82.0                      NaN                     82.0   \n",
       "\n",
       "   Nourriture  Pertes  Production  Semences  Traitement  Variation de stock  \\\n",
       "0        53.0     NaN        53.0       NaN         NaN                 NaN   \n",
       "1        39.0     2.0         3.0       NaN         NaN                 NaN   \n",
       "2         2.0     NaN         NaN       NaN         NaN                 NaN   \n",
       "3         0.0     NaN         NaN       NaN         NaN                 NaN   \n",
       "4        82.0     NaN         NaN       NaN         NaN                 NaN   \n",
       "\n",
       "   Année  Population  \n",
       "0   2017  36296113.0  \n",
       "1   2017  36296113.0  \n",
       "2   2017  36296113.0  \n",
       "3   2017  36296113.0  \n",
       "4   2017  36296113.0  "
      ]
     },
     "execution_count": 22,
     "metadata": {},
     "output_type": "execute_result"
    }
   ],
   "source": [
    "#Joindre les 2 tableau 'Population 2017' et 'Disponibilité Alimentaire'\n",
    "df_dispo_alimentaire=pd.merge(df_dispo_alimentaire,df_population2017,how='left',on=['Zone'])\n",
    "df_dispo_alimentaire.head()"
   ]
  },
  {
   "cell_type": "markdown",
   "id": "f02ef582-28ae-4ffd-b3b4-44b98f871be8",
   "metadata": {
    "tags": []
   },
   "source": [
    "### Calculer avec la référence Disponibilité alimentaire en Calorié\n"
   ]
  },
  {
   "cell_type": "markdown",
   "id": "de4217c1-fbd8-402c-89cf-7f776349b523",
   "metadata": {},
   "source": [
    "Créer tableau dispo_alimentaireKcal2017, Nettoyer les données de Disponibilité alimentaire (Kcal/personne/jour) en calculant Disponibilité alimentaire (Kcal/personne/an)"
   ]
  },
  {
   "cell_type": "code",
   "execution_count": 23,
   "id": "db8f23d2-d91d-4a69-be8b-5d5ea1a425fa",
   "metadata": {},
   "outputs": [
    {
     "data": {
      "text/html": [
       "<div>\n",
       "<style scoped>\n",
       "    .dataframe tbody tr th:only-of-type {\n",
       "        vertical-align: middle;\n",
       "    }\n",
       "\n",
       "    .dataframe tbody tr th {\n",
       "        vertical-align: top;\n",
       "    }\n",
       "\n",
       "    .dataframe thead th {\n",
       "        text-align: right;\n",
       "    }\n",
       "</style>\n",
       "<table border=\"1\" class=\"dataframe\">\n",
       "  <thead>\n",
       "    <tr style=\"text-align: right;\">\n",
       "      <th></th>\n",
       "      <th>Zone</th>\n",
       "      <th>Produit</th>\n",
       "      <th>Origine</th>\n",
       "      <th>Population</th>\n",
       "      <th>Disponibilité alimentaire (Kcal/personne/an)</th>\n",
       "      <th>Disponibilité alimentaire Kcal 2017</th>\n",
       "    </tr>\n",
       "  </thead>\n",
       "  <tbody>\n",
       "    <tr>\n",
       "      <th>0</th>\n",
       "      <td>Afghanistan</td>\n",
       "      <td>Abats Comestible</td>\n",
       "      <td>animale</td>\n",
       "      <td>36296113.0</td>\n",
       "      <td>1825.0</td>\n",
       "      <td>6.624041e+10</td>\n",
       "    </tr>\n",
       "    <tr>\n",
       "      <th>1</th>\n",
       "      <td>Afghanistan</td>\n",
       "      <td>Agrumes, Autres</td>\n",
       "      <td>vegetale</td>\n",
       "      <td>36296113.0</td>\n",
       "      <td>365.0</td>\n",
       "      <td>1.324808e+10</td>\n",
       "    </tr>\n",
       "    <tr>\n",
       "      <th>2</th>\n",
       "      <td>Afghanistan</td>\n",
       "      <td>Aliments pour enfants</td>\n",
       "      <td>vegetale</td>\n",
       "      <td>36296113.0</td>\n",
       "      <td>365.0</td>\n",
       "      <td>1.324808e+10</td>\n",
       "    </tr>\n",
       "    <tr>\n",
       "      <th>4</th>\n",
       "      <td>Afghanistan</td>\n",
       "      <td>Bananes</td>\n",
       "      <td>vegetale</td>\n",
       "      <td>36296113.0</td>\n",
       "      <td>1460.0</td>\n",
       "      <td>5.299232e+10</td>\n",
       "    </tr>\n",
       "    <tr>\n",
       "      <th>5</th>\n",
       "      <td>Afghanistan</td>\n",
       "      <td>Beurre, Ghee</td>\n",
       "      <td>animale</td>\n",
       "      <td>36296113.0</td>\n",
       "      <td>8395.0</td>\n",
       "      <td>3.047059e+11</td>\n",
       "    </tr>\n",
       "  </tbody>\n",
       "</table>\n",
       "</div>"
      ],
      "text/plain": [
       "          Zone                Produit   Origine  Population  \\\n",
       "0  Afghanistan       Abats Comestible   animale  36296113.0   \n",
       "1  Afghanistan        Agrumes, Autres  vegetale  36296113.0   \n",
       "2  Afghanistan  Aliments pour enfants  vegetale  36296113.0   \n",
       "4  Afghanistan                Bananes  vegetale  36296113.0   \n",
       "5  Afghanistan           Beurre, Ghee   animale  36296113.0   \n",
       "\n",
       "   Disponibilité alimentaire (Kcal/personne/an)  \\\n",
       "0                                        1825.0   \n",
       "1                                         365.0   \n",
       "2                                         365.0   \n",
       "4                                        1460.0   \n",
       "5                                        8395.0   \n",
       "\n",
       "   Disponibilité alimentaire Kcal 2017  \n",
       "0                         6.624041e+10  \n",
       "1                         1.324808e+10  \n",
       "2                         1.324808e+10  \n",
       "4                         5.299232e+10  \n",
       "5                         3.047059e+11  "
      ]
     },
     "execution_count": 23,
     "metadata": {},
     "output_type": "execute_result"
    }
   ],
   "source": [
    "df_dispo_alimentaireKcal2017=pd.DataFrame(df_dispo_alimentaire,columns=['Zone','Produit','Origine','Disponibilité alimentaire (Kcal/personne/jour)','Population'])\n",
    "\n",
    "#défilter les valeurs aberrantes (nan ou inférieur ou égale à 0) de colonne disponibilité Kcal/personne/jour\n",
    "df_dispo_alimentaireKcal2017=df_dispo_alimentaireKcal2017[df_dispo_alimentaireKcal2017['Disponibilité alimentaire (Kcal/personne/jour)']>0]\n",
    "\n",
    "#Calculer la disponibilité Kcal par Personne Par An\n",
    "df_dispo_alimentaireKcal2017['Disponibilité alimentaire (Kcal/personne/an)']=df_dispo_alimentaireKcal2017['Disponibilité alimentaire (Kcal/personne/jour)']*365\n",
    "del df_dispo_alimentaireKcal2017['Disponibilité alimentaire (Kcal/personne/jour)']\n",
    "\n",
    "#Calculer la disponibilité Kcal par produit par pays\n",
    "df_dispo_alimentaireKcal2017['Disponibilité alimentaire Kcal 2017']=df_dispo_alimentaireKcal2017['Disponibilité alimentaire (Kcal/personne/an)']*df_dispo_alimentaireKcal2017['Population']\n",
    "df_dispo_alimentaireKcal2017.head()"
   ]
  },
  {
   "cell_type": "markdown",
   "id": "616bdb87-5217-4192-95ae-60ca96e0938e",
   "metadata": {},
   "source": [
    "### Calculer Disponibilité Alimentaire Mondiale en Calorie de l'année 2017: \n",
    "##### Disponibilité Calorie Mondial en 2017 est 7,732,467 Millard."
   ]
  },
  {
   "cell_type": "code",
   "execution_count": 24,
   "id": "9136a18f-30a3-4924-a0d7-5ebf8c824f6c",
   "metadata": {
    "tags": []
   },
   "outputs": [
    {
     "name": "stdout",
     "output_type": "stream",
     "text": [
      "Disponibilité Alimentaire Mondiale en Kcal de l'année 2017: 7732466711015115.0\n"
     ]
    }
   ],
   "source": [
    "\n",
    "DispoAlimentKcal2017Monde=df_dispo_alimentaireKcal2017['Disponibilité alimentaire Kcal 2017'].sum()\n",
    "print(\"Disponibilité Alimentaire Mondiale en Kcal de l'année 2017:\",DispoAlimentKcal2017Monde)"
   ]
  },
  {
   "cell_type": "markdown",
   "id": "e7bdff79-03aa-4805-ba4d-8e259de18938",
   "metadata": {
    "tags": []
   },
   "source": [
    "### Choisir les références de calcule et Calculer le besoin Calorie/personne/an et le besoin Protéine/personne/an\n",
    "\n",
    "##### Résultat:\n",
    "\n",
    "###### Le besoin Calorie (Kcal) par Persone Par An: 912500 Kcal\n",
    "###### Le Poids Moyen Humain: 60.0\n",
    "###### Le besoin Protéine par Persone Par An: 18177.0 g\n",
    "\n",
    "\n",
    "##### Référence et Méthode:\n",
    "\n",
    "On va choisir Disponibilité alimentaire en Kcal(calorie) et Disponibilité de protéines en quantité comme la référence de calcule pour répondre à la question 2 \n",
    "comme Calorie et Protéines sont 2 critères principales utilisé par les organismes de santé pour la recommendation\n",
    "\n",
    "###### On considère que le besoin énergétiques/personne/jour est 2500 Kcal\n",
    "Catégories Dépenses énergétiques/jour (kcal):\n",
    "Activité réduite :2200 Kcal,Activité habituelle :2500 Kcal,Activité importante : 2900 Kcal,Activité très importante : 3400 Kcal\n",
    "Source:http://campus.cerimes.fr/nutrition/enseignement/nutrition_18/site/html/2.html\n",
    "###### On considère que le poids humain en moyenne est (48kg + 72kg)/2\n",
    "###### Le besoin protéine/personne/An recommandé = Le poids humain  x  0.83g  x 365 jours\n",
    "ANSES:L'Agence considère que la référence nutritionnelle en protéines des adultes en bonne santé (RNP) est de 0,83 g/kg/j.\n",
    "\n",
    "IMC Normal  18.5-25kgM2\n",
    "Homme Poids normal  57-72KG (pour 172CM) On considère que le poids normal d'un homme est 72kg\n",
    "Femme Poids normal  48-63KG (pour 160CM) On considère que le poids normal d'une femme est 63kg\n",
    "Tableau IMC Source:https://fr.wikipedia.org/wiki/Indice_de_masse_corporelle"
   ]
  },
  {
   "cell_type": "code",
   "execution_count": 25,
   "id": "0566f734-5cef-45b7-9504-9a84fdb7b944",
   "metadata": {},
   "outputs": [
    {
     "name": "stdout",
     "output_type": "stream",
     "text": [
      "Le besoin Calorie (Kcal) par Persone Par An: 912500 Kcal\n",
      "Le Poids Moyen Humain: 60.0\n",
      "Le besoin Protéine par Persone Par An: 18177.0 g\n"
     ]
    }
   ],
   "source": [
    "# Calculer le besoin Kcal par personne par an\n",
    "\n",
    "besoinCalorieMoyenKGPersoneParAn=2500*365\n",
    "print('Le besoin Calorie (Kcal) par Persone Par An:',besoinCalorieMoyenKGPersoneParAn,'Kcal')\n",
    "\n",
    "\n",
    "#Calculer le besoin protéine par personne par an\n",
    "\n",
    "PoidMoyenHumain=(48+72)/2\n",
    "print('Le Poids Moyen Humain:',PoidMoyenHumain)\n",
    "besoinProteinMoyenKGPersoneParAn=PoidMoyenHumain*0.83*365\n",
    "print('Le besoin Protéine par Persone Par An:',besoinProteinMoyenKGPersoneParAn,'g')"
   ]
  },
  {
   "cell_type": "markdown",
   "id": "542b4dfe-8a30-4916-90d3-51589b1972d7",
   "metadata": {},
   "source": [
    "### Réponse de Question2 avec la disponibilité en Calorie: \n",
    "##### selon la disponibilité en Calorie: 8.47 Millards Personnes pourront être nourries avec la disponibilité alimentaire en calorié en 2017. Il est équivalent de 112.27% de population mondiale en 2017."
   ]
  },
  {
   "cell_type": "code",
   "execution_count": 26,
   "id": "de2a1db9-07d6-486d-90bc-ecec6ca439db",
   "metadata": {},
   "outputs": [
    {
     "name": "stdout",
     "output_type": "stream",
     "text": [
      "En 2017, le nombre des personnes théorique qui pourront être nourries : 8473936121.6604\n",
      "le nombre des personnes théorique est égal à 112.27 % de Population Mondiale en 2017\n"
     ]
    }
   ],
   "source": [
    "#Personnes Nourries = Disponibilité / Besoin\n",
    "NombrePersonneNourriesKcal=DispoAlimentKcal2017Monde/besoinCalorieMoyenKGPersoneParAn\n",
    "print(\"En 2017, le nombre des personnes théorique qui pourront être nourries :\",NombrePersonneNourriesKcal)\n",
    "\n",
    "#Personnes Nourries / Population 2017\n",
    "print('le nombre des personnes théorique est égal à', round((NombrePersonneNourriesKcal/df_population2017['Population'].sum()*100),2),'% de Population Mondiale en 2017')"
   ]
  },
  {
   "cell_type": "markdown",
   "id": "fbe51371-ce84-4be2-9727-c575e3a23921",
   "metadata": {},
   "source": [
    "### Calculer le nombre de personnes pourraient être nourries avec la Disponibilité alimentaire en protéine"
   ]
  },
  {
   "cell_type": "markdown",
   "id": "5bccff04-6f83-4f05-ba20-04c2a06f04de",
   "metadata": {},
   "source": [
    "Créer tableau dispo_alimentaireProteine2017, Nettoyer les données de Disponibilité de protéines en quantité (g/personne/jour) en calculant Disponibilité alimentaire Proteine (g/personne/an)"
   ]
  },
  {
   "cell_type": "code",
   "execution_count": 27,
   "id": "e2c74295-77de-4d6b-b057-ff22185776f8",
   "metadata": {},
   "outputs": [
    {
     "data": {
      "text/html": [
       "<div>\n",
       "<style scoped>\n",
       "    .dataframe tbody tr th:only-of-type {\n",
       "        vertical-align: middle;\n",
       "    }\n",
       "\n",
       "    .dataframe tbody tr th {\n",
       "        vertical-align: top;\n",
       "    }\n",
       "\n",
       "    .dataframe thead th {\n",
       "        text-align: right;\n",
       "    }\n",
       "</style>\n",
       "<table border=\"1\" class=\"dataframe\">\n",
       "  <thead>\n",
       "    <tr style=\"text-align: right;\">\n",
       "      <th></th>\n",
       "      <th>Zone</th>\n",
       "      <th>Produit</th>\n",
       "      <th>Origine</th>\n",
       "      <th>Population</th>\n",
       "      <th>Disponibilité alimentaire Proteine (g/personne/an)</th>\n",
       "      <th>Disponibilité alimentaire proteine 2017</th>\n",
       "    </tr>\n",
       "  </thead>\n",
       "  <tbody>\n",
       "    <tr>\n",
       "      <th>0</th>\n",
       "      <td>Afghanistan</td>\n",
       "      <td>Abats Comestible</td>\n",
       "      <td>animale</td>\n",
       "      <td>36296113.0</td>\n",
       "      <td>281.05</td>\n",
       "      <td>1.020102e+10</td>\n",
       "    </tr>\n",
       "    <tr>\n",
       "      <th>1</th>\n",
       "      <td>Afghanistan</td>\n",
       "      <td>Agrumes, Autres</td>\n",
       "      <td>vegetale</td>\n",
       "      <td>36296113.0</td>\n",
       "      <td>7.30</td>\n",
       "      <td>2.649616e+08</td>\n",
       "    </tr>\n",
       "    <tr>\n",
       "      <th>2</th>\n",
       "      <td>Afghanistan</td>\n",
       "      <td>Aliments pour enfants</td>\n",
       "      <td>vegetale</td>\n",
       "      <td>36296113.0</td>\n",
       "      <td>10.95</td>\n",
       "      <td>3.974424e+08</td>\n",
       "    </tr>\n",
       "    <tr>\n",
       "      <th>4</th>\n",
       "      <td>Afghanistan</td>\n",
       "      <td>Bananes</td>\n",
       "      <td>vegetale</td>\n",
       "      <td>36296113.0</td>\n",
       "      <td>18.25</td>\n",
       "      <td>6.624041e+08</td>\n",
       "    </tr>\n",
       "    <tr>\n",
       "      <th>5</th>\n",
       "      <td>Afghanistan</td>\n",
       "      <td>Beurre, Ghee</td>\n",
       "      <td>animale</td>\n",
       "      <td>36296113.0</td>\n",
       "      <td>10.95</td>\n",
       "      <td>3.974424e+08</td>\n",
       "    </tr>\n",
       "  </tbody>\n",
       "</table>\n",
       "</div>"
      ],
      "text/plain": [
       "          Zone                Produit   Origine  Population  \\\n",
       "0  Afghanistan       Abats Comestible   animale  36296113.0   \n",
       "1  Afghanistan        Agrumes, Autres  vegetale  36296113.0   \n",
       "2  Afghanistan  Aliments pour enfants  vegetale  36296113.0   \n",
       "4  Afghanistan                Bananes  vegetale  36296113.0   \n",
       "5  Afghanistan           Beurre, Ghee   animale  36296113.0   \n",
       "\n",
       "   Disponibilité alimentaire Proteine (g/personne/an)  \\\n",
       "0                                             281.05    \n",
       "1                                               7.30    \n",
       "2                                              10.95    \n",
       "4                                              18.25    \n",
       "5                                              10.95    \n",
       "\n",
       "   Disponibilité alimentaire proteine 2017  \n",
       "0                             1.020102e+10  \n",
       "1                             2.649616e+08  \n",
       "2                             3.974424e+08  \n",
       "4                             6.624041e+08  \n",
       "5                             3.974424e+08  "
      ]
     },
     "execution_count": 27,
     "metadata": {},
     "output_type": "execute_result"
    }
   ],
   "source": [
    "df_dispo_alimentaireProteine2017=pd.DataFrame(df_dispo_alimentaire,columns=['Zone','Produit','Origine','Disponibilité de protéines en quantité (g/personne/jour)','Population'])\n",
    "\n",
    "#Défilter les valeurs aberrantes dans la disponibilité de protéines (valeur 'nan' ou 'inferieur ou égale à 0')\n",
    "df_dispo_alimentaireProteine2017=df_dispo_alimentaireProteine2017[df_dispo_alimentaireProteine2017['Disponibilité de protéines en quantité (g/personne/jour)']>0]\n",
    "\n",
    "#Calculer Disponibilié Protéine par personne par an\n",
    "df_dispo_alimentaireProteine2017['Disponibilité alimentaire Proteine (g/personne/an)']=df_dispo_alimentaireProteine2017['Disponibilité de protéines en quantité (g/personne/jour)']*365\n",
    "del df_dispo_alimentaireProteine2017['Disponibilité de protéines en quantité (g/personne/jour)']\n",
    "\n",
    "#Calculer Disponibilité Protéine Par Produit et Par Pays\n",
    "df_dispo_alimentaireProteine2017['Disponibilité alimentaire proteine 2017']=\\\n",
    "df_dispo_alimentaireProteine2017['Disponibilité alimentaire Proteine (g/personne/an)']*df_dispo_alimentaireKcal2017['Population']\n",
    "df_dispo_alimentaireProteine2017.head()"
   ]
  },
  {
   "cell_type": "markdown",
   "id": "4271b20c-a9a7-4d23-af1d-b8d2fa42265e",
   "metadata": {},
   "source": [
    "### Disponibilité Alimentaire Mondiale en Proteine de l'année 2017: \n",
    "##### La disponibilité alimentaire mondiale en Protéine en 2017 est 216.76 Millons tonnes"
   ]
  },
  {
   "cell_type": "code",
   "execution_count": 28,
   "id": "ff5f54a6-27fd-4df6-a002-0f000e8fc9fc",
   "metadata": {
    "tags": []
   },
   "outputs": [
    {
     "name": "stdout",
     "output_type": "stream",
     "text": [
      "Disponibilité Alimentaire Mondiale en Proteine de l'année 2017: 216763601228532.03\n"
     ]
    }
   ],
   "source": [
    "DispoAlimentProteine2017Monde=df_dispo_alimentaireProteine2017['Disponibilité alimentaire proteine 2017'].sum()\n",
    "print(\"Disponibilité Alimentaire Mondiale en Proteine de l'année 2017:\",DispoAlimentProteine2017Monde)"
   ]
  },
  {
   "cell_type": "markdown",
   "id": "40085215-24f6-4b6d-9819-773ceb51d992",
   "metadata": {},
   "source": [
    "### Réponse de Question2 selon la disponibilité en Protéine: \n",
    "##### 11.93 Millards personnes pourront être nourriées. Il est équivalent de 157.99% de Population Mondiale en 2017"
   ]
  },
  {
   "cell_type": "code",
   "execution_count": 29,
   "id": "6681b1ed-f7e2-4734-bd36-0e0358302788",
   "metadata": {},
   "outputs": [
    {
     "name": "stdout",
     "output_type": "stream",
     "text": [
      "En 2017, le nombre des personnes théorique qui pourront être nourries : 11925158234.501404\n",
      "En 2017, le nombre des personnes théorique qui pourront être nourries égale à : 157.99 % de Population Mondiale en 2017\n"
     ]
    }
   ],
   "source": [
    "#Personnes Nourries = Disponibilité / Besoin\n",
    "print(\"En 2017, le nombre des personnes théorique qui pourront être nourries :\",DispoAlimentProteine2017Monde/besoinProteinMoyenKGPersoneParAn)\n",
    "\n",
    "#Personnes Nourries Divise Population 2017\n",
    "print(\"En 2017, le nombre des personnes théorique qui pourront être nourries égale à :\",round((DispoAlimentProteine2017Monde/besoinProteinMoyenKGPersoneParAn/df_population2017['Population'].sum()*100),2),'% de Population Mondiale en 2017')"
   ]
  },
  {
   "cell_type": "markdown",
   "id": "43b4dc77-7128-4d0c-91ae-0a0ce9083506",
   "metadata": {},
   "source": [
    "## Question 3 le nombre théorique de personnes qui pourraient être nourries à partir de la disponibilité alimentaire des produits végétaux\n",
    "#### Résultat:\n",
    "\n",
    "Produits à l'origine vegetale =6370048.25Mds Calorie et 131776.04 Mille tonnes Protéine  \n",
    "En Calorié, il pourra en théorie nourrir 6.89 Mds Personnes.\n",
    "En Protéine il pourra en théorie nourrir 7.25 Mds personnes.\n",
    "\n",
    "\n",
    "#### Méthode:\n",
    "Pour répondre à cette question, il faut effectuer l'aggregation de l'origine d'alimentaire dans les 2 tableaux df_dispo_alimentaireKcal2017 et df_dispo_alimentaireProteine2017 pour trouver la disponibilité alimentaire 2017 en Kcal et Protéines venant de Alimentaire Vegetaux"
   ]
  },
  {
   "cell_type": "code",
   "execution_count": 30,
   "id": "498ec84e-eb91-4dc3-b489-fb00b7f5dd73",
   "metadata": {},
   "outputs": [
    {
     "data": {
      "text/html": [
       "<div>\n",
       "<style scoped>\n",
       "    .dataframe tbody tr th:only-of-type {\n",
       "        vertical-align: middle;\n",
       "    }\n",
       "\n",
       "    .dataframe tbody tr th {\n",
       "        vertical-align: top;\n",
       "    }\n",
       "\n",
       "    .dataframe thead th {\n",
       "        text-align: right;\n",
       "    }\n",
       "</style>\n",
       "<table border=\"1\" class=\"dataframe\">\n",
       "  <thead>\n",
       "    <tr style=\"text-align: right;\">\n",
       "      <th></th>\n",
       "      <th>Origine</th>\n",
       "      <th>Disponibilité alimentaire Kcal 2017</th>\n",
       "    </tr>\n",
       "  </thead>\n",
       "  <tbody>\n",
       "    <tr>\n",
       "      <th>0</th>\n",
       "      <td>animale</td>\n",
       "      <td>1.362418e+15</td>\n",
       "    </tr>\n",
       "    <tr>\n",
       "      <th>1</th>\n",
       "      <td>vegetale</td>\n",
       "      <td>6.370048e+15</td>\n",
       "    </tr>\n",
       "  </tbody>\n",
       "</table>\n",
       "</div>"
      ],
      "text/plain": [
       "    Origine  Disponibilité alimentaire Kcal 2017\n",
       "0   animale                         1.362418e+15\n",
       "1  vegetale                         6.370048e+15"
      ]
     },
     "metadata": {},
     "output_type": "display_data"
    },
    {
     "data": {
      "text/html": [
       "<div>\n",
       "<style scoped>\n",
       "    .dataframe tbody tr th:only-of-type {\n",
       "        vertical-align: middle;\n",
       "    }\n",
       "\n",
       "    .dataframe tbody tr th {\n",
       "        vertical-align: top;\n",
       "    }\n",
       "\n",
       "    .dataframe thead th {\n",
       "        text-align: right;\n",
       "    }\n",
       "</style>\n",
       "<table border=\"1\" class=\"dataframe\">\n",
       "  <thead>\n",
       "    <tr style=\"text-align: right;\">\n",
       "      <th></th>\n",
       "      <th>Origine</th>\n",
       "      <th>Disponibilité alimentaire proteine 2017</th>\n",
       "    </tr>\n",
       "  </thead>\n",
       "  <tbody>\n",
       "    <tr>\n",
       "      <th>0</th>\n",
       "      <td>animale</td>\n",
       "      <td>8.498756e+13</td>\n",
       "    </tr>\n",
       "    <tr>\n",
       "      <th>1</th>\n",
       "      <td>vegetale</td>\n",
       "      <td>1.317760e+14</td>\n",
       "    </tr>\n",
       "  </tbody>\n",
       "</table>\n",
       "</div>"
      ],
      "text/plain": [
       "    Origine  Disponibilité alimentaire proteine 2017\n",
       "0   animale                             8.498756e+13\n",
       "1  vegetale                             1.317760e+14"
      ]
     },
     "metadata": {},
     "output_type": "display_data"
    }
   ],
   "source": [
    "#Créer nouveaux tableaux avec l'agregation des disponibilité par Origine\n",
    "DispoAlimentKcalParOrigine2017=pd.DataFrame(df_dispo_alimentaireKcal2017.groupby('Origine',as_index=False).agg({'Disponibilité alimentaire Kcal 2017':sum}))\n",
    "DispoAlimentProteineParOrigine2017=pd.DataFrame(df_dispo_alimentaireProteine2017.groupby('Origine',as_index=False).agg({'Disponibilité alimentaire proteine 2017':sum}))\n",
    "display(DispoAlimentKcalParOrigine2017)\n",
    "display(DispoAlimentProteineParOrigine2017)"
   ]
  },
  {
   "cell_type": "markdown",
   "id": "e03aa2ff-cb3a-47b6-8a96-1c31dc191ad6",
   "metadata": {},
   "source": [
    "### Réponse Question 3 : \n",
    "##### L'aliment d'origine vegetale offre plus de Calorie (6370048.25Mds Kcal) et Protéine (131776.04 Mille tonnes) en comparant à l'aliment d'origine animale. En Calorie, l'aliment vegetale pourra en théorie nourrir 6.89 Mds Personnes, contre en Protéine 7.25 Mds personnes."
   ]
  },
  {
   "cell_type": "code",
   "execution_count": 31,
   "id": "00b80357-8dde-4330-a478-242f068bc3da",
   "metadata": {},
   "outputs": [
    {
     "data": {
      "text/html": [
       "<div>\n",
       "<style scoped>\n",
       "    .dataframe tbody tr th:only-of-type {\n",
       "        vertical-align: middle;\n",
       "    }\n",
       "\n",
       "    .dataframe tbody tr th {\n",
       "        vertical-align: top;\n",
       "    }\n",
       "\n",
       "    .dataframe thead th {\n",
       "        text-align: right;\n",
       "    }\n",
       "</style>\n",
       "<table border=\"1\" class=\"dataframe\">\n",
       "  <thead>\n",
       "    <tr style=\"text-align: right;\">\n",
       "      <th></th>\n",
       "      <th>Origine</th>\n",
       "      <th>Disponibilité alimentaire Kcal 2017</th>\n",
       "      <th>Disponibilité Kcal (Md)</th>\n",
       "      <th>Population Nourriée (Md)</th>\n",
       "    </tr>\n",
       "  </thead>\n",
       "  <tbody>\n",
       "    <tr>\n",
       "      <th>0</th>\n",
       "      <td>animale</td>\n",
       "      <td>1.362418e+15</td>\n",
       "      <td>1362418.46</td>\n",
       "      <td>1.49</td>\n",
       "    </tr>\n",
       "    <tr>\n",
       "      <th>1</th>\n",
       "      <td>vegetale</td>\n",
       "      <td>6.370048e+15</td>\n",
       "      <td>6370048.25</td>\n",
       "      <td>6.98</td>\n",
       "    </tr>\n",
       "  </tbody>\n",
       "</table>\n",
       "</div>"
      ],
      "text/plain": [
       "    Origine  Disponibilité alimentaire Kcal 2017  Disponibilité Kcal (Md)  \\\n",
       "0   animale                         1.362418e+15               1362418.46   \n",
       "1  vegetale                         6.370048e+15               6370048.25   \n",
       "\n",
       "   Population Nourriée (Md)  \n",
       "0                      1.49  \n",
       "1                      6.98  "
      ]
     },
     "metadata": {},
     "output_type": "display_data"
    },
    {
     "data": {
      "text/html": [
       "<div>\n",
       "<style scoped>\n",
       "    .dataframe tbody tr th:only-of-type {\n",
       "        vertical-align: middle;\n",
       "    }\n",
       "\n",
       "    .dataframe tbody tr th {\n",
       "        vertical-align: top;\n",
       "    }\n",
       "\n",
       "    .dataframe thead th {\n",
       "        text-align: right;\n",
       "    }\n",
       "</style>\n",
       "<table border=\"1\" class=\"dataframe\">\n",
       "  <thead>\n",
       "    <tr style=\"text-align: right;\">\n",
       "      <th></th>\n",
       "      <th>Origine</th>\n",
       "      <th>Disponibilité alimentaire proteine 2017</th>\n",
       "      <th>Disponibilité Protéine (Mille tonnes)</th>\n",
       "      <th>Population Nourriée (Md)</th>\n",
       "    </tr>\n",
       "  </thead>\n",
       "  <tbody>\n",
       "    <tr>\n",
       "      <th>0</th>\n",
       "      <td>animale</td>\n",
       "      <td>8.498756e+13</td>\n",
       "      <td>84987.56</td>\n",
       "      <td>4.68</td>\n",
       "    </tr>\n",
       "    <tr>\n",
       "      <th>1</th>\n",
       "      <td>vegetale</td>\n",
       "      <td>1.317760e+14</td>\n",
       "      <td>131776.04</td>\n",
       "      <td>7.25</td>\n",
       "    </tr>\n",
       "  </tbody>\n",
       "</table>\n",
       "</div>"
      ],
      "text/plain": [
       "    Origine  Disponibilité alimentaire proteine 2017  \\\n",
       "0   animale                             8.498756e+13   \n",
       "1  vegetale                             1.317760e+14   \n",
       "\n",
       "   Disponibilité Protéine (Mille tonnes)  Population Nourriée (Md)  \n",
       "0                               84987.56                      4.68  \n",
       "1                              131776.04                      7.25  "
      ]
     },
     "metadata": {},
     "output_type": "display_data"
    }
   ],
   "source": [
    "#Créer nouvelles colonnes pour la disponibilité calorie et protéine par origine de nourriture\n",
    "#Créer nouvelles colonnes pour calculer le nombre de personnes pourraient être nourries par Origine de nourriture\n",
    "\n",
    "DispoAlimentKcalParOrigine2017['Disponibilité Kcal (Md)']=round((DispoAlimentKcalParOrigine2017['Disponibilité alimentaire Kcal 2017']/1000000000),2)\n",
    "DispoAlimentProteineParOrigine2017['Disponibilité Protéine (Mille tonnes)']=round((DispoAlimentProteineParOrigine2017['Disponibilité alimentaire proteine 2017']/1000000000),2)\n",
    "DispoAlimentKcalParOrigine2017['Population Nourriée (Md)']=round((DispoAlimentKcalParOrigine2017['Disponibilité alimentaire Kcal 2017']/besoinCalorieMoyenKGPersoneParAn/1000000000),2)\n",
    "DispoAlimentProteineParOrigine2017['Population Nourriée (Md)']=round((DispoAlimentProteineParOrigine2017['Disponibilité alimentaire proteine 2017']/besoinProteinMoyenKGPersoneParAn/1000000000),2)\n",
    "display(DispoAlimentKcalParOrigine2017)\n",
    "display(DispoAlimentProteineParOrigine2017)"
   ]
  },
  {
   "cell_type": "code",
   "execution_count": 32,
   "id": "2daf3e3f-f489-401f-a1f9-98ebdaa6a6df",
   "metadata": {},
   "outputs": [
    {
     "data": {
      "text/plain": [
       "Text(0, 0.5, 'Population (Md)')"
      ]
     },
     "execution_count": 32,
     "metadata": {},
     "output_type": "execute_result"
    },
    {
     "data": {
      "image/png": "[encoded data removed]",
      "text/plain": [
       "<Figure size 1152x576 with 4 Axes>"
      ]
     },
     "metadata": {
      "needs_background": "light"
     },
     "output_type": "display_data"
    }
   ],
   "source": [
    "#Créer les graphiques pour visualiser la disponibilité, le nombre de personnes Pourraient être nourries par Origine\n",
    "\n",
    "plt.figure(figsize=(16,8))\n",
    "\n",
    "plt.subplot(2,2,1)\n",
    "plt.bar('Origine','Disponibilité Kcal (Md)',data=DispoAlimentKcalParOrigine2017)\n",
    "plt.title(\"Disponibilité Kcal Par Origine\")\n",
    "plt.ylabel(\"Disponibilité Kcal (Md)\")\n",
    "\n",
    "plt.subplot(2,2,2)\n",
    "plt.bar('Origine','Population Nourriée (Md)',data=DispoAlimentKcalParOrigine2017)\n",
    "plt.title(\"Population Nourriée en Kcal Par Origine\")\n",
    "plt.ylabel(\"Population (Md)\")\n",
    "\n",
    "plt.subplot(2,2,3)\n",
    "plt.bar('Origine','Disponibilité Protéine (Mille Tonnes)',data=DispoAlimentProteineParOrigine2017)\n",
    "plt.title(\"Disponibilité Protéine Par Origine\")\n",
    "plt.ylabel(\"Disponibilité Protéine (Mille Tonnes)\")\n",
    "\n",
    "plt.subplot(2,2,4)\n",
    "plt.bar('Origine','Population Nourriée (Md)',data=DispoAlimentProteineParOrigine2017)\n",
    "plt.title(\"Population Nourriée en Protéine Par Origine\")\n",
    "plt.ylabel(\"Population (Md)\")\n"
   ]
  },
  {
   "cell_type": "markdown",
   "id": "93638970-b93a-4fa0-8092-24f3e83500cf",
   "metadata": {
    "tags": []
   },
   "source": [
    "### Question 4 l’utilisation de la disponibilité intérieure, en particulier la part qui est attribuée à l’alimentation animale, celle qui est perdue et celle qui est concrètement utilisée pour l'alimentation humaine.\n",
    "\n",
    "#### Résultat:\n",
    "\n",
    "Propotion Nourriture dans la disponibilité intérieur: 49.48 %\n",
    "\n",
    "Propotion Pertes dans la disponibilité intérieur: 4.6 %\n",
    "\n",
    "Propotion Aliments Pour Animaux dans la disponibilité intérieur: 13.23 %\n",
    "\n",
    "Propotion Autres Utilisations dans la disponibilité intérieur: 8.78 %\n",
    "\n",
    "Propotion Semences dans la disponibilité intérieur: 1.57 %\n",
    "\n",
    "Propotion Traitement dans la disponibilité intérieur: 22.37 %\n",
    "\n",
    "#### Méthode:\n",
    "\n",
    "#### Relation identifié entre les variables\n",
    "DisponibilitéIntérieur=Production+Importation+Variation de stock-Exportation\n",
    "DisponibilitéInterieur=Nourriture+Pertes+Semences+Traitement+Aliments pour animaux+Autres Utilisations\n",
    "\n",
    "#### Sur la base de tableau df_dispo_alimentaire, créer le tableau Disponibilité qui inclut seulement les colonnes essentielles pour calculer la proportion de la disponibilité intérieur"
   ]
  },
  {
   "cell_type": "markdown",
   "id": "512d1e9f-a48e-4b11-bfae-3400a4b31903",
   "metadata": {},
   "source": [
    "##### Analyser les données avant de créer le tableau"
   ]
  },
  {
   "cell_type": "code",
   "execution_count": 33,
   "id": "d2d8e9f3-4d5d-4373-b1db-ea33177f474b",
   "metadata": {},
   "outputs": [
    {
     "name": "stdout",
     "output_type": "stream",
     "text": [
      "<class 'pandas.core.frame.DataFrame'>\n",
      "Int64Index: 15605 entries, 0 to 15604\n",
      "Data columns (total 20 columns):\n",
      " #   Column                                                         Non-Null Count  Dtype  \n",
      "---  ------                                                         --------------  -----  \n",
      " 0   Zone                                                           15605 non-null  object \n",
      " 1   Produit                                                        15605 non-null  object \n",
      " 2   Origine                                                        15605 non-null  object \n",
      " 3   Aliments pour animaux                                          2720 non-null   float64\n",
      " 4   Autres Utilisations                                            5496 non-null   float64\n",
      " 5   Disponibilité alimentaire (Kcal/personne/jour)                 14241 non-null  float64\n",
      " 6   Disponibilité alimentaire en quantité (kg/personne/an)         14015 non-null  float64\n",
      " 7   Disponibilité de matière grasse en quantité (g/personne/jour)  11794 non-null  float64\n",
      " 8   Disponibilité de protéines en quantité (g/personne/jour)       11561 non-null  float64\n",
      " 9   Disponibilité intérieure                                       15382 non-null  float64\n",
      " 10  Exportations - Quantité                                        12226 non-null  float64\n",
      " 11  Importations - Quantité                                        14852 non-null  float64\n",
      " 12  Nourriture                                                     14015 non-null  float64\n",
      " 13  Pertes                                                         4278 non-null   float64\n",
      " 14  Production                                                     9180 non-null   float64\n",
      " 15  Semences                                                       2091 non-null   float64\n",
      " 16  Traitement                                                     2292 non-null   float64\n",
      " 17  Variation de stock                                             6776 non-null   float64\n",
      " 18  Année                                                          15605 non-null  int64  \n",
      " 19  Population                                                     15605 non-null  float64\n",
      "dtypes: float64(16), int64(1), object(3)\n",
      "memory usage: 2.5+ MB\n"
     ]
    }
   ],
   "source": [
    "df_dispo_alimentaire.info()"
   ]
  },
  {
   "cell_type": "code",
   "execution_count": 34,
   "id": "7138a86a-eb19-4499-b725-cc61e79d6f1d",
   "metadata": {},
   "outputs": [
    {
     "data": {
      "text/html": [
       "<div>\n",
       "<style scoped>\n",
       "    .dataframe tbody tr th:only-of-type {\n",
       "        vertical-align: middle;\n",
       "    }\n",
       "\n",
       "    .dataframe tbody tr th {\n",
       "        vertical-align: top;\n",
       "    }\n",
       "\n",
       "    .dataframe thead th {\n",
       "        text-align: right;\n",
       "    }\n",
       "</style>\n",
       "<table border=\"1\" class=\"dataframe\">\n",
       "  <thead>\n",
       "    <tr style=\"text-align: right;\">\n",
       "      <th></th>\n",
       "      <th>Zone</th>\n",
       "      <th>Produit</th>\n",
       "      <th>Origine</th>\n",
       "      <th>Aliments pour animaux</th>\n",
       "      <th>Autres Utilisations</th>\n",
       "      <th>Disponibilité intérieure</th>\n",
       "      <th>Exportations - Quantité</th>\n",
       "      <th>Importations - Quantité</th>\n",
       "      <th>Nourriture</th>\n",
       "      <th>Pertes</th>\n",
       "      <th>Production</th>\n",
       "      <th>Semences</th>\n",
       "      <th>Traitement</th>\n",
       "      <th>Variation de stock</th>\n",
       "    </tr>\n",
       "  </thead>\n",
       "  <tbody>\n",
       "    <tr>\n",
       "      <th>0</th>\n",
       "      <td>Afghanistan</td>\n",
       "      <td>Abats Comestible</td>\n",
       "      <td>animale</td>\n",
       "      <td>NaN</td>\n",
       "      <td>NaN</td>\n",
       "      <td>53.0</td>\n",
       "      <td>NaN</td>\n",
       "      <td>NaN</td>\n",
       "      <td>53.0</td>\n",
       "      <td>NaN</td>\n",
       "      <td>53.0</td>\n",
       "      <td>NaN</td>\n",
       "      <td>NaN</td>\n",
       "      <td>NaN</td>\n",
       "    </tr>\n",
       "    <tr>\n",
       "      <th>1</th>\n",
       "      <td>Afghanistan</td>\n",
       "      <td>Agrumes, Autres</td>\n",
       "      <td>vegetale</td>\n",
       "      <td>NaN</td>\n",
       "      <td>NaN</td>\n",
       "      <td>41.0</td>\n",
       "      <td>2.0</td>\n",
       "      <td>40.0</td>\n",
       "      <td>39.0</td>\n",
       "      <td>2.0</td>\n",
       "      <td>3.0</td>\n",
       "      <td>NaN</td>\n",
       "      <td>NaN</td>\n",
       "      <td>NaN</td>\n",
       "    </tr>\n",
       "    <tr>\n",
       "      <th>2</th>\n",
       "      <td>Afghanistan</td>\n",
       "      <td>Aliments pour enfants</td>\n",
       "      <td>vegetale</td>\n",
       "      <td>NaN</td>\n",
       "      <td>NaN</td>\n",
       "      <td>2.0</td>\n",
       "      <td>NaN</td>\n",
       "      <td>2.0</td>\n",
       "      <td>2.0</td>\n",
       "      <td>NaN</td>\n",
       "      <td>NaN</td>\n",
       "      <td>NaN</td>\n",
       "      <td>NaN</td>\n",
       "      <td>NaN</td>\n",
       "    </tr>\n",
       "    <tr>\n",
       "      <th>3</th>\n",
       "      <td>Afghanistan</td>\n",
       "      <td>Ananas</td>\n",
       "      <td>vegetale</td>\n",
       "      <td>NaN</td>\n",
       "      <td>NaN</td>\n",
       "      <td>0.0</td>\n",
       "      <td>NaN</td>\n",
       "      <td>0.0</td>\n",
       "      <td>0.0</td>\n",
       "      <td>NaN</td>\n",
       "      <td>NaN</td>\n",
       "      <td>NaN</td>\n",
       "      <td>NaN</td>\n",
       "      <td>NaN</td>\n",
       "    </tr>\n",
       "    <tr>\n",
       "      <th>4</th>\n",
       "      <td>Afghanistan</td>\n",
       "      <td>Bananes</td>\n",
       "      <td>vegetale</td>\n",
       "      <td>NaN</td>\n",
       "      <td>NaN</td>\n",
       "      <td>82.0</td>\n",
       "      <td>NaN</td>\n",
       "      <td>82.0</td>\n",
       "      <td>82.0</td>\n",
       "      <td>NaN</td>\n",
       "      <td>NaN</td>\n",
       "      <td>NaN</td>\n",
       "      <td>NaN</td>\n",
       "      <td>NaN</td>\n",
       "    </tr>\n",
       "  </tbody>\n",
       "</table>\n",
       "</div>"
      ],
      "text/plain": [
       "          Zone                Produit   Origine  Aliments pour animaux  \\\n",
       "0  Afghanistan       Abats Comestible   animale                    NaN   \n",
       "1  Afghanistan        Agrumes, Autres  vegetale                    NaN   \n",
       "2  Afghanistan  Aliments pour enfants  vegetale                    NaN   \n",
       "3  Afghanistan                 Ananas  vegetale                    NaN   \n",
       "4  Afghanistan                Bananes  vegetale                    NaN   \n",
       "\n",
       "   Autres Utilisations  Disponibilité intérieure  Exportations - Quantité  \\\n",
       "0                  NaN                      53.0                      NaN   \n",
       "1                  NaN                      41.0                      2.0   \n",
       "2                  NaN                       2.0                      NaN   \n",
       "3                  NaN                       0.0                      NaN   \n",
       "4                  NaN                      82.0                      NaN   \n",
       "\n",
       "   Importations - Quantité  Nourriture  Pertes  Production  Semences  \\\n",
       "0                      NaN        53.0     NaN        53.0       NaN   \n",
       "1                     40.0        39.0     2.0         3.0       NaN   \n",
       "2                      2.0         2.0     NaN         NaN       NaN   \n",
       "3                      0.0         0.0     NaN         NaN       NaN   \n",
       "4                     82.0        82.0     NaN         NaN       NaN   \n",
       "\n",
       "   Traitement  Variation de stock  \n",
       "0         NaN                 NaN  \n",
       "1         NaN                 NaN  \n",
       "2         NaN                 NaN  \n",
       "3         NaN                 NaN  \n",
       "4         NaN                 NaN  "
      ]
     },
     "execution_count": 34,
     "metadata": {},
     "output_type": "execute_result"
    }
   ],
   "source": [
    "Disponibilite=pd.DataFrame(df_dispo_alimentaire,columns=['Zone', 'Produit', 'Origine', 'Aliments pour animaux','Autres Utilisations', 'Disponibilité intérieure', 'Exportations - Quantité','Importations - Quantité', 'Nourriture', 'Pertes', 'Production','Semences', 'Traitement', 'Variation de stock'])\n",
    "Disponibilite.head()"
   ]
  },
  {
   "cell_type": "code",
   "execution_count": 35,
   "id": "4010da59-90f4-4279-ad05-614520a03f83",
   "metadata": {},
   "outputs": [
    {
     "data": {
      "text/plain": [
       "Zone                        223\n",
       "Produit                     223\n",
       "Origine                     223\n",
       "Aliments pour animaux         0\n",
       "Autres Utilisations           0\n",
       "Disponibilité intérieure      0\n",
       "Exportations - Quantité       0\n",
       "Importations - Quantité       0\n",
       "Nourriture                    0\n",
       "Pertes                        0\n",
       "Production                    0\n",
       "Semences                      0\n",
       "Traitement                    0\n",
       "Variation de stock            0\n",
       "dtype: int64"
      ]
     },
     "metadata": {},
     "output_type": "display_data"
    },
    {
     "name": "stdout",
     "output_type": "stream",
     "text": [
      "****************************************************************\n"
     ]
    },
    {
     "data": {
      "text/plain": [
       "Zone                        4208\n",
       "Produit                     4208\n",
       "Origine                     4208\n",
       "Aliments pour animaux        437\n",
       "Autres Utilisations         1356\n",
       "Disponibilité intérieure    4208\n",
       "Exportations - Quantité     2221\n",
       "Importations - Quantité     4052\n",
       "Nourriture                  3574\n",
       "Pertes                       153\n",
       "Production                   891\n",
       "Semences                      86\n",
       "Traitement                   106\n",
       "Variation de stock           929\n",
       "dtype: int64"
      ]
     },
     "metadata": {},
     "output_type": "display_data"
    }
   ],
   "source": [
    "#Vérifier le nombre des valeurs 'Nan' dans 'Disponibilité intérieur'\n",
    "display(Disponibilite[Disponibilite['Disponibilité intérieure'].isna()].count())\n",
    "print('****************************************************************')\n",
    "#Vérifier le nombre des valeurs '0' ou négative dans 'Disponibilité intérieur'\n",
    "display(Disponibilite[Disponibilite['Disponibilité intérieure']<=0].count())"
   ]
  },
  {
   "cell_type": "markdown",
   "id": "e57717dd-c830-443e-afa7-61914cbef91a",
   "metadata": {},
   "source": [
    "#### Selon l'analyse ci dessus de colonne Disponibilité intérieure, il y a 4208 valeurs inférieur à ou égale à 0, et 223 valeurs is Nan,il faut défilter ces lignes avant de calculer la proportion"
   ]
  },
  {
   "cell_type": "code",
   "execution_count": 36,
   "id": "902c2ae1-d01f-4ea4-b187-d00b9689d116",
   "metadata": {},
   "outputs": [],
   "source": [
    "#Enlever les valeurs Nan, 0, Négative dans la colonne 'Disponibilité intérieur'\n",
    "Disponibilite=Disponibilite[Disponibilite['Disponibilité intérieure']>0]"
   ]
  },
  {
   "cell_type": "code",
   "execution_count": 37,
   "id": "dd548cec-3653-4397-80c0-17c4204f118f",
   "metadata": {},
   "outputs": [
    {
     "name": "stdout",
     "output_type": "stream",
     "text": [
      "Propotion Nourriture dans la disponibilité intérieur: 49.48 %\n",
      "Propotion Pertes dans la disponibilité intérieur: 4.6 %\n",
      "Propotion Aliments Pour Animaux dans la disponibilité intérieur: 13.23 %\n",
      "Propotion Autres Utilisations dans la disponibilité intérieur: 8.78 %\n",
      "Propotion Semences dans la disponibilité intérieur: 1.57 %\n",
      "Propotion Traitement dans la disponibilité intérieur: 22.37 %\n"
     ]
    }
   ],
   "source": [
    "#Calculer la propartion de chaque composant dans la disponibilité intérieur étant donnée que :\n",
    "#DisponibilitéInterieur=Nourriture+Pertes+Semences+Traitement+Aliments pour animaux+Autres Utilisations\n",
    "\n",
    "PropotionNourriture=Disponibilite['Nourriture'].sum()/Disponibilite['Disponibilité intérieure'].sum()\n",
    "print('Propotion Nourriture dans la disponibilité intérieur:',round(PropotionNourriture*100,2),'%')\n",
    "\n",
    "PropotionPertes=Disponibilite['Pertes'].sum()/Disponibilite['Disponibilité intérieure'].sum()\n",
    "print('Propotion Pertes dans la disponibilité intérieur:',round(PropotionPertes*100,2),'%')\n",
    "\n",
    "PropotionAlimentsPourAnimaux=Disponibilite['Aliments pour animaux'].sum()/Disponibilite['Disponibilité intérieure'].sum()\n",
    "print('Propotion Aliments Pour Animaux dans la disponibilité intérieur:',round(PropotionAlimentsPourAnimaux*100,2),'%')\n",
    "\n",
    "PropotionAutresUtilisations=Disponibilite['Autres Utilisations'].sum()/Disponibilite['Disponibilité intérieure'].sum()\n",
    "print('Propotion Autres Utilisations dans la disponibilité intérieur:',round(PropotionAutresUtilisations*100,2),'%')\n",
    "\n",
    "PropotionSemences=Disponibilite['Semences'].sum()/Disponibilite['Disponibilité intérieure'].sum()\n",
    "print('Propotion Semences dans la disponibilité intérieur:',round(PropotionSemences*100,2),'%')\n",
    "\n",
    "PropotionTraitement=Disponibilite['Traitement'].sum()/Disponibilite['Disponibilité intérieure'].sum()\n",
    "print('Propotion Traitement dans la disponibilité intérieur:',round(PropotionTraitement*100,2),'%')\n"
   ]
  },
  {
   "cell_type": "code",
   "execution_count": 38,
   "id": "e7557dfa-a260-4ee3-9234-e05dd375f0ea",
   "metadata": {},
   "outputs": [
    {
     "data": {
      "text/plain": [
       "Text(17.25, 0.5, 'Pourcentage')"
      ]
     },
     "execution_count": 38,
     "metadata": {},
     "output_type": "execute_result"
    },
    {
     "data": {
      "text/plain": [
       "<Figure size 1152x576 with 0 Axes>"
      ]
     },
     "metadata": {},
     "output_type": "display_data"
    },
    {
     "data": {
      "image/png": "[encoded data removed]",
      "text/plain": [
       "<Figure size 432x288 with 1 Axes>"
      ]
     },
     "metadata": {
      "needs_background": "light"
     },
     "output_type": "display_data"
    }
   ],
   "source": [
    "#Graphieque type Water Fall pour visualiser le proportion de chaque variable dans la disponibilité intérieur\n",
    "\n",
    "plt.figure(figsize=(16,8)) \n",
    "x = [0.4948, 0.046, 0.1323, 0.0878, 0.0157, 0.2237] \n",
    "label = [\"Nourriture\",\"Pertes\",\"Aliments Pour Animaux\",\"Autres Utilisations\",\"Semences\",\"Traitement\"]\n",
    "waterfall_chart.plot(label, x, net_label='Disponibilité Intérieure',rotation_value=45,formatting='{:,.2f}')\n",
    "plt.title(\"Répartition Disponibilité Intérieure\")\n",
    "plt.ylabel(\"Pourcentage\")"
   ]
  },
  {
   "cell_type": "markdown",
   "id": "0c13887d-97e2-4dd5-8dae-0bb6b0ceaec6",
   "metadata": {},
   "source": [
    "## Question 5 les pays pour lesquels la proportion de personnes sous-alimentées est la plus forte en 2017\n",
    "\n",
    "#### Résultat\n",
    "\n",
    "##### Selon la population dans le pays:\n",
    "\n",
    "1 : Top5 pays le taux de sous nutrition dans le pays le plus elevé sont : Haïti,République populaire démocratique de Corée,Madagascar,Libéria,Lesotho\n",
    "\n",
    "2 : Les 19 pays suivants ont tous une taux de sous nutrition supérieur à 20%: 'Afghanistan', 'Botswana', 'Congo', \"Côte d'Ivoire\", 'Haïti', 'Iraq', 'Kenya', 'Lesotho', 'Libéria', 'Madagascar', 'Mozambique', 'République populaire démocratique de Corée', 'République-Unie de Tanzanie', 'Rwanda', 'Sierra Leone', 'Tchad', 'Timor-Leste', 'Togo', 'Venezuela (République bolivarienne du)'\n",
    "Ils sont dans les zones comme Afrique, Moyen-Oriean, L'amérique du sud, Asie\n",
    "\n",
    "3 : 42 pays dans les 263 pays (sois 16% des pays) avec un taux de sous nutrition > 10%\n",
    "\n",
    "##### Selon la population sous nutrition mondiale:\n",
    "\n",
    "1. Inde a 35% de personne sous nutrition mondiale en valeur absolue.\n",
    "\n",
    "2. 52% des personnes sous nutrition mondiale (soit 282800000 personnes) sont dans les pays Top5 Inde,Pakistan,Indonésie,Nigéria,Bangladesh\n",
    "\n",
    "3. 30 pays dans les 263 pays a 90% de population sous nutrition. \n",
    "\n",
    "4. La densité de pourcentage de sous nutrition mondiale sont concentré entre 0 et 4%. \n",
    "\n",
    "#### Méthode\n",
    "\n",
    "\n",
    "La question demande une fusion en ajoutant df_sous_nutrition2017 dans df_population2017\n",
    "Avant de fusionner les 2 tableaux, il faut contrôler si tous les pays df_sous_nutrition2017 sont connu de df_population2017\n"
   ]
  },
  {
   "cell_type": "code",
   "execution_count": 39,
   "id": "281dc4c4-2a68-4fca-9d7a-b34b9f761038",
   "metadata": {},
   "outputs": [
    {
     "name": "stdout",
     "output_type": "stream",
     "text": [
      "Pays connu de df_sous_nutrition2017 mais inconnu de df_population2017: ['Tchéquie', \"Royaume-Uni de Grande-Bretagne et d'Irlande du Nord\"]\n"
     ]
    }
   ],
   "source": [
    "#Vérifier la cohérence de liste des pays entre les 2 tableaux\n",
    "ListPaysSousNutrition=df_sous_nutrition2017.Zone.unique().tolist()\n",
    "ListPaysPopulation=df_population2017.Zone.unique().tolist()\n",
    "print('Pays connu de df_sous_nutrition2017 mais inconnu de df_population2017:',list(set(ListPaysSousNutrition)-set(ListPaysPopulation)))"
   ]
  },
  {
   "cell_type": "code",
   "execution_count": 40,
   "id": "028c890b-59fe-43e4-b4bd-bf44ec348465",
   "metadata": {},
   "outputs": [
    {
     "name": "stderr",
     "output_type": "stream",
     "text": [
      "C:\\Users\\PF\\AppData\\Local\\Temp\\ipykernel_9192\\395487531.py:2: SettingWithCopyWarning: \n",
      "A value is trying to be set on a copy of a slice from a DataFrame.\n",
      "Try using .loc[row_indexer,col_indexer] = value instead\n",
      "\n",
      "See the caveats in the documentation: https://pandas.pydata.org/pandas-docs/stable/user_guide/indexing.html#returning-a-view-versus-a-copy\n",
      "  df_sous_nutrition2017['Zone'] = df_sous_nutrition2017 ['Zone'].replace(['Tchéquie',\"Royaume-Uni de Grande-Bretagne et d'Irlande du Nord\"],['Tchéquie (la)','Royaume-Uni'])\n"
     ]
    },
    {
     "data": {
      "text/html": [
       "<div>\n",
       "<style scoped>\n",
       "    .dataframe tbody tr th:only-of-type {\n",
       "        vertical-align: middle;\n",
       "    }\n",
       "\n",
       "    .dataframe tbody tr th {\n",
       "        vertical-align: top;\n",
       "    }\n",
       "\n",
       "    .dataframe thead th {\n",
       "        text-align: right;\n",
       "    }\n",
       "</style>\n",
       "<table border=\"1\" class=\"dataframe\">\n",
       "  <thead>\n",
       "    <tr style=\"text-align: right;\">\n",
       "      <th></th>\n",
       "      <th>Zone</th>\n",
       "      <th>AnnéeCorrigé</th>\n",
       "      <th>NombreDePersonne_sous_nutrition</th>\n",
       "    </tr>\n",
       "  </thead>\n",
       "  <tbody>\n",
       "    <tr>\n",
       "      <th>964</th>\n",
       "      <td>Royaume-Uni</td>\n",
       "      <td>2017</td>\n",
       "      <td>0</td>\n",
       "    </tr>\n",
       "    <tr>\n",
       "      <th>1108</th>\n",
       "      <td>Tchéquie (la)</td>\n",
       "      <td>2017</td>\n",
       "      <td>0</td>\n",
       "    </tr>\n",
       "  </tbody>\n",
       "</table>\n",
       "</div>"
      ],
      "text/plain": [
       "               Zone  AnnéeCorrigé  NombreDePersonne_sous_nutrition\n",
       "964     Royaume-Uni          2017                                0\n",
       "1108  Tchéquie (la)          2017                                0"
      ]
     },
     "execution_count": 40,
     "metadata": {},
     "output_type": "execute_result"
    }
   ],
   "source": [
    "#Modifier les différences dans tableau sous nutrition avant de joindre le tableau population\n",
    "df_sous_nutrition2017['Zone'] = df_sous_nutrition2017 ['Zone'].replace(['Tchéquie',\"Royaume-Uni de Grande-Bretagne et d'Irlande du Nord\"],['Tchéquie (la)','Royaume-Uni'])\n",
    "df_sous_nutrition2017[(df_sous_nutrition2017 ['Zone']=='Royaume-Uni') | (df_sous_nutrition2017 ['Zone']=='Tchéquie (la)')]"
   ]
  },
  {
   "cell_type": "code",
   "execution_count": 41,
   "id": "40095e32-7b9a-43d1-846e-3d28202b3a19",
   "metadata": {},
   "outputs": [
    {
     "data": {
      "text/html": [
       "<div>\n",
       "<style scoped>\n",
       "    .dataframe tbody tr th:only-of-type {\n",
       "        vertical-align: middle;\n",
       "    }\n",
       "\n",
       "    .dataframe tbody tr th {\n",
       "        vertical-align: top;\n",
       "    }\n",
       "\n",
       "    .dataframe thead th {\n",
       "        text-align: right;\n",
       "    }\n",
       "</style>\n",
       "<table border=\"1\" class=\"dataframe\">\n",
       "  <thead>\n",
       "    <tr style=\"text-align: right;\">\n",
       "      <th></th>\n",
       "      <th>Zone</th>\n",
       "      <th>Année</th>\n",
       "      <th>Population</th>\n",
       "      <th>NombreDePersonne_sous_nutrition</th>\n",
       "    </tr>\n",
       "  </thead>\n",
       "  <tbody>\n",
       "    <tr>\n",
       "      <th>0</th>\n",
       "      <td>Afghanistan</td>\n",
       "      <td>2017</td>\n",
       "      <td>36296113.0</td>\n",
       "      <td>10500000.0</td>\n",
       "    </tr>\n",
       "    <tr>\n",
       "      <th>1</th>\n",
       "      <td>Afrique du Sud</td>\n",
       "      <td>2017</td>\n",
       "      <td>57009756.0</td>\n",
       "      <td>3100000.0</td>\n",
       "    </tr>\n",
       "    <tr>\n",
       "      <th>2</th>\n",
       "      <td>Albanie</td>\n",
       "      <td>2017</td>\n",
       "      <td>2884169.0</td>\n",
       "      <td>100000.0</td>\n",
       "    </tr>\n",
       "    <tr>\n",
       "      <th>3</th>\n",
       "      <td>Algérie</td>\n",
       "      <td>2017</td>\n",
       "      <td>41389189.0</td>\n",
       "      <td>1300000.0</td>\n",
       "    </tr>\n",
       "    <tr>\n",
       "      <th>4</th>\n",
       "      <td>Allemagne</td>\n",
       "      <td>2017</td>\n",
       "      <td>82658409.0</td>\n",
       "      <td>0.0</td>\n",
       "    </tr>\n",
       "  </tbody>\n",
       "</table>\n",
       "</div>"
      ],
      "text/plain": [
       "             Zone  Année  Population  NombreDePersonne_sous_nutrition\n",
       "0     Afghanistan   2017  36296113.0                       10500000.0\n",
       "1  Afrique du Sud   2017  57009756.0                        3100000.0\n",
       "2         Albanie   2017   2884169.0                         100000.0\n",
       "3         Algérie   2017  41389189.0                        1300000.0\n",
       "4       Allemagne   2017  82658409.0                              0.0"
      ]
     },
     "execution_count": 41,
     "metadata": {},
     "output_type": "execute_result"
    }
   ],
   "source": [
    "#Créer le nouveau tableau PopulationEtSousNutrition en fusionner le tableau de population et sous nutrition\n",
    "PopulationEtSousNutrition=pd.merge(df_population2017,df_sous_nutrition2017,how='left',on=['Zone'])\n",
    "del PopulationEtSousNutrition['AnnéeCorrigé']\n",
    "PopulationEtSousNutrition.head()"
   ]
  },
  {
   "cell_type": "code",
   "execution_count": 42,
   "id": "0a0d6912-0029-4862-ae2d-7c9dd25c9651",
   "metadata": {},
   "outputs": [
    {
     "name": "stdout",
     "output_type": "stream",
     "text": [
      "<class 'pandas.core.frame.DataFrame'>\n",
      "Int64Index: 236 entries, 0 to 235\n",
      "Data columns (total 4 columns):\n",
      " #   Column                           Non-Null Count  Dtype  \n",
      "---  ------                           --------------  -----  \n",
      " 0   Zone                             236 non-null    object \n",
      " 1   Année                            236 non-null    int64  \n",
      " 2   Population                       236 non-null    float64\n",
      " 3   NombreDePersonne_sous_nutrition  203 non-null    float64\n",
      "dtypes: float64(2), int64(1), object(1)\n",
      "memory usage: 9.2+ KB\n"
     ]
    }
   ],
   "source": [
    "#vérifier les valeurs Nan dans le tableau, On trouve 33 valeurs manquantes dans NombreDePersonne_sous_nutrition  (263-203)\n",
    "PopulationEtSousNutrition.info()"
   ]
  },
  {
   "cell_type": "code",
   "execution_count": 43,
   "id": "c80318bb-42df-4eb0-9e36-72b9c505bd3b",
   "metadata": {},
   "outputs": [],
   "source": [
    "# remplacer les valeurs Nan par 0\n",
    "PopulationEtSousNutrition=PopulationEtSousNutrition.fillna(0)"
   ]
  },
  {
   "cell_type": "markdown",
   "id": "fce9278f-c5c4-4b92-af9d-22ed4821cdb4",
   "metadata": {},
   "source": [
    "### Réponse 1 de Question 5 les pays  la proportion de personnes sous-alimentées dans le pays la plus forte en 2017\n",
    "\n",
    "\n",
    "1 : Les top5 pays le taux de sous nutrition dans le pays le plus elevé sont : Haïti,République populaire démocratique de Corée,Madagascar,Libéria,Lesotho\n",
    "\n",
    "2 : Les 19 pays suivants ont tous une taux de sous nutrition supérieur à 20%:\n",
    "'Afghanistan', 'Botswana', 'Congo', \"Côte d'Ivoire\", 'Haïti', 'Iraq', 'Kenya', 'Lesotho', 'Libéria', 'Madagascar', 'Mozambique', 'République populaire démocratique de Corée', 'République-Unie de Tanzanie', 'Rwanda', 'Sierra Leone', 'Tchad', 'Timor-Leste', 'Togo', 'Venezuela (République bolivarienne du)'\n",
    "\n",
    "3 : 42 pays dans 263 pays ont un taux sous nutrition > 10% (situation critique)"
   ]
  },
  {
   "cell_type": "code",
   "execution_count": 44,
   "id": "8c9fdedb-aaac-4fe8-baf4-3c211b27e56b",
   "metadata": {
    "tags": []
   },
   "outputs": [
    {
     "name": "stdout",
     "output_type": "stream",
     "text": [
      "Les top 5 pays en propotion de sous nutrition dans le pays\n"
     ]
    },
    {
     "data": {
      "text/html": [
       "<div>\n",
       "<style scoped>\n",
       "    .dataframe tbody tr th:only-of-type {\n",
       "        vertical-align: middle;\n",
       "    }\n",
       "\n",
       "    .dataframe tbody tr th {\n",
       "        vertical-align: top;\n",
       "    }\n",
       "\n",
       "    .dataframe thead th {\n",
       "        text-align: right;\n",
       "    }\n",
       "</style>\n",
       "<table border=\"1\" class=\"dataframe\">\n",
       "  <thead>\n",
       "    <tr style=\"text-align: right;\">\n",
       "      <th></th>\n",
       "      <th>Zone</th>\n",
       "      <th>Année</th>\n",
       "      <th>Population</th>\n",
       "      <th>NombreDePersonne_sous_nutrition</th>\n",
       "      <th>%SousNutritionParPays</th>\n",
       "    </tr>\n",
       "  </thead>\n",
       "  <tbody>\n",
       "    <tr>\n",
       "      <th>87</th>\n",
       "      <td>Haïti</td>\n",
       "      <td>2017</td>\n",
       "      <td>10982366.0</td>\n",
       "      <td>5300000.0</td>\n",
       "      <td>48.26</td>\n",
       "    </tr>\n",
       "    <tr>\n",
       "      <th>181</th>\n",
       "      <td>République populaire démocratique de Corée</td>\n",
       "      <td>2017</td>\n",
       "      <td>25429825.0</td>\n",
       "      <td>12000000.0</td>\n",
       "      <td>47.19</td>\n",
       "    </tr>\n",
       "    <tr>\n",
       "      <th>128</th>\n",
       "      <td>Madagascar</td>\n",
       "      <td>2017</td>\n",
       "      <td>25570512.0</td>\n",
       "      <td>10500000.0</td>\n",
       "      <td>41.06</td>\n",
       "    </tr>\n",
       "    <tr>\n",
       "      <th>122</th>\n",
       "      <td>Libéria</td>\n",
       "      <td>2017</td>\n",
       "      <td>4702226.0</td>\n",
       "      <td>1800000.0</td>\n",
       "      <td>38.28</td>\n",
       "    </tr>\n",
       "    <tr>\n",
       "      <th>119</th>\n",
       "      <td>Lesotho</td>\n",
       "      <td>2017</td>\n",
       "      <td>2091534.0</td>\n",
       "      <td>800000.0</td>\n",
       "      <td>38.25</td>\n",
       "    </tr>\n",
       "  </tbody>\n",
       "</table>\n",
       "</div>"
      ],
      "text/plain": [
       "                                           Zone  Année  Population  \\\n",
       "87                                        Haïti   2017  10982366.0   \n",
       "181  République populaire démocratique de Corée   2017  25429825.0   \n",
       "128                                  Madagascar   2017  25570512.0   \n",
       "122                                     Libéria   2017   4702226.0   \n",
       "119                                     Lesotho   2017   2091534.0   \n",
       "\n",
       "     NombreDePersonne_sous_nutrition  %SousNutritionParPays  \n",
       "87                         5300000.0                  48.26  \n",
       "181                       12000000.0                  47.19  \n",
       "128                       10500000.0                  41.06  \n",
       "122                        1800000.0                  38.28  \n",
       "119                         800000.0                  38.25  "
      ]
     },
     "metadata": {},
     "output_type": "display_data"
    }
   ],
   "source": [
    "\n",
    "# Créer colonne '%SousNutritionParPays' en calculant le taux sous nutrition par pays\n",
    "PopulationEtSousNutrition['%SousNutritionParPays']=round((PopulationEtSousNutrition.NombreDePersonne_sous_nutrition/PopulationEtSousNutrition.Population)*100,2)\n",
    "\n",
    "#Ranger les données en ordre décroissant de colonne '%SousNutritionParPays' et affichier les Top5\n",
    "\n",
    "print('Les top 5 pays en propotion de sous nutrition dans le pays')\n",
    "PopulationEtSousNutrition1=PopulationEtSousNutrition.sort_values(by='%SousNutritionParPays',ascending=False)\n",
    "display(PopulationEtSousNutrition1.head())\n",
    "\n",
    "#Créer tableau 'Top5Pays_SousNutritionDansLePays' pour la graphique\n",
    "Top5Pays_SousNutritionDansLePays=PopulationEtSousNutrition1.head(5)\n"
   ]
  },
  {
   "cell_type": "code",
   "execution_count": 45,
   "id": "9e927c21-49e8-40c3-9e11-8977f131f208",
   "metadata": {},
   "outputs": [
    {
     "data": {
      "text/plain": [
       "Text(0.5, 1.0, 'Top5 Sous Nutrition Dans le Pays')"
      ]
     },
     "execution_count": 45,
     "metadata": {},
     "output_type": "execute_result"
    },
    {
     "data": {
      "image/png": "[encoded data removed]",
      "text/plain": [
       "<Figure size 1152x288 with 1 Axes>"
      ]
     },
     "metadata": {
      "needs_background": "light"
     },
     "output_type": "display_data"
    }
   ],
   "source": [
    "#Créer Graphique de Top5\n",
    "plt.figure(figsize=(16,4))\n",
    "sns.barplot(x=\"Zone\",y=\"%SousNutritionParPays\", data=Top5Pays_SousNutritionDansLePays)\n",
    "plt.ylabel('%Sous Nutrition Dans Le Pays')\n",
    "plt.title('Top5 Sous Nutrition Dans le Pays')"
   ]
  },
  {
   "cell_type": "code",
   "execution_count": 46,
   "id": "521732a2-62b4-40d7-925a-13d7af21aa8a",
   "metadata": {},
   "outputs": [
    {
     "data": {
      "text/plain": [
       "Text(0.5, 1.0, 'Distribution Taux Sous Nutrition Dans le Pays')"
      ]
     },
     "execution_count": 46,
     "metadata": {},
     "output_type": "execute_result"
    },
    {
     "data": {
      "image/png": "[encoded data removed]",
      "text/plain": [
       "<Figure size 360x360 with 1 Axes>"
      ]
     },
     "metadata": {
      "needs_background": "light"
     },
     "output_type": "display_data"
    }
   ],
   "source": [
    "#Créer Graphique pour visualiser la distribution de nombre des pays en fonction de %SousNutritionParPays\n",
    "\n",
    "sns.displot(PopulationEtSousNutrition, x=\"%SousNutritionParPays\")\n",
    "plt.ylabel('Numbre des pays')\n",
    "plt.title('Distribution Taux Sous Nutrition Dans le Pays')"
   ]
  },
  {
   "cell_type": "code",
   "execution_count": 47,
   "id": "2d6eea48-f630-454e-bf2e-671ef3c93ab0",
   "metadata": {
    "tags": []
   },
   "outputs": [
    {
     "name": "stdout",
     "output_type": "stream",
     "text": [
      "le nombre des pays d'où la proportion de sous nutrition dans le pays >10%: 42\n",
      "le nombre des pays d'où la proportion de sous nutrition dans le pays >20%: 19\n",
      "liste des pays d'où la proportion de sous nutrition dans le pays >20%: ['Afghanistan', 'Botswana', 'Congo', \"Côte d'Ivoire\", 'Haïti', 'Iraq', 'Kenya', 'Lesotho', 'Libéria', 'Madagascar', 'Mozambique', 'République populaire démocratique de Corée', 'République-Unie de Tanzanie', 'Rwanda', 'Sierra Leone', 'Tchad', 'Timor-Leste', 'Togo', 'Venezuela (République bolivarienne du)']\n"
     ]
    }
   ],
   "source": [
    "#Affichier le nombre de pays qui ont un taux de sous nutrition >10% ET 20%, et lister les pays > 20%\n",
    "print(\"le nombre des pays d'où la proportion de sous nutrition dans le pays >10%:\",PopulationEtSousNutrition[PopulationEtSousNutrition[\"%SousNutritionParPays\"]>10].Zone.count())\n",
    "print(\"le nombre des pays d'où la proportion de sous nutrition dans le pays >20%:\",PopulationEtSousNutrition[PopulationEtSousNutrition[\"%SousNutritionParPays\"]>20].Zone.count())\n",
    "print(\"liste des pays d'où la proportion de sous nutrition dans le pays >20%:\",PopulationEtSousNutrition[PopulationEtSousNutrition[\"%SousNutritionParPays\"]>20].Zone.to_list())"
   ]
  },
  {
   "cell_type": "markdown",
   "id": "d535982c-5eed-411f-83e1-79607d995127",
   "metadata": {},
   "source": [
    "### Réponse 2 de Question 5:\n",
    "\n",
    "1. Inde ne sont pas connu de top5 pays d'où la proportion sous nutrition dans le pays est le plus fort. Mais 35% de personne sous nutrition en 2017 est en Inde. Au niveau de la valeur absolue de la population sous nutrition, l'Inde est classé en premier.\n",
    "\n",
    "2. 52% de personne sous nutrition (soit 282800000 personnes) sont dans 5 pays Inde,Pakistan,Indonésie,Nigéria,Bangladesh\n",
    "\n",
    "3. La densité indique les pays sont concentré avec un taux de sous nutrition mondiale entre 0% à 4%\n",
    "\n",
    "4. 30 pays dans les 263 pays (soit 11% des pays) a 90% de population sous nutrition. (Zones concernés: Afrique/Moyen-Oriean/Asie)\n",
    "\n",
    "'Inde', 'Pakistan', 'Indonésie', 'Nigéria', 'Bangladesh', 'Éthiopie', 'Philippines', 'République-Unie de Tanzanie', 'République populaire démocratique de Corée', 'Kenya', 'Afghanistan', 'Madagascar', 'Mozambique', 'Iraq', 'Mexique', 'Venezuela (République bolivarienne du)', 'Myanmar', 'Viet Nam', 'Thaïlande', 'Angola', 'Tchad', 'Haïti', 'Soudan', \"Côte d'Ivoire\", 'Égypte', 'Rwanda', \"Iran (République islamique d')\", 'Burkina Faso', 'Malawi', 'Afrique du Sud'\n"
   ]
  },
  {
   "cell_type": "code",
   "execution_count": 48,
   "id": "d6e9e5ad-457d-48ad-9b56-c592cf84cd82",
   "metadata": {},
   "outputs": [
    {
     "data": {
      "text/html": [
       "<div>\n",
       "<style scoped>\n",
       "    .dataframe tbody tr th:only-of-type {\n",
       "        vertical-align: middle;\n",
       "    }\n",
       "\n",
       "    .dataframe tbody tr th {\n",
       "        vertical-align: top;\n",
       "    }\n",
       "\n",
       "    .dataframe thead th {\n",
       "        text-align: right;\n",
       "    }\n",
       "</style>\n",
       "<table border=\"1\" class=\"dataframe\">\n",
       "  <thead>\n",
       "    <tr style=\"text-align: right;\">\n",
       "      <th></th>\n",
       "      <th>Zone</th>\n",
       "      <th>Année</th>\n",
       "      <th>Population</th>\n",
       "      <th>NombreDePersonne_sous_nutrition</th>\n",
       "      <th>%SousNutritionParPays</th>\n",
       "      <th>%SousNutritionMonde</th>\n",
       "    </tr>\n",
       "  </thead>\n",
       "  <tbody>\n",
       "    <tr>\n",
       "      <th>103</th>\n",
       "      <td>Inde</td>\n",
       "      <td>2017</td>\n",
       "      <td>1.338677e+09</td>\n",
       "      <td>190100000.0</td>\n",
       "      <td>14.20</td>\n",
       "      <td>35.49</td>\n",
       "    </tr>\n",
       "    <tr>\n",
       "      <th>160</th>\n",
       "      <td>Pakistan</td>\n",
       "      <td>2017</td>\n",
       "      <td>2.079062e+08</td>\n",
       "      <td>24800000.0</td>\n",
       "      <td>11.93</td>\n",
       "      <td>4.63</td>\n",
       "    </tr>\n",
       "    <tr>\n",
       "      <th>104</th>\n",
       "      <td>Indonésie</td>\n",
       "      <td>2017</td>\n",
       "      <td>2.646510e+08</td>\n",
       "      <td>23600000.0</td>\n",
       "      <td>8.92</td>\n",
       "      <td>4.41</td>\n",
       "    </tr>\n",
       "    <tr>\n",
       "      <th>152</th>\n",
       "      <td>Nigéria</td>\n",
       "      <td>2017</td>\n",
       "      <td>1.908732e+08</td>\n",
       "      <td>22800000.0</td>\n",
       "      <td>11.95</td>\n",
       "      <td>4.26</td>\n",
       "    </tr>\n",
       "    <tr>\n",
       "      <th>19</th>\n",
       "      <td>Bangladesh</td>\n",
       "      <td>2017</td>\n",
       "      <td>1.596854e+08</td>\n",
       "      <td>21500000.0</td>\n",
       "      <td>13.46</td>\n",
       "      <td>4.01</td>\n",
       "    </tr>\n",
       "  </tbody>\n",
       "</table>\n",
       "</div>"
      ],
      "text/plain": [
       "           Zone  Année    Population  NombreDePersonne_sous_nutrition  \\\n",
       "103        Inde   2017  1.338677e+09                      190100000.0   \n",
       "160    Pakistan   2017  2.079062e+08                       24800000.0   \n",
       "104   Indonésie   2017  2.646510e+08                       23600000.0   \n",
       "152     Nigéria   2017  1.908732e+08                       22800000.0   \n",
       "19   Bangladesh   2017  1.596854e+08                       21500000.0   \n",
       "\n",
       "     %SousNutritionParPays  %SousNutritionMonde  \n",
       "103                  14.20                35.49  \n",
       "160                  11.93                 4.63  \n",
       "104                   8.92                 4.41  \n",
       "152                  11.95                 4.26  \n",
       "19                   13.46                 4.01  "
      ]
     },
     "execution_count": 48,
     "metadata": {},
     "output_type": "execute_result"
    }
   ],
   "source": [
    "#Créer colonne %SousNutritionMonde (Personne sous nutrition de chaque pays / total de personne sous nutrition), \n",
    "#et le classer en ordre décroissant\n",
    "\n",
    "\n",
    "PopulationEtSousNutrition['%SousNutritionMonde']=round((PopulationEtSousNutrition.NombreDePersonne_sous_nutrition/PopulationEtSousNutrition.NombreDePersonne_sous_nutrition.sum())*100,2)\n",
    "PopulationEtSousNutrition2=PopulationEtSousNutrition.sort_values(by='%SousNutritionMonde', ascending=False)\n",
    "\n",
    "#seléctionner les Top5 en créant un nouveau tableau Top5SousNutritionMonde pour les affichier et faire le graphique\n",
    "\n",
    "Top5SousNutritionMonde=PopulationEtSousNutrition2.head(5)\n",
    "Top5SousNutritionMonde"
   ]
  },
  {
   "cell_type": "code",
   "execution_count": 49,
   "id": "c18954b7-2c8f-4343-bd89-7c26f48a88cf",
   "metadata": {
    "tags": []
   },
   "outputs": [
    {
     "name": "stdout",
     "output_type": "stream",
     "text": [
      "Nombre de pays d'où on trouve 90% de personne sous nutrition: 30\n",
      "liste des pays d'où on trouve 90% de personne sous nutrition: ['Inde', 'Pakistan', 'Indonésie', 'Nigéria', 'Bangladesh', 'Éthiopie', 'Philippines', 'République-Unie de Tanzanie', 'République populaire démocratique de Corée', 'Kenya', 'Afghanistan', 'Madagascar', 'Mozambique', 'Iraq', 'Mexique', 'Venezuela (République bolivarienne du)', 'Myanmar', 'Viet Nam', 'Thaïlande', 'Angola', 'Tchad', 'Haïti', 'Soudan', \"Côte d'Ivoire\", 'Égypte', 'Rwanda', \"Iran (République islamique d')\", 'Burkina Faso', 'Malawi', 'Afrique du Sud']\n"
     ]
    }
   ],
   "source": [
    "# Créer colonne taux sous nutrition mondiale cumulative '%CummulSousAlimentMonde'\n",
    "\n",
    "PopulationEtSousNutrition2['%CummulSousAlimentMonde']=PopulationEtSousNutrition2['%SousNutritionMonde'].cumsum()\n",
    "\n",
    "#sélectionner les pays d'où 90% des personnes sous nutrition dans le monde se situe\n",
    "#Affichier le nombre des pays concerné et leur noms\n",
    "\n",
    "PopulationEtSousNutrition3=PopulationEtSousNutrition2[PopulationEtSousNutrition2['%CummulSousAlimentMonde']<90]\n",
    "print(\"Nombre de pays d'où on trouve 90% de personne sous nutrition:\",PopulationEtSousNutrition3.Zone.count())\n",
    "print(\"liste des pays d'où on trouve 90% de personne sous nutrition:\",PopulationEtSousNutrition3.Zone.to_list())"
   ]
  },
  {
   "cell_type": "code",
   "execution_count": 50,
   "id": "14bd48a5-1355-4f53-af8c-d0a8981a77d8",
   "metadata": {},
   "outputs": [
    {
     "data": {
      "text/plain": [
       "Text(0.5, 1.0, 'Distribution Propotion Sous Nutrition Mondiale')"
      ]
     },
     "execution_count": 50,
     "metadata": {},
     "output_type": "execute_result"
    },
    {
     "data": {
      "image/png": "[encoded data removed]",
      "text/plain": [
       "<Figure size 360x360 with 1 Axes>"
      ]
     },
     "metadata": {
      "needs_background": "light"
     },
     "output_type": "display_data"
    }
   ],
   "source": [
    "#Créer le graphique de distribution de nombre des pays selon le taux de sous nutrition mondiale\n",
    "sns.displot(PopulationEtSousNutrition2, x=\"%SousNutritionMonde\",kind='kde')\n",
    "plt.title('Distribution Propotion Sous Nutrition Mondiale')\n"
   ]
  },
  {
   "cell_type": "code",
   "execution_count": 51,
   "id": "8782eced-2f0f-4b3c-a894-425482d1b21a",
   "metadata": {},
   "outputs": [
    {
     "name": "stdout",
     "output_type": "stream",
     "text": [
      "Liste des pays avec un taux sous nutrition mondiale >4%: ['Inde', 'Pakistan', 'Indonésie', 'Nigéria', 'Bangladesh']\n",
      "Nombre de personne sous nutrition dans les pays qui ont un taux sous nutrition mondiale >4%: 282800000.0 personnes\n"
     ]
    }
   ],
   "source": [
    "#Voir les pays qui ont un taux sous nutrition mondiale > 4%, il s'agit bien les pays Top5\n",
    "\n",
    "print('Liste des pays avec un taux sous nutrition mondiale >4%:',PopulationEtSousNutrition2[PopulationEtSousNutrition2['%SousNutritionMonde']>4].Zone.to_list())\n",
    "print('Nombre de personne sous nutrition dans les pays qui ont un taux sous nutrition mondiale >4%:',PopulationEtSousNutrition2[PopulationEtSousNutrition2['%SousNutritionMonde']>4].NombreDePersonne_sous_nutrition.sum(),'personnes')"
   ]
  },
  {
   "cell_type": "code",
   "execution_count": 52,
   "id": "0252226c-2662-4392-a825-7173beca8c25",
   "metadata": {},
   "outputs": [
    {
     "data": {
      "text/plain": [
       "Text(0.5, 1.0, 'Top5 Proportion Sous Nutrition Mondiale')"
      ]
     },
     "execution_count": 52,
     "metadata": {},
     "output_type": "execute_result"
    },
    {
     "data": {
      "image/png": "[encoded data removed]",
      "text/plain": [
       "<Figure size 1152x288 with 1 Axes>"
      ]
     },
     "metadata": {
      "needs_background": "light"
     },
     "output_type": "display_data"
    }
   ],
   "source": [
    "#Créer Graphique Top5 selon le taux sous Nutrition mondiale\n",
    "\n",
    "plt.figure(figsize=(16,4))\n",
    "sns.barplot(x=\"Zone\",y=\"%SousNutritionMonde\", data=Top5SousNutritionMonde)\n",
    "plt.ylabel('%SousNutritionMonde')\n",
    "plt.title('Top5 Proportion Sous Nutrition Mondiale')"
   ]
  },
  {
   "cell_type": "markdown",
   "id": "3b511506-7673-4c69-9454-9333187b0065",
   "metadata": {
    "tags": []
   },
   "source": [
    "## Question 6 les pays qui ont le plus bénéficié d’aide depuis 2013\n",
    "\n",
    "#### Résultat:\n",
    "##### Top5 Pays beneficient le plus d'aides depuis 2013\n",
    "1. République arabe syrienne 1858943 Tonnes\n",
    "2. Éthiopie 1381294 Tonnes\n",
    "3. Yémen 1206484 Tonnes\n",
    "4. Soudan du Sud 695248 Tonnes\n",
    "5. Soudan 669784 Tonnes\n",
    "\n",
    "##### Top5 produits le plus utilisé:\n",
    "1. Céréales 4256884\n",
    "2. Blé et Farin 1781515\n",
    "3. Non-céréales 1261513\n",
    "4. Céréales Secondaires 1166565\n",
    "5. Riz, total 742418\n",
    "\n",
    "#### Méthode:\n",
    "Dans df_aide_alimentaire, on regrouper les aides en tonnes par Pays puis classer la colonne Valeur en ordre décroissant \n",
    "Idem  pour le classement des produits le plus utilisé"
   ]
  },
  {
   "cell_type": "code",
   "execution_count": 53,
   "id": "0564b392-fd30-48a1-a8eb-28a7f95db335",
   "metadata": {},
   "outputs": [
    {
     "data": {
      "text/html": [
       "<div>\n",
       "<style scoped>\n",
       "    .dataframe tbody tr th:only-of-type {\n",
       "        vertical-align: middle;\n",
       "    }\n",
       "\n",
       "    .dataframe tbody tr th {\n",
       "        vertical-align: top;\n",
       "    }\n",
       "\n",
       "    .dataframe thead th {\n",
       "        text-align: right;\n",
       "    }\n",
       "</style>\n",
       "<table border=\"1\" class=\"dataframe\">\n",
       "  <thead>\n",
       "    <tr style=\"text-align: right;\">\n",
       "      <th></th>\n",
       "      <th>Pays bénéficiaire</th>\n",
       "      <th>Année</th>\n",
       "      <th>Produit</th>\n",
       "      <th>Valeur</th>\n",
       "    </tr>\n",
       "  </thead>\n",
       "  <tbody>\n",
       "    <tr>\n",
       "      <th>0</th>\n",
       "      <td>Afghanistan</td>\n",
       "      <td>2013</td>\n",
       "      <td>Autres non-céréales</td>\n",
       "      <td>682</td>\n",
       "    </tr>\n",
       "    <tr>\n",
       "      <th>1</th>\n",
       "      <td>Afghanistan</td>\n",
       "      <td>2014</td>\n",
       "      <td>Autres non-céréales</td>\n",
       "      <td>335</td>\n",
       "    </tr>\n",
       "    <tr>\n",
       "      <th>2</th>\n",
       "      <td>Afghanistan</td>\n",
       "      <td>2013</td>\n",
       "      <td>Blé et Farin</td>\n",
       "      <td>39224</td>\n",
       "    </tr>\n",
       "    <tr>\n",
       "      <th>3</th>\n",
       "      <td>Afghanistan</td>\n",
       "      <td>2014</td>\n",
       "      <td>Blé et Farin</td>\n",
       "      <td>15160</td>\n",
       "    </tr>\n",
       "    <tr>\n",
       "      <th>4</th>\n",
       "      <td>Afghanistan</td>\n",
       "      <td>2013</td>\n",
       "      <td>Céréales</td>\n",
       "      <td>40504</td>\n",
       "    </tr>\n",
       "  </tbody>\n",
       "</table>\n",
       "</div>"
      ],
      "text/plain": [
       "  Pays bénéficiaire  Année              Produit  Valeur\n",
       "0       Afghanistan   2013  Autres non-céréales     682\n",
       "1       Afghanistan   2014  Autres non-céréales     335\n",
       "2       Afghanistan   2013         Blé et Farin   39224\n",
       "3       Afghanistan   2014         Blé et Farin   15160\n",
       "4       Afghanistan   2013             Céréales   40504"
      ]
     },
     "execution_count": 53,
     "metadata": {},
     "output_type": "execute_result"
    }
   ],
   "source": [
    "df_aide_alimentaire=pd.read_csv('C:/Users/PF/Desktop/openclassroom/P4 Réalisez une étude de santé publique avec R ou Python/aide_alimentaire.csv')\n",
    "\n",
    "df_aide_alimentaire.head()"
   ]
  },
  {
   "cell_type": "markdown",
   "id": "46c5cc15-1cf3-41d5-8650-4f38986ce948",
   "metadata": {},
   "source": [
    "### Explication de fichier df_aide_alimentaire\n",
    "\n",
    "Un fichier d’aide alimentaire qui contient :\n",
    "-Le pays bénéficiaire.\n",
    "-L’année.\n",
    "-Le produit.\n",
    "-La quantité qui a été donnée comme aide alimentaire, en tonnes.\n"
   ]
  },
  {
   "cell_type": "code",
   "execution_count": 54,
   "id": "1f985052-c9d6-4d74-9ae9-0909040b6ae2",
   "metadata": {},
   "outputs": [
    {
     "name": "stdout",
     "output_type": "stream",
     "text": [
      "<class 'pandas.core.frame.DataFrame'>\n",
      "RangeIndex: 1475 entries, 0 to 1474\n",
      "Data columns (total 4 columns):\n",
      " #   Column             Non-Null Count  Dtype \n",
      "---  ------             --------------  ----- \n",
      " 0   Pays bénéficiaire  1475 non-null   object\n",
      " 1   Année              1475 non-null   int64 \n",
      " 2   Produit            1475 non-null   object\n",
      " 3   Valeur             1475 non-null   int64 \n",
      "dtypes: int64(2), object(2)\n",
      "memory usage: 46.2+ KB\n"
     ]
    }
   ],
   "source": [
    "#Il n'y a pas de valeurs manquantes à traiter\n",
    "df_aide_alimentaire.info()"
   ]
  },
  {
   "cell_type": "code",
   "execution_count": 55,
   "id": "eb5c5168-aff4-4718-b0fa-7027ec0d0ac1",
   "metadata": {},
   "outputs": [
    {
     "data": {
      "text/plain": [
       "array([2013, 2014, 2015, 2016], dtype=int64)"
      ]
     },
     "execution_count": 55,
     "metadata": {},
     "output_type": "execute_result"
    }
   ],
   "source": [
    "#Vérifier les valeurs de colonne Année pour préparer l'agrégation\n",
    "df_aide_alimentaire.Année.unique()"
   ]
  },
  {
   "cell_type": "markdown",
   "id": "9ea3031a-4f50-45f1-a2c0-6b6868617811",
   "metadata": {},
   "source": [
    "### Réponse Question 6: \n",
    "76 Pays ont obtenu l'aide depuis 2013\n",
    "\n",
    "Les top 5 pays qui a eu le plus des aides alimentaires depuis 2013 : 'République arabe syrienne', 'Éthiopie', 'Yémen', 'Soudan du Sud','Soudan'"
   ]
  },
  {
   "cell_type": "code",
   "execution_count": 56,
   "id": "2d67e94a-5aa2-4f49-bd8a-3fd438616094",
   "metadata": {},
   "outputs": [
    {
     "name": "stdout",
     "output_type": "stream",
     "text": [
      "Le nombre des pays qui ont obtenu l'aide depuis 2013: 76 pays\n",
      "Les top 5 pays qui a eu le plus des aides alimentaires depuis 2013\n"
     ]
    },
    {
     "data": {
      "text/html": [
       "<div>\n",
       "<style scoped>\n",
       "    .dataframe tbody tr th:only-of-type {\n",
       "        vertical-align: middle;\n",
       "    }\n",
       "\n",
       "    .dataframe tbody tr th {\n",
       "        vertical-align: top;\n",
       "    }\n",
       "\n",
       "    .dataframe thead th {\n",
       "        text-align: right;\n",
       "    }\n",
       "</style>\n",
       "<table border=\"1\" class=\"dataframe\">\n",
       "  <thead>\n",
       "    <tr style=\"text-align: right;\">\n",
       "      <th></th>\n",
       "      <th>Pays bénéficiaire</th>\n",
       "      <th>Aide(tonnes)</th>\n",
       "    </tr>\n",
       "  </thead>\n",
       "  <tbody>\n",
       "    <tr>\n",
       "      <th>50</th>\n",
       "      <td>République arabe syrienne</td>\n",
       "      <td>1858943</td>\n",
       "    </tr>\n",
       "    <tr>\n",
       "      <th>75</th>\n",
       "      <td>Éthiopie</td>\n",
       "      <td>1381294</td>\n",
       "    </tr>\n",
       "    <tr>\n",
       "      <th>70</th>\n",
       "      <td>Yémen</td>\n",
       "      <td>1206484</td>\n",
       "    </tr>\n",
       "    <tr>\n",
       "      <th>61</th>\n",
       "      <td>Soudan du Sud</td>\n",
       "      <td>695248</td>\n",
       "    </tr>\n",
       "    <tr>\n",
       "      <th>60</th>\n",
       "      <td>Soudan</td>\n",
       "      <td>669784</td>\n",
       "    </tr>\n",
       "  </tbody>\n",
       "</table>\n",
       "</div>"
      ],
      "text/plain": [
       "            Pays bénéficiaire  Aide(tonnes)\n",
       "50  République arabe syrienne       1858943\n",
       "75                   Éthiopie       1381294\n",
       "70                      Yémen       1206484\n",
       "61              Soudan du Sud        695248\n",
       "60                     Soudan        669784"
      ]
     },
     "execution_count": 56,
     "metadata": {},
     "output_type": "execute_result"
    }
   ],
   "source": [
    "df_aideAlimentParPays=df_aide_alimentaire.groupby('Pays bénéficiaire',as_index=False).agg({'Valeur':sum})\n",
    "df_aideAlimentParPays1=df_aideAlimentParPays.sort_values(by='Valeur', ascending=False).rename(columns=({'Valeur':'Aide(tonnes)'}))\n",
    "print(\"Le nombre des pays qui ont obtenu l'aide depuis 2013:\",df_aideAlimentParPays1['Pays bénéficiaire'].count(),'pays')\n",
    "print('Les top 5 pays qui a eu le plus des aides alimentaires depuis 2013')\n",
    "Top5PaysLePlusDesAide=df_aideAlimentParPays1.head(5)\n",
    "Top5PaysLePlusDesAide"
   ]
  },
  {
   "cell_type": "code",
   "execution_count": 57,
   "id": "21b481fd-9e64-4e3e-8cdf-82516cafbf90",
   "metadata": {},
   "outputs": [
    {
     "data": {
      "text/plain": [
       "<AxesSubplot:xlabel='Pays bénéficiaire', ylabel='Aide(tonnes)'>"
      ]
     },
     "execution_count": 57,
     "metadata": {},
     "output_type": "execute_result"
    },
    {
     "data": {
      "image/png": "[encoded data removed]",
      "text/plain": [
       "<Figure size 864x288 with 1 Axes>"
      ]
     },
     "metadata": {
      "needs_background": "light"
     },
     "output_type": "display_data"
    }
   ],
   "source": [
    "#Créer le graphique Top5 pays qui ont le plus d'aides depuis 2013\n",
    "plt.figure(figsize=(12, 4))\n",
    "sns.barplot(x='Pays bénéficiaire', y='Aide(tonnes)', data=Top5PaysLePlusDesAide)"
   ]
  },
  {
   "cell_type": "code",
   "execution_count": 58,
   "id": "2326f58f-d83e-4009-aa84-d1a3d6954da5",
   "metadata": {
    "tags": []
   },
   "outputs": [
    {
     "data": {
      "text/plain": [
       "Text(0.5, 1.0, 'Classement des Pays qui ont obtenus les aides depuis 2013')"
      ]
     },
     "execution_count": 58,
     "metadata": {},
     "output_type": "execute_result"
    },
    {
     "data": {
      "image/png": "[encoded data removed]",
      "text/plain": [
       "<Figure size 1152x1080 with 1 Axes>"
      ]
     },
     "metadata": {
      "needs_background": "light"
     },
     "output_type": "display_data"
    }
   ],
   "source": [
    "#Créer le graphique pour affichier l'aide obtenu par pays en ordre décroissant\n",
    "plt.figure(figsize=(16, 15))\n",
    "sns.barplot(x='Aide(tonnes)', y='Pays bénéficiaire', data=df_aideAlimentParPays1)\n",
    "plt.title('Classement des Pays qui ont obtenus les aides depuis 2013')"
   ]
  },
  {
   "cell_type": "code",
   "execution_count": 59,
   "id": "34c00d31-ac31-4127-87f7-571232493933",
   "metadata": {},
   "outputs": [
    {
     "name": "stdout",
     "output_type": "stream",
     "text": [
      "Les 5 produits le plus utilisés: ['Céréales' 'Blé et Farin' 'Non-céréales' 'Céréales Secondaires'\n",
      " 'Riz, total']\n"
     ]
    },
    {
     "data": {
      "text/html": [
       "<div>\n",
       "<style scoped>\n",
       "    .dataframe tbody tr th:only-of-type {\n",
       "        vertical-align: middle;\n",
       "    }\n",
       "\n",
       "    .dataframe tbody tr th {\n",
       "        vertical-align: top;\n",
       "    }\n",
       "\n",
       "    .dataframe thead th {\n",
       "        text-align: right;\n",
       "    }\n",
       "</style>\n",
       "<table border=\"1\" class=\"dataframe\">\n",
       "  <thead>\n",
       "    <tr style=\"text-align: right;\">\n",
       "      <th></th>\n",
       "      <th>Produit</th>\n",
       "      <th>Aide(tonnes)</th>\n",
       "    </tr>\n",
       "  </thead>\n",
       "  <tbody>\n",
       "    <tr>\n",
       "      <th>3</th>\n",
       "      <td>Céréales</td>\n",
       "      <td>4256884</td>\n",
       "    </tr>\n",
       "    <tr>\n",
       "      <th>1</th>\n",
       "      <td>Blé et Farin</td>\n",
       "      <td>1781515</td>\n",
       "    </tr>\n",
       "    <tr>\n",
       "      <th>11</th>\n",
       "      <td>Non-céréales</td>\n",
       "      <td>1261513</td>\n",
       "    </tr>\n",
       "    <tr>\n",
       "      <th>4</th>\n",
       "      <td>Céréales Secondaires</td>\n",
       "      <td>1166565</td>\n",
       "    </tr>\n",
       "    <tr>\n",
       "      <th>13</th>\n",
       "      <td>Riz, total</td>\n",
       "      <td>742418</td>\n",
       "    </tr>\n",
       "  </tbody>\n",
       "</table>\n",
       "</div>"
      ],
      "text/plain": [
       "                 Produit  Aide(tonnes)\n",
       "3               Céréales       4256884\n",
       "1           Blé et Farin       1781515\n",
       "11          Non-céréales       1261513\n",
       "4   Céréales Secondaires       1166565\n",
       "13            Riz, total        742418"
      ]
     },
     "execution_count": 59,
     "metadata": {},
     "output_type": "execute_result"
    }
   ],
   "source": [
    "AideParProduit=df_aide_alimentaire.groupby(['Produit'],as_index=False).agg({'Valeur':sum}).sort_values(by=['Valeur'],ascending=False)\n",
    "AideParProduit=AideParProduit.rename(columns=({'Valeur':'Aide(tonnes)'}))\n",
    "print('Les 5 produits le plus utilisés:',AideParProduit.head(5)['Produit'].unique())\n",
    "AideParProduit.head()"
   ]
  },
  {
   "cell_type": "code",
   "execution_count": 60,
   "id": "9a51d8df-4d47-4c92-8fcc-b2b447ee7cb3",
   "metadata": {},
   "outputs": [
    {
     "data": {
      "text/plain": [
       "<AxesSubplot:xlabel='Produit', ylabel='Aide(tonnes)'>"
      ]
     },
     "execution_count": 60,
     "metadata": {},
     "output_type": "execute_result"
    },
    {
     "data": {
      "image/png": "[encoded data removed]",
      "text/plain": [
       "<Figure size 864x288 with 1 Axes>"
      ]
     },
     "metadata": {
      "needs_background": "light"
     },
     "output_type": "display_data"
    }
   ],
   "source": [
    "plt.figure(figsize=(12, 4))\n",
    "sns.barplot(x='Produit', y='Aide(tonnes)', data=AideParProduit.head(5))"
   ]
  },
  {
   "cell_type": "code",
   "execution_count": 61,
   "id": "16ba3687-7070-40c3-9815-620e722ad634",
   "metadata": {},
   "outputs": [
    {
     "data": {
      "text/plain": [
       "Text(0.5, 1.0, 'Classement des Aliments Utilisés dans les Aides aux Pays Sous Nutrition')"
      ]
     },
     "execution_count": 61,
     "metadata": {},
     "output_type": "execute_result"
    },
    {
     "data": {
      "image/png": "[encoded data removed]",
      "text/plain": [
       "<Figure size 1152x1080 with 1 Axes>"
      ]
     },
     "metadata": {
      "needs_background": "light"
     },
     "output_type": "display_data"
    }
   ],
   "source": [
    "#Créer le graphique pour affichier l'aide par produit en ordre décroissant\n",
    "plt.figure(figsize=(16, 15))\n",
    "sns.barplot(x='Aide(tonnes)', y='Produit', data=AideParProduit)\n",
    "plt.title('Classement des Aliments Utilisés dans les Aides aux Pays Sous Nutrition')\n"
   ]
  },
  {
   "cell_type": "markdown",
   "id": "5f216932-dffe-4051-b635-a89804c71eac",
   "metadata": {},
   "source": [
    "### Question 7 les pays qui ont le plus et le moins disponibilité par Calorié par Habitant\n",
    "\n",
    "#### Résultat: \n",
    "\n",
    "##### En Calorie\n",
    "\n",
    "-Les 5 pays ont le plus de disponibilité/habitant: Autriche,Belgique,Turquie,États-Unis d'Amérique, Israël , disponibilité 3600K-3800Kcal/Pers/J\n",
    "\n",
    "-Les 5 pays ont le moins de la disponibilité/habitant:Haïti,Afghanistan,Madagascar,Zambie,République centrafricaine, disponibilité 1800K-2100Kcal/Pers/J\n",
    "\n",
    "##### La distribution des pays selon la disposition Kcal/habitant:\n",
    "\n",
    "-La distribution indique une déséquilibre entre les pays concernant la disponibilité Kcal/habitant. Il y a plus des pays qui ont une disponibilité entre 2700-3500kcal/personne/j, mais en même temps il y a les pays qui atteint pas à la seuil recommandée 2500Kcal/habitant/jour\n",
    "\n",
    "-13 pays qui ont une disponibilité Calorié par Habitant < 2000Kcal/J\n",
    "\n",
    "-10 pays qui ont une disponibilité Calorié par Habitant > 3500Kcal/J\n",
    "\n",
    "##### En Protéine\n",
    "-Les 5 pays ont le plus de disponibilité/habitant: 'Islande', 'Chine - RAS de Hong-Kong', 'Israël', 'Lituanie',\n",
    "       'Maldives' disponibilité: 122-133g/pers/j\n",
    "\n",
    "-Les 5 pays ont le moins de la disponibilité/habitant: 'Madagascar', 'République centrafricaine', 'Mozambique',\n",
    "       'Guinée-Bissau', 'Libéria', disponibilité : 37-46g/pers/j\n",
    "\n",
    "##### En Matière Grasse\n",
    "-Les 5 pays ont le plus de disponibilité/habitant: Autriche', 'Belgique', \"États-Unis d'Amérique\", 'France',\n",
    "       'Italie'  disponibilité (154-170g/pers/j)\n",
    "\n",
    "-Les 5 pays ont le moins de la disponibilité/habitant:Lesotho', 'Bangladesh', 'Éthiopie', 'Madagascar', 'Rwanda' disponibilité (23-32g/pers/j)\n",
    "\n",
    "\n",
    "##### En Quantité\n",
    "-Les 5 pays ont le plus de disponibilité/habitant: 'Monténégro', 'Luxembourg', 'Irlande', 'Albanie', 'Finlande' disponibilité: 1000-1300kg/pers/j\n",
    "\n",
    "-Les 5 pays ont le moins de la disponibilité/habitant: 'Éthiopie', 'Afghanistan', 'Zambie', 'Zimbabwe', 'Tchad' disponibilité: 310-360kg/pers/j\n",
    "\n",
    "\n",
    "#### Méthode:\n",
    "\n",
    "A partir de tableau dispo_alimentaire, on sélectionne 4 type de disponibilité par habitant en les agrègeant par pays.\n",
    "On va créer le tableau de classement par type de disponibilité en ordre décroissant pour identifier les 5 pays ont plus de la disponibilité et les 5 pays ont le moins de la disponibilité par type des 4 disponibilité par habitant.\n"
   ]
  },
  {
   "cell_type": "code",
   "execution_count": 62,
   "id": "819401a2-2067-402e-b53a-85930af9a35c",
   "metadata": {
    "tags": []
   },
   "outputs": [
    {
     "data": {
      "text/html": [
       "<div>\n",
       "<style scoped>\n",
       "    .dataframe tbody tr th:only-of-type {\n",
       "        vertical-align: middle;\n",
       "    }\n",
       "\n",
       "    .dataframe tbody tr th {\n",
       "        vertical-align: top;\n",
       "    }\n",
       "\n",
       "    .dataframe thead th {\n",
       "        text-align: right;\n",
       "    }\n",
       "</style>\n",
       "<table border=\"1\" class=\"dataframe\">\n",
       "  <thead>\n",
       "    <tr style=\"text-align: right;\">\n",
       "      <th></th>\n",
       "      <th>Zone</th>\n",
       "      <th>Disponibilité alimentaire (Kcal/personne/jour)</th>\n",
       "      <th>Disponibilité alimentaire en quantité (kg/personne/an)</th>\n",
       "      <th>Disponibilité de matière grasse en quantité (g/personne/jour)</th>\n",
       "      <th>Disponibilité de protéines en quantité (g/personne/jour)</th>\n",
       "    </tr>\n",
       "  </thead>\n",
       "  <tbody>\n",
       "    <tr>\n",
       "      <th>0</th>\n",
       "      <td>Afghanistan</td>\n",
       "      <td>2087.0</td>\n",
       "      <td>351.41</td>\n",
       "      <td>33.50</td>\n",
       "      <td>58.26</td>\n",
       "    </tr>\n",
       "    <tr>\n",
       "      <th>1</th>\n",
       "      <td>Afrique du Sud</td>\n",
       "      <td>3020.0</td>\n",
       "      <td>564.80</td>\n",
       "      <td>83.58</td>\n",
       "      <td>85.33</td>\n",
       "    </tr>\n",
       "    <tr>\n",
       "      <th>2</th>\n",
       "      <td>Albanie</td>\n",
       "      <td>3188.0</td>\n",
       "      <td>1095.54</td>\n",
       "      <td>106.48</td>\n",
       "      <td>111.37</td>\n",
       "    </tr>\n",
       "    <tr>\n",
       "      <th>3</th>\n",
       "      <td>Algérie</td>\n",
       "      <td>3293.0</td>\n",
       "      <td>809.13</td>\n",
       "      <td>76.48</td>\n",
       "      <td>91.92</td>\n",
       "    </tr>\n",
       "    <tr>\n",
       "      <th>4</th>\n",
       "      <td>Allemagne</td>\n",
       "      <td>3503.0</td>\n",
       "      <td>957.52</td>\n",
       "      <td>141.62</td>\n",
       "      <td>101.39</td>\n",
       "    </tr>\n",
       "  </tbody>\n",
       "</table>\n",
       "</div>"
      ],
      "text/plain": [
       "             Zone  Disponibilité alimentaire (Kcal/personne/jour)  \\\n",
       "0     Afghanistan                                          2087.0   \n",
       "1  Afrique du Sud                                          3020.0   \n",
       "2         Albanie                                          3188.0   \n",
       "3         Algérie                                          3293.0   \n",
       "4       Allemagne                                          3503.0   \n",
       "\n",
       "   Disponibilité alimentaire en quantité (kg/personne/an)  \\\n",
       "0                                             351.41        \n",
       "1                                             564.80        \n",
       "2                                            1095.54        \n",
       "3                                             809.13        \n",
       "4                                             957.52        \n",
       "\n",
       "   Disponibilité de matière grasse en quantité (g/personne/jour)  \\\n",
       "0                                              33.50               \n",
       "1                                              83.58               \n",
       "2                                             106.48               \n",
       "3                                              76.48               \n",
       "4                                             141.62               \n",
       "\n",
       "   Disponibilité de protéines en quantité (g/personne/jour)  \n",
       "0                                              58.26         \n",
       "1                                              85.33         \n",
       "2                                             111.37         \n",
       "3                                              91.92         \n",
       "4                                             101.39         "
      ]
     },
     "execution_count": 62,
     "metadata": {},
     "output_type": "execute_result"
    }
   ],
   "source": [
    "#Créer le tableau Disponibilité Par Habitant en sélectionnant 4 disponibilité/habitant et faisant l'agrégation par Pays\n",
    "DisponibilitéParHabitant=df_dispo_alimentaire.groupby(['Zone'],as_index=False).agg({'Disponibilité alimentaire (Kcal/personne/jour)':sum,'Disponibilité alimentaire en quantité (kg/personne/an)':sum,'Disponibilité de matière grasse en quantité (g/personne/jour)':sum,'Disponibilité de protéines en quantité (g/personne/jour)':sum})\n",
    "DisponibilitéParHabitant.head()"
   ]
  },
  {
   "cell_type": "markdown",
   "id": "cac4dd53-dd5f-41a2-ab7b-f1540d3c635f",
   "metadata": {},
   "source": [
    "### Réponse 1 Question 7 le top5 des pays qui sont le plus et le moins de disponibilité par habitant en Calorie"
   ]
  },
  {
   "cell_type": "code",
   "execution_count": 63,
   "id": "472d71b6-797f-44bf-bc0b-37bcc448d012",
   "metadata": {},
   "outputs": [
    {
     "name": "stdout",
     "output_type": "stream",
     "text": [
      "les top 5 pays ont le plus de disponibilité Kcal par habitant\n"
     ]
    },
    {
     "data": {
      "text/html": [
       "<div>\n",
       "<style scoped>\n",
       "    .dataframe tbody tr th:only-of-type {\n",
       "        vertical-align: middle;\n",
       "    }\n",
       "\n",
       "    .dataframe tbody tr th {\n",
       "        vertical-align: top;\n",
       "    }\n",
       "\n",
       "    .dataframe thead th {\n",
       "        text-align: right;\n",
       "    }\n",
       "</style>\n",
       "<table border=\"1\" class=\"dataframe\">\n",
       "  <thead>\n",
       "    <tr style=\"text-align: right;\">\n",
       "      <th></th>\n",
       "      <th>Zone</th>\n",
       "      <th>Disponibilité alimentaire (Kcal/personne/jour)</th>\n",
       "    </tr>\n",
       "  </thead>\n",
       "  <tbody>\n",
       "    <tr>\n",
       "      <th>11</th>\n",
       "      <td>Autriche</td>\n",
       "      <td>3770.0</td>\n",
       "    </tr>\n",
       "    <tr>\n",
       "      <th>16</th>\n",
       "      <td>Belgique</td>\n",
       "      <td>3737.0</td>\n",
       "    </tr>\n",
       "    <tr>\n",
       "      <th>159</th>\n",
       "      <td>Turquie</td>\n",
       "      <td>3708.0</td>\n",
       "    </tr>\n",
       "    <tr>\n",
       "      <th>171</th>\n",
       "      <td>États-Unis d'Amérique</td>\n",
       "      <td>3682.0</td>\n",
       "    </tr>\n",
       "    <tr>\n",
       "      <th>74</th>\n",
       "      <td>Israël</td>\n",
       "      <td>3610.0</td>\n",
       "    </tr>\n",
       "  </tbody>\n",
       "</table>\n",
       "</div>"
      ],
      "text/plain": [
       "                      Zone  Disponibilité alimentaire (Kcal/personne/jour)\n",
       "11                Autriche                                          3770.0\n",
       "16                Belgique                                          3737.0\n",
       "159                Turquie                                          3708.0\n",
       "171  États-Unis d'Amérique                                          3682.0\n",
       "74                  Israël                                          3610.0"
      ]
     },
     "metadata": {},
     "output_type": "display_data"
    },
    {
     "name": "stdout",
     "output_type": "stream",
     "text": [
      "les top 5 pays ont le moins de disponibilité Kcal par habitant\n"
     ]
    },
    {
     "data": {
      "text/html": [
       "<div>\n",
       "<style scoped>\n",
       "    .dataframe tbody tr th:only-of-type {\n",
       "        vertical-align: middle;\n",
       "    }\n",
       "\n",
       "    .dataframe tbody tr th {\n",
       "        vertical-align: top;\n",
       "    }\n",
       "\n",
       "    .dataframe thead th {\n",
       "        text-align: right;\n",
       "    }\n",
       "</style>\n",
       "<table border=\"1\" class=\"dataframe\">\n",
       "  <thead>\n",
       "    <tr style=\"text-align: right;\">\n",
       "      <th></th>\n",
       "      <th>Zone</th>\n",
       "      <th>Disponibilité alimentaire (Kcal/personne/jour)</th>\n",
       "    </tr>\n",
       "  </thead>\n",
       "  <tbody>\n",
       "    <tr>\n",
       "      <th>65</th>\n",
       "      <td>Haïti</td>\n",
       "      <td>2089.0</td>\n",
       "    </tr>\n",
       "    <tr>\n",
       "      <th>0</th>\n",
       "      <td>Afghanistan</td>\n",
       "      <td>2087.0</td>\n",
       "    </tr>\n",
       "    <tr>\n",
       "      <th>91</th>\n",
       "      <td>Madagascar</td>\n",
       "      <td>2056.0</td>\n",
       "    </tr>\n",
       "    <tr>\n",
       "      <th>166</th>\n",
       "      <td>Zambie</td>\n",
       "      <td>1924.0</td>\n",
       "    </tr>\n",
       "    <tr>\n",
       "      <th>128</th>\n",
       "      <td>République centrafricaine</td>\n",
       "      <td>1879.0</td>\n",
       "    </tr>\n",
       "  </tbody>\n",
       "</table>\n",
       "</div>"
      ],
      "text/plain": [
       "                          Zone  Disponibilité alimentaire (Kcal/personne/jour)\n",
       "65                       Haïti                                          2089.0\n",
       "0                  Afghanistan                                          2087.0\n",
       "91                  Madagascar                                          2056.0\n",
       "166                     Zambie                                          1924.0\n",
       "128  République centrafricaine                                          1879.0"
      ]
     },
     "metadata": {},
     "output_type": "display_data"
    }
   ],
   "source": [
    "#Créer tableau Classement Par Calorie en ranger les disponibilité alimentaire Kcal en ordre décroissant\n",
    "ClassementParCalorié=DisponibilitéParHabitant.sort_values(by='Disponibilité alimentaire (Kcal/personne/jour)',ascending=False)\n",
    "ClassementParCalorié=ClassementParCalorié[['Zone','Disponibilité alimentaire (Kcal/personne/jour)']]\n",
    "#Sélectionner les top5 (le plus de disponibillité/habitant) et le tail5(le moins de disponibilité/habitant en Kcal)\n",
    "print('les top 5 pays ont le plus de disponibilité Kcal par habitant')\n",
    "display(ClassementParCalorié.head())\n",
    "print('les top 5 pays ont le moins de disponibilité Kcal par habitant')\n",
    "display(ClassementParCalorié.tail())\n",
    "\n",
    "#Créer Top5Calorie et Tail5Calorie pour le graphique\n",
    "Top5Calorie=ClassementParCalorié.head(5)\n",
    "Tail5Calorie=ClassementParCalorié.tail(5)"
   ]
  },
  {
   "cell_type": "code",
   "execution_count": 64,
   "id": "bd3b54ef-e16d-4f70-a2e3-45ea1e540b9b",
   "metadata": {},
   "outputs": [
    {
     "data": {
      "text/plain": [
       "Text(0.5, 1.0, '5 pays le moins de disponibilité/habitant en calorié')"
      ]
     },
     "execution_count": 64,
     "metadata": {},
     "output_type": "execute_result"
    },
    {
     "data": {
      "image/png": "[encoded data removed]",
      "text/plain": [
       "<Figure size 1152x288 with 2 Axes>"
      ]
     },
     "metadata": {
      "needs_background": "light"
     },
     "output_type": "display_data"
    }
   ],
   "source": [
    "#Créer le graphique pour visualiser les 5 pays le plus de disponibilité et les 5 pays le moins de disponibilité Kcal\n",
    "\n",
    "plt.figure(figsize=(16,4))\n",
    "plt.subplot(1,2,1)\n",
    "sns.barplot(x=\"Zone\",y=\"Disponibilité alimentaire (Kcal/personne/jour)\", data=Top5Calorie)\n",
    "plt.ylabel('Disponibilité alimentaire (Kcal/personne/jour)')\n",
    "plt.title('5 Pays le plus de Disponibilité/habitant en calorié')\n",
    "\n",
    "plt.subplot(1,2,2)\n",
    "sns.barplot(x=\"Zone\",y=\"Disponibilité alimentaire (Kcal/personne/jour)\", data=Tail5Calorie)\n",
    "plt.ylabel('Disponibilité alimentaire (Kcal/personne/jour)')\n",
    "plt.title('5 pays le moins de disponibilité/habitant en calorié')\n"
   ]
  },
  {
   "cell_type": "markdown",
   "id": "b4bec498-fcfe-49fb-b6a8-03d758747b95",
   "metadata": {},
   "source": [
    "### Réponse 2 Question 7  Distribution de Nombre des pays en fonction de Disponibilité alimentaire (Kcal/personne/jour)\n",
    "##### une déséquilibre de la disponibilité entre les pays indiqué par le deuxième Pic de cloche (entre 2700 et 3500Kcal/pers/j)\n",
    "##### 13 pays qui ont une disponibilité Calorié par Habitant < 2000Kcal/J \n",
    "##### 10 pays qui ont une disponibilité Calorié par Habitant > 3500Kcal/J"
   ]
  },
  {
   "cell_type": "code",
   "execution_count": 65,
   "id": "0d292077-ebb8-4746-8aab-2a78272795a2",
   "metadata": {},
   "outputs": [
    {
     "data": {
      "text/plain": [
       "Text(0.5, 1.0, 'Distribution Pays Disponibilité Calorié/Habitant')"
      ]
     },
     "execution_count": 65,
     "metadata": {},
     "output_type": "execute_result"
    },
    {
     "data": {
      "image/png": "[encoded data removed]",
      "text/plain": [
       "<Figure size 360x360 with 1 Axes>"
      ]
     },
     "metadata": {
      "needs_background": "light"
     },
     "output_type": "display_data"
    }
   ],
   "source": [
    "sns.displot(ClassementParCalorié, x=\"Disponibilité alimentaire (Kcal/personne/jour)\", kind=\"kde\")\n",
    "plt.title('Distribution Pays Disponibilité Calorié/Habitant')"
   ]
  },
  {
   "cell_type": "code",
   "execution_count": 66,
   "id": "041eb082-cc39-4a83-880b-676b82e2b250",
   "metadata": {},
   "outputs": [
    {
     "name": "stdout",
     "output_type": "stream",
     "text": [
      "Nombre de pays qui ont la disponibilité Calorié par Habitant est inférieur à 2200Kcal/Personne/Jour\n"
     ]
    },
    {
     "data": {
      "text/plain": [
       "13"
      ]
     },
     "metadata": {},
     "output_type": "display_data"
    },
    {
     "name": "stdout",
     "output_type": "stream",
     "text": [
      "Liste des pays qui ont la disponibilité Calorié par Habitant est inférieur à 2200Kcal/Personne/Jour\n"
     ]
    },
    {
     "data": {
      "text/plain": [
       "['Tadjikistan',\n",
       " 'Namibie',\n",
       " 'Timor-Leste',\n",
       " 'Éthiopie',\n",
       " 'Ouganda',\n",
       " 'Zimbabwe',\n",
       " 'Tchad',\n",
       " 'République populaire démocratique de Corée',\n",
       " 'Haïti',\n",
       " 'Afghanistan',\n",
       " 'Madagascar',\n",
       " 'Zambie',\n",
       " 'République centrafricaine']"
      ]
     },
     "metadata": {},
     "output_type": "display_data"
    }
   ],
   "source": [
    "print('Nombre de pays qui ont la disponibilité Calorié par Habitant est inférieur à 2200Kcal/Personne/Jour')\n",
    "display(ClassementParCalorié[ClassementParCalorié[\"Disponibilité alimentaire (Kcal/personne/jour)\"]<2200].Zone.count())\n",
    "print('Liste des pays qui ont la disponibilité Calorié par Habitant est inférieur à 2200Kcal/Personne/Jour')\n",
    "display(ClassementParCalorié[ClassementParCalorié[\"Disponibilité alimentaire (Kcal/personne/jour)\"]<2200].Zone.to_list())\n"
   ]
  },
  {
   "cell_type": "code",
   "execution_count": 67,
   "id": "6b616fb4-5349-43ac-a83b-c755d95937ff",
   "metadata": {},
   "outputs": [
    {
     "name": "stdout",
     "output_type": "stream",
     "text": [
      "Nombre de pays qui ont la disponibilité Calorié par Habitant est supérieur à 3500Kcal/Personne/Jour\n"
     ]
    },
    {
     "data": {
      "text/plain": [
       "10"
      ]
     },
     "metadata": {},
     "output_type": "display_data"
    },
    {
     "name": "stdout",
     "output_type": "stream",
     "text": [
      "Liste des pays qui ont la disponibilité Calorié par Habitant est supérieur à 3500Kcal/Personne/Jour\n"
     ]
    },
    {
     "data": {
      "text/plain": [
       "['Autriche',\n",
       " 'Belgique',\n",
       " 'Turquie',\n",
       " \"États-Unis d'Amérique\",\n",
       " 'Israël',\n",
       " 'Irlande',\n",
       " 'Italie',\n",
       " 'Luxembourg',\n",
       " 'Égypte',\n",
       " 'Allemagne']"
      ]
     },
     "metadata": {},
     "output_type": "display_data"
    }
   ],
   "source": [
    "print('Nombre de pays qui ont la disponibilité Calorié par Habitant est supérieur à 3500Kcal/Personne/Jour')\n",
    "display(ClassementParCalorié[ClassementParCalorié[\"Disponibilité alimentaire (Kcal/personne/jour)\"]>3500].Zone.count())\n",
    "print('Liste des pays qui ont la disponibilité Calorié par Habitant est supérieur à 3500Kcal/Personne/Jour')\n",
    "display(ClassementParCalorié[ClassementParCalorié[\"Disponibilité alimentaire (Kcal/personne/jour)\"]>3500].Zone.to_list())"
   ]
  },
  {
   "cell_type": "markdown",
   "id": "c5907de1-6b0d-4f5e-a924-d4d31255f0ef",
   "metadata": {},
   "source": [
    "### Réponse 3 Question 7  Selon Disponibilité de protéines en quantité (g/personne/jour)\n",
    "##### le top5 des pays qui sont le plus et le moins de disponibilité par habitant en Protéine"
   ]
  },
  {
   "cell_type": "code",
   "execution_count": 68,
   "id": "58fddbf6-567e-447c-a622-9ada8af72048",
   "metadata": {},
   "outputs": [
    {
     "name": "stdout",
     "output_type": "stream",
     "text": [
      "les top 5 pays ont le plus de disponibilité Protéine par habitant\n"
     ]
    },
    {
     "data": {
      "text/html": [
       "<div>\n",
       "<style scoped>\n",
       "    .dataframe tbody tr th:only-of-type {\n",
       "        vertical-align: middle;\n",
       "    }\n",
       "\n",
       "    .dataframe tbody tr th {\n",
       "        vertical-align: top;\n",
       "    }\n",
       "\n",
       "    .dataframe thead th {\n",
       "        text-align: right;\n",
       "    }\n",
       "</style>\n",
       "<table border=\"1\" class=\"dataframe\">\n",
       "  <thead>\n",
       "    <tr style=\"text-align: right;\">\n",
       "      <th></th>\n",
       "      <th>Zone</th>\n",
       "      <th>Disponibilité de protéines en quantité (g/personne/jour)</th>\n",
       "    </tr>\n",
       "  </thead>\n",
       "  <tbody>\n",
       "    <tr>\n",
       "      <th>73</th>\n",
       "      <td>Islande</td>\n",
       "      <td>133.06</td>\n",
       "    </tr>\n",
       "    <tr>\n",
       "      <th>33</th>\n",
       "      <td>Chine - RAS de Hong-Kong</td>\n",
       "      <td>129.07</td>\n",
       "    </tr>\n",
       "    <tr>\n",
       "      <th>74</th>\n",
       "      <td>Israël</td>\n",
       "      <td>128.00</td>\n",
       "    </tr>\n",
       "    <tr>\n",
       "      <th>88</th>\n",
       "      <td>Lituanie</td>\n",
       "      <td>124.36</td>\n",
       "    </tr>\n",
       "    <tr>\n",
       "      <th>94</th>\n",
       "      <td>Maldives</td>\n",
       "      <td>122.32</td>\n",
       "    </tr>\n",
       "  </tbody>\n",
       "</table>\n",
       "</div>"
      ],
      "text/plain": [
       "                        Zone  \\\n",
       "73                   Islande   \n",
       "33  Chine - RAS de Hong-Kong   \n",
       "74                    Israël   \n",
       "88                  Lituanie   \n",
       "94                  Maldives   \n",
       "\n",
       "    Disponibilité de protéines en quantité (g/personne/jour)  \n",
       "73                                             133.06         \n",
       "33                                             129.07         \n",
       "74                                             128.00         \n",
       "88                                             124.36         \n",
       "94                                             122.32         "
      ]
     },
     "metadata": {},
     "output_type": "display_data"
    },
    {
     "name": "stdout",
     "output_type": "stream",
     "text": [
      "les top 5 pays ont le moins de disponibilité Protéine par habitant\n"
     ]
    },
    {
     "data": {
      "text/html": [
       "<div>\n",
       "<style scoped>\n",
       "    .dataframe tbody tr th:only-of-type {\n",
       "        vertical-align: middle;\n",
       "    }\n",
       "\n",
       "    .dataframe tbody tr th {\n",
       "        vertical-align: top;\n",
       "    }\n",
       "\n",
       "    .dataframe thead th {\n",
       "        text-align: right;\n",
       "    }\n",
       "</style>\n",
       "<table border=\"1\" class=\"dataframe\">\n",
       "  <thead>\n",
       "    <tr style=\"text-align: right;\">\n",
       "      <th></th>\n",
       "      <th>Zone</th>\n",
       "      <th>Disponibilité de protéines en quantité (g/personne/jour)</th>\n",
       "    </tr>\n",
       "  </thead>\n",
       "  <tbody>\n",
       "    <tr>\n",
       "      <th>91</th>\n",
       "      <td>Madagascar</td>\n",
       "      <td>46.69</td>\n",
       "    </tr>\n",
       "    <tr>\n",
       "      <th>128</th>\n",
       "      <td>République centrafricaine</td>\n",
       "      <td>46.04</td>\n",
       "    </tr>\n",
       "    <tr>\n",
       "      <th>103</th>\n",
       "      <td>Mozambique</td>\n",
       "      <td>45.68</td>\n",
       "    </tr>\n",
       "    <tr>\n",
       "      <th>62</th>\n",
       "      <td>Guinée-Bissau</td>\n",
       "      <td>44.05</td>\n",
       "    </tr>\n",
       "    <tr>\n",
       "      <th>87</th>\n",
       "      <td>Libéria</td>\n",
       "      <td>37.66</td>\n",
       "    </tr>\n",
       "  </tbody>\n",
       "</table>\n",
       "</div>"
      ],
      "text/plain": [
       "                          Zone  \\\n",
       "91                  Madagascar   \n",
       "128  République centrafricaine   \n",
       "103                 Mozambique   \n",
       "62               Guinée-Bissau   \n",
       "87                     Libéria   \n",
       "\n",
       "     Disponibilité de protéines en quantité (g/personne/jour)  \n",
       "91                                               46.69         \n",
       "128                                              46.04         \n",
       "103                                              45.68         \n",
       "62                                               44.05         \n",
       "87                                               37.66         "
      ]
     },
     "metadata": {},
     "output_type": "display_data"
    }
   ],
   "source": [
    "ClassementParProtéine=DisponibilitéParHabitant.sort_values(by='Disponibilité de protéines en quantité (g/personne/jour)',ascending=False)\n",
    "ClassementParProtéine=ClassementParProtéine[['Zone','Disponibilité de protéines en quantité (g/personne/jour)']]\n",
    "print('les top 5 pays ont le plus de disponibilité Protéine par habitant')\n",
    "display(ClassementParProtéine.head())\n",
    "print('les top 5 pays ont le moins de disponibilité Protéine par habitant')\n",
    "display(ClassementParProtéine.tail())\n",
    "\n",
    "Top5Proteine=ClassementParProtéine.head(5)\n",
    "Tail5Proteine=ClassementParProtéine.tail(5)\n"
   ]
  },
  {
   "cell_type": "code",
   "execution_count": 69,
   "id": "b4d577f8-8615-4413-850a-c8463c641240",
   "metadata": {},
   "outputs": [
    {
     "data": {
      "text/plain": [
       "Text(0.5, 1.0, '5 pays le moins de disponibilité/habitant en Protéines')"
      ]
     },
     "execution_count": 69,
     "metadata": {},
     "output_type": "execute_result"
    },
    {
     "data": {
      "image/png": "[encoded data removed]",
      "text/plain": [
       "<Figure size 1152x288 with 2 Axes>"
      ]
     },
     "metadata": {
      "needs_background": "light"
     },
     "output_type": "display_data"
    }
   ],
   "source": [
    "plt.figure(figsize=(16,4))\n",
    "plt.subplot(1,2,1)\n",
    "sns.barplot(x=\"Zone\",y=\"Disponibilité de protéines en quantité (g/personne/jour)\", data=Top5Proteine)\n",
    "plt.xticks(rotation=45)\n",
    "plt.ylabel('Disponibilité de protéines en quantité (g/personne/jour)')\n",
    "plt.title('5 Pays le plus de Disponibilité/habitant en Protéines')\n",
    "\n",
    "plt.subplot(1,2,2)\n",
    "sns.barplot(x=\"Zone\",y=\"Disponibilité de protéines en quantité (g/personne/jour)\", data=Tail5Proteine)\n",
    "plt.xticks(rotation=45)\n",
    "plt.ylabel('Disponibilité de protéines en quantité (g/personne/jour)')\n",
    "plt.title('5 pays le moins de disponibilité/habitant en Protéines')"
   ]
  },
  {
   "cell_type": "markdown",
   "id": "8cce1a5f-bccd-45e5-9638-fefeb34c1c67",
   "metadata": {},
   "source": [
    "### Réponse 4 Question 7 Selon Disponibilité de matière grasse en quantité (g/personne/jour)\n",
    "##### le top5 des pays qui sont le plus et le moins de disponibilité par habitant en Matière Grasse"
   ]
  },
  {
   "cell_type": "code",
   "execution_count": 70,
   "id": "a0c4d080-0836-4984-8350-6e2a94f044ee",
   "metadata": {},
   "outputs": [
    {
     "name": "stdout",
     "output_type": "stream",
     "text": [
      "les top 5 pays ont le plus de disponibilité MatièreGras par habitant\n"
     ]
    },
    {
     "data": {
      "text/html": [
       "<div>\n",
       "<style scoped>\n",
       "    .dataframe tbody tr th:only-of-type {\n",
       "        vertical-align: middle;\n",
       "    }\n",
       "\n",
       "    .dataframe tbody tr th {\n",
       "        vertical-align: top;\n",
       "    }\n",
       "\n",
       "    .dataframe thead th {\n",
       "        text-align: right;\n",
       "    }\n",
       "</style>\n",
       "<table border=\"1\" class=\"dataframe\">\n",
       "  <thead>\n",
       "    <tr style=\"text-align: right;\">\n",
       "      <th></th>\n",
       "      <th>Zone</th>\n",
       "      <th>Disponibilité de matière grasse en quantité (g/personne/jour)</th>\n",
       "    </tr>\n",
       "  </thead>\n",
       "  <tbody>\n",
       "    <tr>\n",
       "      <th>11</th>\n",
       "      <td>Autriche</td>\n",
       "      <td>170.44</td>\n",
       "    </tr>\n",
       "    <tr>\n",
       "      <th>16</th>\n",
       "      <td>Belgique</td>\n",
       "      <td>161.95</td>\n",
       "    </tr>\n",
       "    <tr>\n",
       "      <th>171</th>\n",
       "      <td>États-Unis d'Amérique</td>\n",
       "      <td>161.37</td>\n",
       "    </tr>\n",
       "    <tr>\n",
       "      <th>53</th>\n",
       "      <td>France</td>\n",
       "      <td>159.15</td>\n",
       "    </tr>\n",
       "    <tr>\n",
       "      <th>75</th>\n",
       "      <td>Italie</td>\n",
       "      <td>154.69</td>\n",
       "    </tr>\n",
       "  </tbody>\n",
       "</table>\n",
       "</div>"
      ],
      "text/plain": [
       "                      Zone  \\\n",
       "11                Autriche   \n",
       "16                Belgique   \n",
       "171  États-Unis d'Amérique   \n",
       "53                  France   \n",
       "75                  Italie   \n",
       "\n",
       "     Disponibilité de matière grasse en quantité (g/personne/jour)  \n",
       "11                                              170.44              \n",
       "16                                              161.95              \n",
       "171                                             161.37              \n",
       "53                                              159.15              \n",
       "75                                              154.69              "
      ]
     },
     "metadata": {},
     "output_type": "display_data"
    },
    {
     "name": "stdout",
     "output_type": "stream",
     "text": [
      "les top 5 pays ont le moins de disponibilité MatièreGras habitant\n"
     ]
    },
    {
     "data": {
      "text/html": [
       "<div>\n",
       "<style scoped>\n",
       "    .dataframe tbody tr th:only-of-type {\n",
       "        vertical-align: middle;\n",
       "    }\n",
       "\n",
       "    .dataframe tbody tr th {\n",
       "        vertical-align: top;\n",
       "    }\n",
       "\n",
       "    .dataframe thead th {\n",
       "        text-align: right;\n",
       "    }\n",
       "</style>\n",
       "<table border=\"1\" class=\"dataframe\">\n",
       "  <thead>\n",
       "    <tr style=\"text-align: right;\">\n",
       "      <th></th>\n",
       "      <th>Zone</th>\n",
       "      <th>Disponibilité de matière grasse en quantité (g/personne/jour)</th>\n",
       "    </tr>\n",
       "  </thead>\n",
       "  <tbody>\n",
       "    <tr>\n",
       "      <th>84</th>\n",
       "      <td>Lesotho</td>\n",
       "      <td>32.26</td>\n",
       "    </tr>\n",
       "    <tr>\n",
       "      <th>14</th>\n",
       "      <td>Bangladesh</td>\n",
       "      <td>29.92</td>\n",
       "    </tr>\n",
       "    <tr>\n",
       "      <th>172</th>\n",
       "      <td>Éthiopie</td>\n",
       "      <td>25.89</td>\n",
       "    </tr>\n",
       "    <tr>\n",
       "      <th>91</th>\n",
       "      <td>Madagascar</td>\n",
       "      <td>24.49</td>\n",
       "    </tr>\n",
       "    <tr>\n",
       "      <th>127</th>\n",
       "      <td>Rwanda</td>\n",
       "      <td>23.77</td>\n",
       "    </tr>\n",
       "  </tbody>\n",
       "</table>\n",
       "</div>"
      ],
      "text/plain": [
       "           Zone  Disponibilité de matière grasse en quantité (g/personne/jour)\n",
       "84      Lesotho                                              32.26            \n",
       "14   Bangladesh                                              29.92            \n",
       "172    Éthiopie                                              25.89            \n",
       "91   Madagascar                                              24.49            \n",
       "127      Rwanda                                              23.77            "
      ]
     },
     "metadata": {},
     "output_type": "display_data"
    }
   ],
   "source": [
    "ClassementParMatièreGras=DisponibilitéParHabitant.sort_values(by='Disponibilité de matière grasse en quantité (g/personne/jour)',ascending=False)\n",
    "ClassementParMatièreGras=ClassementParMatièreGras[['Zone','Disponibilité de matière grasse en quantité (g/personne/jour)']]\n",
    "print('les top 5 pays ont le plus de disponibilité MatièreGras par habitant')\n",
    "display(ClassementParMatièreGras.head())\n",
    "print('les top 5 pays ont le moins de disponibilité MatièreGras habitant')\n",
    "display(ClassementParMatièreGras.tail())\n",
    "\n",
    "Top5MG=ClassementParMatièreGras.head(5)\n",
    "Tail5MG=ClassementParMatièreGras.tail(5)\n",
    "\n"
   ]
  },
  {
   "cell_type": "code",
   "execution_count": 71,
   "id": "e545b517-b541-4382-890b-3c57e216e322",
   "metadata": {},
   "outputs": [
    {
     "data": {
      "text/plain": [
       "Text(0.5, 1.0, '5 pays le moins de disponibilité/habitant en Matière Grasse')"
      ]
     },
     "execution_count": 71,
     "metadata": {},
     "output_type": "execute_result"
    },
    {
     "data": {
      "image/png": "[encoded data removed]",
      "text/plain": [
       "<Figure size 1152x288 with 2 Axes>"
      ]
     },
     "metadata": {
      "needs_background": "light"
     },
     "output_type": "display_data"
    }
   ],
   "source": [
    "plt.figure(figsize=(16,4))\n",
    "plt.subplot(1,2,1)\n",
    "sns.barplot(x=\"Zone\",y=\"Disponibilité de matière grasse en quantité (g/personne/jour)\", data=Top5MG)\n",
    "plt.xticks(rotation=45)\n",
    "plt.ylabel('Disponibilité de matière grasse en quantité (g/personne/jour)')\n",
    "plt.title('5 Pays le plus de Disponibilité/habitant en Matière Grasse')\n",
    "\n",
    "plt.subplot(1,2,2)\n",
    "sns.barplot(x=\"Zone\",y=\"Disponibilité de matière grasse en quantité (g/personne/jour)\", data=Tail5MG)\n",
    "plt.xticks(rotation=45)\n",
    "plt.ylabel('Disponibilité de matière grasse en quantité (g/personne/jour)')\n",
    "plt.title('5 pays le moins de disponibilité/habitant en Matière Grasse')"
   ]
  },
  {
   "cell_type": "markdown",
   "id": "692d3e20-a5b6-4e80-8372-a4fb64729e06",
   "metadata": {},
   "source": [
    "### Réponse 5 Question 7 Selon Disponibilité alimentaire en quantité (kg/personne/an)\n",
    "##### le top5 des pays qui sont le plus et le moins de disponibilité par habitant en Alimentaire Quantité"
   ]
  },
  {
   "cell_type": "code",
   "execution_count": 72,
   "id": "1b11b17b-d97a-4b28-861c-08e399fba6d2",
   "metadata": {},
   "outputs": [
    {
     "name": "stdout",
     "output_type": "stream",
     "text": [
      "les top 5 pays ont le plus de disponibilité Quantité Alimentaire par habitant\n"
     ]
    },
    {
     "data": {
      "text/html": [
       "<div>\n",
       "<style scoped>\n",
       "    .dataframe tbody tr th:only-of-type {\n",
       "        vertical-align: middle;\n",
       "    }\n",
       "\n",
       "    .dataframe tbody tr th {\n",
       "        vertical-align: top;\n",
       "    }\n",
       "\n",
       "    .dataframe thead th {\n",
       "        text-align: right;\n",
       "    }\n",
       "</style>\n",
       "<table border=\"1\" class=\"dataframe\">\n",
       "  <thead>\n",
       "    <tr style=\"text-align: right;\">\n",
       "      <th></th>\n",
       "      <th>Zone</th>\n",
       "      <th>Disponibilité alimentaire en quantité (kg/personne/an)</th>\n",
       "    </tr>\n",
       "  </thead>\n",
       "  <tbody>\n",
       "    <tr>\n",
       "      <th>102</th>\n",
       "      <td>Monténégro</td>\n",
       "      <td>1210.41</td>\n",
       "    </tr>\n",
       "    <tr>\n",
       "      <th>89</th>\n",
       "      <td>Luxembourg</td>\n",
       "      <td>1150.66</td>\n",
       "    </tr>\n",
       "    <tr>\n",
       "      <th>72</th>\n",
       "      <td>Irlande</td>\n",
       "      <td>1150.15</td>\n",
       "    </tr>\n",
       "    <tr>\n",
       "      <th>2</th>\n",
       "      <td>Albanie</td>\n",
       "      <td>1095.54</td>\n",
       "    </tr>\n",
       "    <tr>\n",
       "      <th>52</th>\n",
       "      <td>Finlande</td>\n",
       "      <td>1093.77</td>\n",
       "    </tr>\n",
       "  </tbody>\n",
       "</table>\n",
       "</div>"
      ],
      "text/plain": [
       "           Zone  Disponibilité alimentaire en quantité (kg/personne/an)\n",
       "102  Monténégro                                            1210.41     \n",
       "89   Luxembourg                                            1150.66     \n",
       "72      Irlande                                            1150.15     \n",
       "2       Albanie                                            1095.54     \n",
       "52     Finlande                                            1093.77     "
      ]
     },
     "metadata": {},
     "output_type": "display_data"
    },
    {
     "name": "stdout",
     "output_type": "stream",
     "text": [
      "les top 5 pays ont le moins de disponibilité Quantité Alimentaire par habitant\n"
     ]
    },
    {
     "data": {
      "text/html": [
       "<div>\n",
       "<style scoped>\n",
       "    .dataframe tbody tr th:only-of-type {\n",
       "        vertical-align: middle;\n",
       "    }\n",
       "\n",
       "    .dataframe tbody tr th {\n",
       "        vertical-align: top;\n",
       "    }\n",
       "\n",
       "    .dataframe thead th {\n",
       "        text-align: right;\n",
       "    }\n",
       "</style>\n",
       "<table border=\"1\" class=\"dataframe\">\n",
       "  <thead>\n",
       "    <tr style=\"text-align: right;\">\n",
       "      <th></th>\n",
       "      <th>Zone</th>\n",
       "      <th>Disponibilité alimentaire en quantité (kg/personne/an)</th>\n",
       "    </tr>\n",
       "  </thead>\n",
       "  <tbody>\n",
       "    <tr>\n",
       "      <th>172</th>\n",
       "      <td>Éthiopie</td>\n",
       "      <td>354.55</td>\n",
       "    </tr>\n",
       "    <tr>\n",
       "      <th>0</th>\n",
       "      <td>Afghanistan</td>\n",
       "      <td>351.41</td>\n",
       "    </tr>\n",
       "    <tr>\n",
       "      <th>166</th>\n",
       "      <td>Zambie</td>\n",
       "      <td>350.12</td>\n",
       "    </tr>\n",
       "    <tr>\n",
       "      <th>167</th>\n",
       "      <td>Zimbabwe</td>\n",
       "      <td>336.59</td>\n",
       "    </tr>\n",
       "    <tr>\n",
       "      <th>151</th>\n",
       "      <td>Tchad</td>\n",
       "      <td>319.45</td>\n",
       "    </tr>\n",
       "  </tbody>\n",
       "</table>\n",
       "</div>"
      ],
      "text/plain": [
       "            Zone  Disponibilité alimentaire en quantité (kg/personne/an)\n",
       "172     Éthiopie                                             354.55     \n",
       "0    Afghanistan                                             351.41     \n",
       "166       Zambie                                             350.12     \n",
       "167     Zimbabwe                                             336.59     \n",
       "151        Tchad                                             319.45     "
      ]
     },
     "metadata": {},
     "output_type": "display_data"
    }
   ],
   "source": [
    "ClassementParQuantitéAlimentaire=DisponibilitéParHabitant.sort_values(by='Disponibilité alimentaire en quantité (kg/personne/an)',ascending=False)\n",
    "ClassementParQuantitéAlimentaire=ClassementParQuantitéAlimentaire[['Zone','Disponibilité alimentaire en quantité (kg/personne/an)']]\n",
    "print('les top 5 pays ont le plus de disponibilité Quantité Alimentaire par habitant')\n",
    "display(ClassementParQuantitéAlimentaire.head())\n",
    "print('les top 5 pays ont le moins de disponibilité Quantité Alimentaire par habitant')\n",
    "display(ClassementParQuantitéAlimentaire.tail())\n",
    "\n",
    "Top5Qty=ClassementParQuantitéAlimentaire.head(5)\n",
    "Tail5Qty=ClassementParQuantitéAlimentaire.tail(5)\n"
   ]
  },
  {
   "cell_type": "code",
   "execution_count": 73,
   "id": "7e02dfdb-07e9-40a2-a8c1-83d3314021be",
   "metadata": {},
   "outputs": [
    {
     "data": {
      "text/plain": [
       "Text(0.5, 1.0, '5 pays le moins de disponibilité/habitant en Quantité')"
      ]
     },
     "execution_count": 73,
     "metadata": {},
     "output_type": "execute_result"
    },
    {
     "data": {
      "image/png": "[encoded data removed]",
      "text/plain": [
       "<Figure size 1152x288 with 2 Axes>"
      ]
     },
     "metadata": {
      "needs_background": "light"
     },
     "output_type": "display_data"
    }
   ],
   "source": [
    "plt.figure(figsize=(16,4))\n",
    "plt.subplot(1,2,1)\n",
    "sns.barplot(x=\"Zone\",y=\"Disponibilité alimentaire en quantité (kg/personne/an)\", data=Top5Qty)\n",
    "plt.xticks(rotation=45)\n",
    "plt.ylabel('Disponibilité alimentaire en quantité (kg/personne/an)')\n",
    "plt.title('5 Pays le plus de Disponibilité/habitant en Quantité')\n",
    "\n",
    "plt.subplot(1,2,2)\n",
    "sns.barplot(x=\"Zone\",y=\"Disponibilité alimentaire en quantité (kg/personne/an)\", data=Tail5Qty)\n",
    "plt.xticks(rotation=45)\n",
    "plt.ylabel('Disponibilité alimentaire en quantité (kg/personne/an)')\n",
    "plt.title('5 pays le moins de disponibilité/habitant en Quantité')"
   ]
  },
  {
   "cell_type": "markdown",
   "id": "6e6d346d-05c9-4e24-bd39-b7b5996eed07",
   "metadata": {},
   "source": [
    "## Points Supplémentaires Identifiés:\n",
    "\n",
    "#### Résultat:\n",
    "\n",
    "#### df_sous_nutrition2017, les pays ont une population sous nutrition connue:\n",
    "\n",
    "##### 1. 51 pays ont eu les aides historiques entre 2013 et 2016.\n",
    "\n",
    "    Nombre des pays >2500Kcal par Habitant Jour: 29 pays\n",
    "    \n",
    "    Nombre des pays >3000Kcal par Habitant Jour: 9 pays\n",
    "    \n",
    "    Liste des pays >3000Kcal par Habitant Jour: 'Afrique du Sud' 'Albanie' 'Arabie saoudite' 'Argentine'\n",
    "     'Émirats arabes unis' 'Maroc' 'Mexique' 'Oman' 'Ukraine'\n",
    "    \n",
    "    En plus des aides extérieur, on pourra mobiliser les ressources intérieurs pour améliorer la situation.\n",
    "    \n",
    "\n",
    "##### 2. 33 pays ont pas eu les aides historiques dont 4 pays sans aide avec une disponibilité Kcal/habitant/jour < 2500Kcal recommandé. Liste de 4 Pays Botswana' 'Eswatini' 'Inde' 'Namibie.\n",
    "\n",
    "    il faut un suivi particulier sur ces 4 pays et surtout 2 pays suivants: \n",
    "\n",
    "    Namibie:\n",
    "    sa disponibilité Kcal/habitant/j est loin de la seuil recommandé (2166Kcal/habitant/jour)\n",
    "\n",
    "    Inde :\n",
    "    Il a 35% de population sous nutrition mondiale, mais avec une disponibilité proche de 2500Kcal/habitant/jour.\n",
    "    Il est possible qu'il y a une inégalité important dans le pays. En plus des aides extérieurs,\n",
    "    il est préférable également d'étudier les ressources intérieurs\n",
    "    \n",
    "##### 3.  df_sous_nutrition2017, les pays ont une population sous nutrition '0':\n",
    "    \n",
    "    Nombre des Pays qui a une disponibilité/habitant/jour en Kcal <2500 mais sans population sous nutrition: 13 pays\n",
    "\n",
    "    Liste des Pays qui a une disponibilité/habitant/jour en Kcal <2500 mais sans population sous nutrition: \n",
    "        \n",
    "    'Antigua-et-Barbuda' 'Grenade' 'Guinée-Bissau' 'Îles Salomon' 'Ouganda'\n",
    "    'République centrafricaine' 'République démocratique populaire lao','Saint-Kitts-et-Nevis' 'Sao Tomé-et-Principe' 'Tadjikistan' 'Yémen'\n",
    "    'Zambie' 'Zimbabwe'\n",
    "\n",
    "    On voit 9 pays avec une aide historique, 4 pays sans aide historique.\n",
    "    \n",
    "    Il est nécessaire de vérifier les données sous nutrition de ces pays pour voir s'il s'agit une amélioration de la situation en 2017 ou un problème de données.\n",
    "\n",
    "#### Méthode:\n",
    "    Lier le tableau df_sous_nutrition2017, df_aideAlimentParPays1, DisponibilitéParHabitant\n",
    "    \n",
    "    Vérifier les distributions par Disponibilité Kcal/habitant sur chaque situation\n",
    "    \n",
    "    Identifier les valeurs suspectes\n",
    "    "
   ]
  },
  {
   "cell_type": "code",
   "execution_count": 74,
   "id": "82f89a18-0c95-4c98-910f-58084d8b20f7",
   "metadata": {},
   "outputs": [
    {
     "data": {
      "text/html": [
       "<div>\n",
       "<style scoped>\n",
       "    .dataframe tbody tr th:only-of-type {\n",
       "        vertical-align: middle;\n",
       "    }\n",
       "\n",
       "    .dataframe tbody tr th {\n",
       "        vertical-align: top;\n",
       "    }\n",
       "\n",
       "    .dataframe thead th {\n",
       "        text-align: right;\n",
       "    }\n",
       "</style>\n",
       "<table border=\"1\" class=\"dataframe\">\n",
       "  <thead>\n",
       "    <tr style=\"text-align: right;\">\n",
       "      <th></th>\n",
       "      <th>Zone</th>\n",
       "      <th>AnnéeCorrigé</th>\n",
       "      <th>NombreDePersonne_sous_nutrition</th>\n",
       "      <th>Aide(tonnes)</th>\n",
       "      <th>Disponibilité alimentaire (Kcal/personne/jour)</th>\n",
       "      <th>Disponibilité alimentaire en quantité (kg/personne/an)</th>\n",
       "      <th>Disponibilité de matière grasse en quantité (g/personne/jour)</th>\n",
       "      <th>Disponibilité de protéines en quantité (g/personne/jour)</th>\n",
       "    </tr>\n",
       "  </thead>\n",
       "  <tbody>\n",
       "    <tr>\n",
       "      <th>0</th>\n",
       "      <td>Afghanistan</td>\n",
       "      <td>2017</td>\n",
       "      <td>10500000</td>\n",
       "      <td>185452.0</td>\n",
       "      <td>2087.0</td>\n",
       "      <td>351.41</td>\n",
       "      <td>33.50</td>\n",
       "      <td>58.26</td>\n",
       "    </tr>\n",
       "    <tr>\n",
       "      <th>1</th>\n",
       "      <td>Afrique du Sud</td>\n",
       "      <td>2017</td>\n",
       "      <td>3100000</td>\n",
       "      <td>0.0</td>\n",
       "      <td>3020.0</td>\n",
       "      <td>564.80</td>\n",
       "      <td>83.58</td>\n",
       "      <td>85.33</td>\n",
       "    </tr>\n",
       "    <tr>\n",
       "      <th>2</th>\n",
       "      <td>Albanie</td>\n",
       "      <td>2017</td>\n",
       "      <td>100000</td>\n",
       "      <td>0.0</td>\n",
       "      <td>3188.0</td>\n",
       "      <td>1095.54</td>\n",
       "      <td>106.48</td>\n",
       "      <td>111.37</td>\n",
       "    </tr>\n",
       "    <tr>\n",
       "      <th>3</th>\n",
       "      <td>Algérie</td>\n",
       "      <td>2017</td>\n",
       "      <td>1300000</td>\n",
       "      <td>81114.0</td>\n",
       "      <td>3293.0</td>\n",
       "      <td>809.13</td>\n",
       "      <td>76.48</td>\n",
       "      <td>91.92</td>\n",
       "    </tr>\n",
       "    <tr>\n",
       "      <th>4</th>\n",
       "      <td>Angola</td>\n",
       "      <td>2017</td>\n",
       "      <td>5800000</td>\n",
       "      <td>5014.0</td>\n",
       "      <td>2474.0</td>\n",
       "      <td>701.46</td>\n",
       "      <td>53.54</td>\n",
       "      <td>57.27</td>\n",
       "    </tr>\n",
       "  </tbody>\n",
       "</table>\n",
       "</div>"
      ],
      "text/plain": [
       "             Zone  AnnéeCorrigé  NombreDePersonne_sous_nutrition  \\\n",
       "0     Afghanistan          2017                         10500000   \n",
       "1  Afrique du Sud          2017                          3100000   \n",
       "2         Albanie          2017                           100000   \n",
       "3         Algérie          2017                          1300000   \n",
       "4          Angola          2017                          5800000   \n",
       "\n",
       "   Aide(tonnes)  Disponibilité alimentaire (Kcal/personne/jour)  \\\n",
       "0      185452.0                                          2087.0   \n",
       "1           0.0                                          3020.0   \n",
       "2           0.0                                          3188.0   \n",
       "3       81114.0                                          3293.0   \n",
       "4        5014.0                                          2474.0   \n",
       "\n",
       "   Disponibilité alimentaire en quantité (kg/personne/an)  \\\n",
       "0                                             351.41        \n",
       "1                                             564.80        \n",
       "2                                            1095.54        \n",
       "3                                             809.13        \n",
       "4                                             701.46        \n",
       "\n",
       "   Disponibilité de matière grasse en quantité (g/personne/jour)  \\\n",
       "0                                              33.50               \n",
       "1                                              83.58               \n",
       "2                                             106.48               \n",
       "3                                              76.48               \n",
       "4                                              53.54               \n",
       "\n",
       "   Disponibilité de protéines en quantité (g/personne/jour)  \n",
       "0                                              58.26         \n",
       "1                                              85.33         \n",
       "2                                             111.37         \n",
       "3                                              91.92         \n",
       "4                                              57.27         "
      ]
     },
     "metadata": {},
     "output_type": "display_data"
    }
   ],
   "source": [
    "\n",
    "#Lier le tableau df_sous_nutrition2017 et df_aideAlimentParPays1\n",
    "SousNutrition_Aide=pd.merge(df_sous_nutrition2017,df_aideAlimentParPays1,how='left',left_on=['Zone'],right_on=['Pays bénéficiaire'])\n",
    "del SousNutrition_Aide['Pays bénéficiaire']\n",
    "SousNutrition_Aide=SousNutrition_Aide.fillna(0)\n",
    "\n",
    "#récuperer seulement les pays avec la population sous nutrition\n",
    "SousNutrition_Aide=SousNutrition_Aide[SousNutrition_Aide['NombreDePersonne_sous_nutrition']>0]\n",
    "\n",
    "#Lier le nouveau tableau SousNutrition_Aide avec DisponibilitéParHabitant\n",
    "SousNutrition_Aide_Dispo=pd.merge(SousNutrition_Aide,DisponibilitéParHabitant,how='left',on=['Zone'])\n",
    "\n",
    "display(SousNutrition_Aide_Dispo.head())\n",
    "\n",
    "#On trouve qu'il y a les pays avec Population Sous Nutrition Sans Aide depuis 2013\n",
    "#On voit également les pays ont reçu l'aide avec la disponibilité Kcal/habitant elevé\n",
    "#On va voir ces 2 points dans la suite de l'analyse"
   ]
  },
  {
   "cell_type": "code",
   "execution_count": 75,
   "id": "88eba2bb-aefc-467e-bd44-2d78e8e325b5",
   "metadata": {},
   "outputs": [
    {
     "name": "stdout",
     "output_type": "stream",
     "text": [
      "Nombre de pays avec la population sous nutrition sans aide depuis 2013: 33 pays\n",
      "Nombre de pays avec la population sous nutrition avec aide depuis 2013: 51 pays\n"
     ]
    }
   ],
   "source": [
    "\n",
    "#Créer 2 tableaux pour le pays sous nutrition avec et sans aide depuis 2013\n",
    "#Vérifier le nombre des pays dans les 2 cas\n",
    "\n",
    "PaysSousNutrition_SansAide=SousNutrition_Aide_Dispo[SousNutrition_Aide_Dispo['Aide(tonnes)']==0]\n",
    "PaysSousNutrition_AvecAide=SousNutrition_Aide_Dispo[SousNutrition_Aide_Dispo['Aide(tonnes)']!=0]\n",
    "print('Nombre de pays avec la population sous nutrition sans aide depuis 2013:',SousNutrition_Aide_Dispo[SousNutrition_Aide_Dispo['Aide(tonnes)']==0].Zone.count(),'pays')\n",
    "print('Nombre de pays avec la population sous nutrition avec aide depuis 2013:',SousNutrition_Aide_Dispo[SousNutrition_Aide_Dispo['Aide(tonnes)']!=0].Zone.count(),'pays')"
   ]
  },
  {
   "cell_type": "code",
   "execution_count": 76,
   "id": "ea06c789-67c4-4c00-a619-9c0c4bdd7c3c",
   "metadata": {},
   "outputs": [
    {
     "name": "stdout",
     "output_type": "stream",
     "text": [
      "Liste des pays sous nutrition sans aide avec disponibilité Kcal/habitant/j < 2500 ['Botswana' 'Eswatini' 'Inde' 'Namibie']\n"
     ]
    },
    {
     "data": {
      "text/html": [
       "<div>\n",
       "<style scoped>\n",
       "    .dataframe tbody tr th:only-of-type {\n",
       "        vertical-align: middle;\n",
       "    }\n",
       "\n",
       "    .dataframe tbody tr th {\n",
       "        vertical-align: top;\n",
       "    }\n",
       "\n",
       "    .dataframe thead th {\n",
       "        text-align: right;\n",
       "    }\n",
       "</style>\n",
       "<table border=\"1\" class=\"dataframe\">\n",
       "  <thead>\n",
       "    <tr style=\"text-align: right;\">\n",
       "      <th></th>\n",
       "      <th>Zone</th>\n",
       "      <th>AnnéeCorrigé</th>\n",
       "      <th>NombreDePersonne_sous_nutrition</th>\n",
       "      <th>Aide(tonnes)</th>\n",
       "      <th>Disponibilité alimentaire (Kcal/personne/jour)</th>\n",
       "      <th>Disponibilité alimentaire en quantité (kg/personne/an)</th>\n",
       "      <th>Disponibilité de matière grasse en quantité (g/personne/jour)</th>\n",
       "      <th>Disponibilité de protéines en quantité (g/personne/jour)</th>\n",
       "    </tr>\n",
       "  </thead>\n",
       "  <tbody>\n",
       "    <tr>\n",
       "      <th>10</th>\n",
       "      <td>Botswana</td>\n",
       "      <td>2017</td>\n",
       "      <td>500000</td>\n",
       "      <td>0.0</td>\n",
       "      <td>2325.0</td>\n",
       "      <td>549.63</td>\n",
       "      <td>66.02</td>\n",
       "      <td>64.85</td>\n",
       "    </tr>\n",
       "    <tr>\n",
       "      <th>25</th>\n",
       "      <td>Eswatini</td>\n",
       "      <td>2017</td>\n",
       "      <td>200000</td>\n",
       "      <td>0.0</td>\n",
       "      <td>2326.0</td>\n",
       "      <td>509.50</td>\n",
       "      <td>46.72</td>\n",
       "      <td>58.59</td>\n",
       "    </tr>\n",
       "    <tr>\n",
       "      <th>34</th>\n",
       "      <td>Inde</td>\n",
       "      <td>2017</td>\n",
       "      <td>190100000</td>\n",
       "      <td>0.0</td>\n",
       "      <td>2454.0</td>\n",
       "      <td>494.93</td>\n",
       "      <td>52.49</td>\n",
       "      <td>59.91</td>\n",
       "    </tr>\n",
       "    <tr>\n",
       "      <th>55</th>\n",
       "      <td>Namibie</td>\n",
       "      <td>2017</td>\n",
       "      <td>300000</td>\n",
       "      <td>0.0</td>\n",
       "      <td>2166.0</td>\n",
       "      <td>585.07</td>\n",
       "      <td>49.10</td>\n",
       "      <td>57.61</td>\n",
       "    </tr>\n",
       "  </tbody>\n",
       "</table>\n",
       "</div>"
      ],
      "text/plain": [
       "        Zone  AnnéeCorrigé  NombreDePersonne_sous_nutrition  Aide(tonnes)  \\\n",
       "10  Botswana          2017                           500000           0.0   \n",
       "25  Eswatini          2017                           200000           0.0   \n",
       "34      Inde          2017                        190100000           0.0   \n",
       "55   Namibie          2017                           300000           0.0   \n",
       "\n",
       "    Disponibilité alimentaire (Kcal/personne/jour)  \\\n",
       "10                                          2325.0   \n",
       "25                                          2326.0   \n",
       "34                                          2454.0   \n",
       "55                                          2166.0   \n",
       "\n",
       "    Disponibilité alimentaire en quantité (kg/personne/an)  \\\n",
       "10                                             549.63        \n",
       "25                                             509.50        \n",
       "34                                             494.93        \n",
       "55                                             585.07        \n",
       "\n",
       "    Disponibilité de matière grasse en quantité (g/personne/jour)  \\\n",
       "10                                              66.02               \n",
       "25                                              46.72               \n",
       "34                                              52.49               \n",
       "55                                              49.10               \n",
       "\n",
       "    Disponibilité de protéines en quantité (g/personne/jour)  \n",
       "10                                              64.85         \n",
       "25                                              58.59         \n",
       "34                                              59.91         \n",
       "55                                              57.61         "
      ]
     },
     "metadata": {},
     "output_type": "display_data"
    },
    {
     "data": {
      "image/png": "[encoded data removed]",
      "text/plain": [
       "<Figure size 360x360 with 1 Axes>"
      ]
     },
     "metadata": {
      "needs_background": "light"
     },
     "output_type": "display_data"
    }
   ],
   "source": [
    "#On vérifie la distribution de la disponibilité Kcal/habitant dans les 2 cas via les graphique\n",
    "sns.displot(PaysSousNutrition_SansAide, x=\"Disponibilité alimentaire (Kcal/personne/jour)\")\n",
    "plt.title('Pays Sous Nutrition Sans Aide')\n",
    "# Dans les pays sans aide, on trouve les pays avec une disponibilité Kcal/habitant < la seuile recommandé 2500Kcal, \n",
    "#on les affichier\n",
    "print('Liste des pays sous nutrition sans aide avec disponibilité Kcal/habitant/j < 2500',PaysSousNutrition_SansAide[PaysSousNutrition_SansAide['Disponibilité alimentaire (Kcal/personne/jour)']<2500].Zone.unique())\n",
    "display(PaysSousNutrition_SansAide[PaysSousNutrition_SansAide['Disponibilité alimentaire (Kcal/personne/jour)']<2500])\n",
    "\n",
    "\n",
    "# 4 pays sans aide avec une disponibilité Kcal/habitant/jour < 2500Kcal recommandé.\n",
    "# il faut un suivi particulier sur ces 4 pays surtout 2 pays: \n",
    "#Namibie qui est loins de la seuil recommandé à ce jour (2166Kcal/habitant/jour)\n",
    "\n",
    "#Inde qui a 35% de population sous nutrition mondiale, mais avec une disponibilité proche de 2500Kcal/habitant/jour,\n",
    "#il est possible qu'il y a une inégalité important dans le pays, en plus des aides extérieurs, \n",
    "#il est préférable également d'étudier les ressources intérieurs\n"
   ]
  },
  {
   "cell_type": "code",
   "execution_count": 77,
   "id": "4518268e-cf49-4946-963b-046c47187af0",
   "metadata": {},
   "outputs": [
    {
     "name": "stdout",
     "output_type": "stream",
     "text": [
      "Nombre des pays >2500Kcal par Habitant Jour: 29 pays\n",
      "Nombre des pays >3000Kcal par Habitant Jour: 9 pays\n",
      "Liste des pays >3000Kcal par Habitant Jour: ['Afrique du Sud' 'Albanie' 'Arabie saoudite' 'Argentine'\n",
      " 'Émirats arabes unis' 'Maroc' 'Mexique' 'Oman' 'Ukraine']\n"
     ]
    },
    {
     "data": {
      "image/png": "[encoded data removed]",
      "text/plain": [
       "<Figure size 360x360 with 1 Axes>"
      ]
     },
     "metadata": {
      "needs_background": "light"
     },
     "output_type": "display_data"
    }
   ],
   "source": [
    "sns.displot(PaysSousNutrition_AvecAide, x=\"Disponibilité alimentaire (Kcal/personne/jour)\")\n",
    "plt.title('Pays Sous Nutrition Avec Aide')\n",
    "\n",
    "# Dans les pays avec aide, on trouve les pays avec une disponibilité Kcal/habitant > la seuile recommandé 2500Kcal, \n",
    "#on va affichier le nombre des pays qui > 2500Kcal\n",
    "print('Nombre des pays >2500Kcal par Habitant Jour:',PaysSousNutrition_SansAide[PaysSousNutrition_SansAide['Disponibilité alimentaire (Kcal/personne/jour)']>2500].Zone.count(),'pays')\n",
    "print('Nombre des pays >3000Kcal par Habitant Jour:',PaysSousNutrition_SansAide[PaysSousNutrition_SansAide['Disponibilité alimentaire (Kcal/personne/jour)']>3000].Zone.count(),'pays')\n",
    "print('Liste des pays >3000Kcal par Habitant Jour:',PaysSousNutrition_SansAide[PaysSousNutrition_SansAide['Disponibilité alimentaire (Kcal/personne/jour)']>3000].Zone.unique())\n",
    "# 29 pays > 2500Kcal/habitant/j dont 9 pays > 3000Kcal/habitant/j\n",
    "#En plus des aides extérieur, on pourra mobiliser les ressources intérieurs pour améliorer la situation."
   ]
  },
  {
   "cell_type": "code",
   "execution_count": 78,
   "id": "6ec51aae-1e34-4a66-b307-62b61d70fc4d",
   "metadata": {},
   "outputs": [
    {
     "name": "stdout",
     "output_type": "stream",
     "text": [
      "Nombre des Pays qui a une disponibilité/habitant/jour en Kcal <2500 mais sans population sous nutrition: 13\n",
      "Liste des Pays qui a une disponibilité/habitant/jour en Kcal <2500 mais sans population sous nutrition: ['Antigua-et-Barbuda' 'Grenade' 'Guinée-Bissau' 'Îles Salomon' 'Ouganda'\n",
      " 'République centrafricaine' 'République démocratique populaire lao'\n",
      " 'Saint-Kitts-et-Nevis' 'Sao Tomé-et-Principe' 'Tadjikistan' 'Yémen'\n",
      " 'Zambie' 'Zimbabwe']\n"
     ]
    },
    {
     "data": {
      "text/html": [
       "<div>\n",
       "<style scoped>\n",
       "    .dataframe tbody tr th:only-of-type {\n",
       "        vertical-align: middle;\n",
       "    }\n",
       "\n",
       "    .dataframe tbody tr th {\n",
       "        vertical-align: top;\n",
       "    }\n",
       "\n",
       "    .dataframe thead th {\n",
       "        text-align: right;\n",
       "    }\n",
       "</style>\n",
       "<table border=\"1\" class=\"dataframe\">\n",
       "  <thead>\n",
       "    <tr style=\"text-align: right;\">\n",
       "      <th></th>\n",
       "      <th>Zone</th>\n",
       "      <th>AnnéeCorrigé</th>\n",
       "      <th>NombreDePersonne_sous_nutrition</th>\n",
       "      <th>Aide(tonnes)</th>\n",
       "      <th>Disponibilité alimentaire (Kcal/personne/jour)</th>\n",
       "      <th>Disponibilité alimentaire en quantité (kg/personne/an)</th>\n",
       "      <th>Disponibilité de matière grasse en quantité (g/personne/jour)</th>\n",
       "      <th>Disponibilité de protéines en quantité (g/personne/jour)</th>\n",
       "    </tr>\n",
       "  </thead>\n",
       "  <tbody>\n",
       "    <tr>\n",
       "      <th>2</th>\n",
       "      <td>Antigua-et-Barbuda</td>\n",
       "      <td>2017</td>\n",
       "      <td>0</td>\n",
       "      <td>0.0</td>\n",
       "      <td>2416.0</td>\n",
       "      <td>694.17</td>\n",
       "      <td>89.76</td>\n",
       "      <td>83.49</td>\n",
       "    </tr>\n",
       "    <tr>\n",
       "      <th>40</th>\n",
       "      <td>Grenade</td>\n",
       "      <td>2017</td>\n",
       "      <td>0</td>\n",
       "      <td>0.0</td>\n",
       "      <td>2442.0</td>\n",
       "      <td>595.60</td>\n",
       "      <td>86.76</td>\n",
       "      <td>69.20</td>\n",
       "    </tr>\n",
       "    <tr>\n",
       "      <th>44</th>\n",
       "      <td>Guinée-Bissau</td>\n",
       "      <td>2017</td>\n",
       "      <td>0</td>\n",
       "      <td>25674.0</td>\n",
       "      <td>2288.0</td>\n",
       "      <td>358.48</td>\n",
       "      <td>63.47</td>\n",
       "      <td>44.05</td>\n",
       "    </tr>\n",
       "    <tr>\n",
       "      <th>49</th>\n",
       "      <td>Îles Salomon</td>\n",
       "      <td>2017</td>\n",
       "      <td>0</td>\n",
       "      <td>0.0</td>\n",
       "      <td>2383.0</td>\n",
       "      <td>648.91</td>\n",
       "      <td>46.99</td>\n",
       "      <td>56.31</td>\n",
       "    </tr>\n",
       "    <tr>\n",
       "      <th>74</th>\n",
       "      <td>Ouganda</td>\n",
       "      <td>2017</td>\n",
       "      <td>0</td>\n",
       "      <td>64622.0</td>\n",
       "      <td>2126.0</td>\n",
       "      <td>535.58</td>\n",
       "      <td>46.57</td>\n",
       "      <td>52.64</td>\n",
       "    </tr>\n",
       "    <tr>\n",
       "      <th>85</th>\n",
       "      <td>République centrafricaine</td>\n",
       "      <td>2017</td>\n",
       "      <td>0</td>\n",
       "      <td>66610.0</td>\n",
       "      <td>1879.0</td>\n",
       "      <td>453.73</td>\n",
       "      <td>59.41</td>\n",
       "      <td>46.04</td>\n",
       "    </tr>\n",
       "    <tr>\n",
       "      <th>89</th>\n",
       "      <td>République démocratique populaire lao</td>\n",
       "      <td>2017</td>\n",
       "      <td>0</td>\n",
       "      <td>28000.0</td>\n",
       "      <td>2455.0</td>\n",
       "      <td>632.20</td>\n",
       "      <td>38.86</td>\n",
       "      <td>68.89</td>\n",
       "    </tr>\n",
       "    <tr>\n",
       "      <th>93</th>\n",
       "      <td>Saint-Kitts-et-Nevis</td>\n",
       "      <td>2017</td>\n",
       "      <td>0</td>\n",
       "      <td>0.0</td>\n",
       "      <td>2491.0</td>\n",
       "      <td>555.86</td>\n",
       "      <td>88.90</td>\n",
       "      <td>72.32</td>\n",
       "    </tr>\n",
       "    <tr>\n",
       "      <th>97</th>\n",
       "      <td>Sao Tomé-et-Principe</td>\n",
       "      <td>2017</td>\n",
       "      <td>0</td>\n",
       "      <td>1826.0</td>\n",
       "      <td>2398.0</td>\n",
       "      <td>663.93</td>\n",
       "      <td>77.67</td>\n",
       "      <td>53.10</td>\n",
       "    </tr>\n",
       "    <tr>\n",
       "      <th>106</th>\n",
       "      <td>Tadjikistan</td>\n",
       "      <td>2017</td>\n",
       "      <td>0</td>\n",
       "      <td>2028.0</td>\n",
       "      <td>2199.0</td>\n",
       "      <td>520.41</td>\n",
       "      <td>60.38</td>\n",
       "      <td>63.38</td>\n",
       "    </tr>\n",
       "    <tr>\n",
       "      <th>116</th>\n",
       "      <td>Yémen</td>\n",
       "      <td>2017</td>\n",
       "      <td>0</td>\n",
       "      <td>1206484.0</td>\n",
       "      <td>2217.0</td>\n",
       "      <td>375.41</td>\n",
       "      <td>47.81</td>\n",
       "      <td>58.90</td>\n",
       "    </tr>\n",
       "    <tr>\n",
       "      <th>117</th>\n",
       "      <td>Zambie</td>\n",
       "      <td>2017</td>\n",
       "      <td>0</td>\n",
       "      <td>3026.0</td>\n",
       "      <td>1924.0</td>\n",
       "      <td>350.12</td>\n",
       "      <td>42.05</td>\n",
       "      <td>55.22</td>\n",
       "    </tr>\n",
       "    <tr>\n",
       "      <th>118</th>\n",
       "      <td>Zimbabwe</td>\n",
       "      <td>2017</td>\n",
       "      <td>0</td>\n",
       "      <td>62570.0</td>\n",
       "      <td>2113.0</td>\n",
       "      <td>336.59</td>\n",
       "      <td>57.18</td>\n",
       "      <td>48.32</td>\n",
       "    </tr>\n",
       "  </tbody>\n",
       "</table>\n",
       "</div>"
      ],
      "text/plain": [
       "                                      Zone  AnnéeCorrigé  \\\n",
       "2                       Antigua-et-Barbuda          2017   \n",
       "40                                 Grenade          2017   \n",
       "44                           Guinée-Bissau          2017   \n",
       "49                            Îles Salomon          2017   \n",
       "74                                 Ouganda          2017   \n",
       "85               République centrafricaine          2017   \n",
       "89   République démocratique populaire lao          2017   \n",
       "93                    Saint-Kitts-et-Nevis          2017   \n",
       "97                    Sao Tomé-et-Principe          2017   \n",
       "106                            Tadjikistan          2017   \n",
       "116                                  Yémen          2017   \n",
       "117                                 Zambie          2017   \n",
       "118                               Zimbabwe          2017   \n",
       "\n",
       "     NombreDePersonne_sous_nutrition  Aide(tonnes)  \\\n",
       "2                                  0           0.0   \n",
       "40                                 0           0.0   \n",
       "44                                 0       25674.0   \n",
       "49                                 0           0.0   \n",
       "74                                 0       64622.0   \n",
       "85                                 0       66610.0   \n",
       "89                                 0       28000.0   \n",
       "93                                 0           0.0   \n",
       "97                                 0        1826.0   \n",
       "106                                0        2028.0   \n",
       "116                                0     1206484.0   \n",
       "117                                0        3026.0   \n",
       "118                                0       62570.0   \n",
       "\n",
       "     Disponibilité alimentaire (Kcal/personne/jour)  \\\n",
       "2                                            2416.0   \n",
       "40                                           2442.0   \n",
       "44                                           2288.0   \n",
       "49                                           2383.0   \n",
       "74                                           2126.0   \n",
       "85                                           1879.0   \n",
       "89                                           2455.0   \n",
       "93                                           2491.0   \n",
       "97                                           2398.0   \n",
       "106                                          2199.0   \n",
       "116                                          2217.0   \n",
       "117                                          1924.0   \n",
       "118                                          2113.0   \n",
       "\n",
       "     Disponibilité alimentaire en quantité (kg/personne/an)  \\\n",
       "2                                               694.17        \n",
       "40                                              595.60        \n",
       "44                                              358.48        \n",
       "49                                              648.91        \n",
       "74                                              535.58        \n",
       "85                                              453.73        \n",
       "89                                              632.20        \n",
       "93                                              555.86        \n",
       "97                                              663.93        \n",
       "106                                             520.41        \n",
       "116                                             375.41        \n",
       "117                                             350.12        \n",
       "118                                             336.59        \n",
       "\n",
       "     Disponibilité de matière grasse en quantité (g/personne/jour)  \\\n",
       "2                                                89.76               \n",
       "40                                               86.76               \n",
       "44                                               63.47               \n",
       "49                                               46.99               \n",
       "74                                               46.57               \n",
       "85                                               59.41               \n",
       "89                                               38.86               \n",
       "93                                               88.90               \n",
       "97                                               77.67               \n",
       "106                                              60.38               \n",
       "116                                              47.81               \n",
       "117                                              42.05               \n",
       "118                                              57.18               \n",
       "\n",
       "     Disponibilité de protéines en quantité (g/personne/jour)  \n",
       "2                                                83.49         \n",
       "40                                               69.20         \n",
       "44                                               44.05         \n",
       "49                                               56.31         \n",
       "74                                               52.64         \n",
       "85                                               46.04         \n",
       "89                                               68.89         \n",
       "93                                               72.32         \n",
       "97                                               53.10         \n",
       "106                                              63.38         \n",
       "116                                              58.90         \n",
       "117                                              55.22         \n",
       "118                                              48.32         "
      ]
     },
     "metadata": {},
     "output_type": "display_data"
    },
    {
     "data": {
      "image/png": "[encoded data removed]",
      "text/plain": [
       "<Figure size 360x360 with 1 Axes>"
      ]
     },
     "metadata": {
      "needs_background": "light"
     },
     "output_type": "display_data"
    }
   ],
   "source": [
    "#Lier le tableau df_sous_nutrition2017 et df_aideAlimentParPays1\n",
    "PaysNonSousNutrition=pd.merge(df_sous_nutrition2017,df_aideAlimentParPays1,how='left',left_on=['Zone'],right_on=['Pays bénéficiaire'])\n",
    "del PaysNonSousNutrition['Pays bénéficiaire']\n",
    "PaysNonSousNutrition=PaysNonSousNutrition.fillna(0)\n",
    "\n",
    "#  Créer tableau PaysNonSousNutrition pour Pays déclare 0 population sous nutrition dans df_sous_nutrition2017\n",
    "PaysNonSousNutrition=PaysNonSousNutrition[PaysNonSousNutrition['NombreDePersonne_sous_nutrition']==0]\n",
    "\n",
    "#Lier PaysNonSousNutrition et DisponibilitéParHabitant\n",
    "PaysNonSousNutrition_Dispo=pd.merge(PaysNonSousNutrition,DisponibilitéParHabitant,how='left',on=['Zone'])\n",
    "\n",
    "#Vérifier la distribution de disponibilité Kcal/habitant\n",
    "sns.displot(PaysNonSousNutrition_Dispo, x=\"Disponibilité alimentaire (Kcal/personne/jour)\")\n",
    "plt.title('Pays Non Sous Nutrition')\n",
    "\n",
    "#On trouve 13 pays avec une disponibilité Kcal/habitant/j < 2500, mais sans population sous nutrition\n",
    "#Affichier ces 13 pays\n",
    "print('Nombre des Pays qui a une disponibilité/habitant/jour en Kcal <2500 mais sans population sous nutrition:',PaysNonSousNutrition_Dispo[PaysNonSousNutrition_Dispo['Disponibilité alimentaire (Kcal/personne/jour)']<2500].Zone.count())\n",
    "print('Liste des Pays qui a une disponibilité/habitant/jour en Kcal <2500 mais sans population sous nutrition:',PaysNonSousNutrition_Dispo[PaysNonSousNutrition_Dispo['Disponibilité alimentaire (Kcal/personne/jour)']<2500].Zone.unique())\n",
    "display(PaysNonSousNutrition_Dispo[PaysNonSousNutrition_Dispo['Disponibilité alimentaire (Kcal/personne/jour)']<2500])\n",
    "\n",
    "# On voit 9 pays avec une aide historique, 4 pays sans aide historique.\n",
    "# Il est nécessaire de vérifier les données sous nutrition de ces pays pour voir s'il s'agit une amélioration de la situation en 2017 ou un erreur de la collection des données.\n",
    "\n"
   ]
  },
  {
   "cell_type": "markdown",
   "id": "3a51099d-02d1-49b2-8351-ccc05bbea1b1",
   "metadata": {},
   "source": [
    "## Analyse de la Situation de Manioc en Thaïlande\n",
    "\n",
    "##### Situation: \n",
    "\n",
    "1 En 2017, Thaïlande a 6.2 Millons de population sous nutrition sur une population totale de 69.21 Millions\n",
    "soit un taux de sous nutrition dans le pays : 8.96%\n",
    "\n",
    "2 En 2017,Thaïlande a produit : 30228.0 mille tonnes de Manioc, mais 25214.0 mille tonnes de Manioc exportées\n",
    "Soit un taux de Exportation de Manioc en Thaïlande: 83.41 %\n",
    "Si on tien compte Quantité importé ,la quantité NET de Manioc exporté en Thaïland est: 23964.0 mille tonnes de Manioc exportées.Soit un taux de Exportation de Manioc en Thaïlande: 79.28 %\n",
    "\n",
    "En 2017,Thaïlande a réparti : 871.0 mille tonnes de Manioc pour nourriture, dans 6264.0 mille tonnes de Disponibilité Intérieur de Manioc,soit un taux de repartition Nourriture de: 13.9 %.\n",
    "\n",
    "3 La disponibilité Calorie/habitant de Thaïlande est 2785Kcal/personne/jour qui est largement supérieur à la seuil 2500Kcal recommandé.\n",
    "\n",
    "##### Conclusion: \n",
    "\n",
    "Thaïlande est le leader mondial de producteur de Manioc.La porportation important de l'exportation par rapport à la production de Manioc en Thaïlande est liés à la politique de gouvernement local. La répartition de la disponibilité intérieur de Manioc montre également la faible attribuation à la nourriture humain.La disponibilité calorie/habitant 2785Kcal par rapport au taux de sous nutrition dans le pays montre également l'inégalité de la distribution des ressources en Thaïlande.\n",
    "\n",
    "Le gouvernement local pourra diminuer l'exportation de Manioc pour aider sa population sous nutrition. Ou il pourra également optimiser la distribution de revenue liés à l'exportation de Manioc en tenant compte le besoin de sa population sous nutrition.\n",
    "\n",
    "Mais dans tous les cas, il est favorable que le gouvernement local pourra diminuer l'inégalité intérieur liés à la disponibilité alimentaire pour améliorer durablement la situation de sous nutrition.\n"
   ]
  },
  {
   "cell_type": "code",
   "execution_count": 79,
   "id": "5fe5beb4-f8de-4c0a-a182-589a89bb5490",
   "metadata": {
    "tags": []
   },
   "outputs": [
    {
     "name": "stdout",
     "output_type": "stream",
     "text": [
      "SousNutritionThai2017:\n",
      "\n"
     ]
    },
    {
     "data": {
      "text/html": [
       "<div>\n",
       "<style scoped>\n",
       "    .dataframe tbody tr th:only-of-type {\n",
       "        vertical-align: middle;\n",
       "    }\n",
       "\n",
       "    .dataframe tbody tr th {\n",
       "        vertical-align: top;\n",
       "    }\n",
       "\n",
       "    .dataframe thead th {\n",
       "        text-align: right;\n",
       "    }\n",
       "</style>\n",
       "<table border=\"1\" class=\"dataframe\">\n",
       "  <thead>\n",
       "    <tr style=\"text-align: right;\">\n",
       "      <th></th>\n",
       "      <th>Zone</th>\n",
       "      <th>Année</th>\n",
       "      <th>Valeur</th>\n",
       "      <th>AnnéeCorrigé</th>\n",
       "      <th>NombreDePersonne_sous_nutrition</th>\n",
       "    </tr>\n",
       "  </thead>\n",
       "  <tbody>\n",
       "    <tr>\n",
       "      <th>1114</th>\n",
       "      <td>Thaïlande</td>\n",
       "      <td>2016-2018</td>\n",
       "      <td>6.2</td>\n",
       "      <td>2017</td>\n",
       "      <td>6200000</td>\n",
       "    </tr>\n",
       "  </tbody>\n",
       "</table>\n",
       "</div>"
      ],
      "text/plain": [
       "           Zone      Année Valeur  AnnéeCorrigé  \\\n",
       "1114  Thaïlande  2016-2018    6.2          2017   \n",
       "\n",
       "      NombreDePersonne_sous_nutrition  \n",
       "1114                          6200000  "
      ]
     },
     "metadata": {},
     "output_type": "display_data"
    },
    {
     "name": "stdout",
     "output_type": "stream",
     "text": [
      "PopulationThai2017:\n",
      "\n"
     ]
    },
    {
     "data": {
      "text/html": [
       "<div>\n",
       "<style scoped>\n",
       "    .dataframe tbody tr th:only-of-type {\n",
       "        vertical-align: middle;\n",
       "    }\n",
       "\n",
       "    .dataframe tbody tr th {\n",
       "        vertical-align: top;\n",
       "    }\n",
       "\n",
       "    .dataframe thead th {\n",
       "        text-align: right;\n",
       "    }\n",
       "</style>\n",
       "<table border=\"1\" class=\"dataframe\">\n",
       "  <thead>\n",
       "    <tr style=\"text-align: right;\">\n",
       "      <th></th>\n",
       "      <th>Zone</th>\n",
       "      <th>Année</th>\n",
       "      <th>Valeur</th>\n",
       "      <th>Population</th>\n",
       "    </tr>\n",
       "  </thead>\n",
       "  <tbody>\n",
       "    <tr>\n",
       "      <th>1312</th>\n",
       "      <td>Thaïlande</td>\n",
       "      <td>2017</td>\n",
       "      <td>69209.81</td>\n",
       "      <td>69209810.0</td>\n",
       "    </tr>\n",
       "  </tbody>\n",
       "</table>\n",
       "</div>"
      ],
      "text/plain": [
       "           Zone  Année    Valeur  Population\n",
       "1312  Thaïlande   2017  69209.81  69209810.0"
      ]
     },
     "metadata": {},
     "output_type": "display_data"
    },
    {
     "name": "stdout",
     "output_type": "stream",
     "text": [
      "Taux de Sous Nutrition Thaïlande:\n",
      " 8.96 %\n"
     ]
    }
   ],
   "source": [
    "# Situation de sous nutrition en Thaïlande\n",
    "\n",
    "SousNutritionThai2017=df_sous_nutrition[(df_sous_nutrition.Zone=='Thaïlande')&(df_sous_nutrition['AnnéeCorrigé']==2017)]\n",
    "PopulationThai2017=df_population[(df_population.Zone=='Thaïlande')&(df_population['Année']==2017)]\n",
    "print('SousNutritionThai2017:\\n')\n",
    "display(SousNutritionThai2017)\n",
    "print('PopulationThai2017:\\n')\n",
    "display(PopulationThai2017)\n",
    "print('Taux de Sous Nutrition Thaïlande:\\n',round((SousNutritionThai2017['NombreDePersonne_sous_nutrition'].sum()/PopulationThai2017.Population.sum())*100,2),'%')"
   ]
  },
  {
   "cell_type": "code",
   "execution_count": 80,
   "id": "b6e04b1f-5ac0-484e-a9f1-ad705b229242",
   "metadata": {},
   "outputs": [
    {
     "data": {
      "text/html": [
       "<div>\n",
       "<style scoped>\n",
       "    .dataframe tbody tr th:only-of-type {\n",
       "        vertical-align: middle;\n",
       "    }\n",
       "\n",
       "    .dataframe tbody tr th {\n",
       "        vertical-align: top;\n",
       "    }\n",
       "\n",
       "    .dataframe thead th {\n",
       "        text-align: right;\n",
       "    }\n",
       "</style>\n",
       "<table border=\"1\" class=\"dataframe\">\n",
       "  <thead>\n",
       "    <tr style=\"text-align: right;\">\n",
       "      <th></th>\n",
       "      <th>Zone</th>\n",
       "      <th>Produit</th>\n",
       "      <th>Origine</th>\n",
       "      <th>Aliments pour animaux</th>\n",
       "      <th>Autres Utilisations</th>\n",
       "      <th>Disponibilité alimentaire (Kcal/personne/jour)</th>\n",
       "      <th>Disponibilité alimentaire en quantité (kg/personne/an)</th>\n",
       "      <th>Disponibilité de matière grasse en quantité (g/personne/jour)</th>\n",
       "      <th>Disponibilité de protéines en quantité (g/personne/jour)</th>\n",
       "      <th>Disponibilité intérieure</th>\n",
       "      <th>Exportations - Quantité</th>\n",
       "      <th>Importations - Quantité</th>\n",
       "      <th>Nourriture</th>\n",
       "      <th>Pertes</th>\n",
       "      <th>Production</th>\n",
       "      <th>Semences</th>\n",
       "      <th>Traitement</th>\n",
       "      <th>Variation de stock</th>\n",
       "      <th>Année</th>\n",
       "      <th>Population</th>\n",
       "    </tr>\n",
       "  </thead>\n",
       "  <tbody>\n",
       "    <tr>\n",
       "      <th>13809</th>\n",
       "      <td>Thaïlande</td>\n",
       "      <td>Manioc</td>\n",
       "      <td>vegetale</td>\n",
       "      <td>1800.0</td>\n",
       "      <td>2081.0</td>\n",
       "      <td>40.0</td>\n",
       "      <td>13.0</td>\n",
       "      <td>0.05</td>\n",
       "      <td>0.14</td>\n",
       "      <td>6264.0</td>\n",
       "      <td>25214.0</td>\n",
       "      <td>1250.0</td>\n",
       "      <td>871.0</td>\n",
       "      <td>1511.0</td>\n",
       "      <td>30228.0</td>\n",
       "      <td>NaN</td>\n",
       "      <td>0.0</td>\n",
       "      <td>0.0</td>\n",
       "      <td>2017</td>\n",
       "      <td>69209810.0</td>\n",
       "    </tr>\n",
       "  </tbody>\n",
       "</table>\n",
       "</div>"
      ],
      "text/plain": [
       "            Zone Produit   Origine  Aliments pour animaux  \\\n",
       "13809  Thaïlande  Manioc  vegetale                 1800.0   \n",
       "\n",
       "       Autres Utilisations  Disponibilité alimentaire (Kcal/personne/jour)  \\\n",
       "13809               2081.0                                            40.0   \n",
       "\n",
       "       Disponibilité alimentaire en quantité (kg/personne/an)  \\\n",
       "13809                                               13.0        \n",
       "\n",
       "       Disponibilité de matière grasse en quantité (g/personne/jour)  \\\n",
       "13809                                               0.05               \n",
       "\n",
       "       Disponibilité de protéines en quantité (g/personne/jour)  \\\n",
       "13809                                               0.14          \n",
       "\n",
       "       Disponibilité intérieure  Exportations - Quantité  \\\n",
       "13809                    6264.0                  25214.0   \n",
       "\n",
       "       Importations - Quantité  Nourriture  Pertes  Production  Semences  \\\n",
       "13809                   1250.0       871.0  1511.0     30228.0       NaN   \n",
       "\n",
       "       Traitement  Variation de stock  Année  Population  \n",
       "13809         0.0                 0.0   2017  69209810.0  "
      ]
     },
     "metadata": {},
     "output_type": "display_data"
    },
    {
     "name": "stdout",
     "output_type": "stream",
     "text": [
      "En 2017,Thaïlande a produit : 30228.0 mille tonnes de Manioc, mais 25214.0 mille tonnes de Manioc exportées\n",
      "Soit un taux de Exportation de Manioc en Thaïlande: 83.41 %\n",
      "**********************************************************************\n",
      "Si on tien compte Quantité importé ,la quantité net de Manioc exporté en Thaïland est: 23964.0 mille tonnes de Manioc exportées\n",
      "Soit un taux de Exportation de Manioc en Thaïlande: 79.28 %\n",
      "**********************************************************************\n",
      "En 2017,Thaïlande a réparti : 871.0 mille tonnes de Manioc pour nourriture, dans 6264.0 mille tonnes de Disponibilité Intérieur de Manioc\n",
      "Soit un taux de repartition Nourriture de: 13.9 %\n"
     ]
    }
   ],
   "source": [
    "# Vérifier la situation de Manioc en Thaïlande\n",
    "ManiocThai=df_dispo_alimentaire[(df_dispo_alimentaire.Produit=='Manioc')&(df_dispo_alimentaire.Zone=='Thaïlande')]\n",
    "display(ManiocThai)\n",
    "\n",
    "#DisponibilitéIntérieur=Production+Importation+Variation de stock-Exportation\n",
    "\n",
    "#Calculer le ratio Export/Production\n",
    "RatioManiocExportThai=ManiocThai['Exportations - Quantité'].sum()/ManiocThai.Production.sum()\n",
    "\n",
    "#Calculer le ratio (Export - import)/Production\n",
    "RatioManiocExportThaiNet=(ManiocThai['Exportations - Quantité'].sum()-ManiocThai['Importations - Quantité'].sum())/ManiocThai.Production.sum()\n",
    "\n",
    "#Calculer le ratio Nourriture Humain/Disponibilité Intérieur\n",
    "RatioManiocNourriture=ManiocThai['Nourriture'].sum()/ManiocThai['Disponibilité intérieure'].sum()\n",
    "\n",
    "print('En 2017,Thaïlande a produit :',ManiocThai.Production.sum(),'mille tonnes de Manioc, mais', ManiocThai['Exportations - Quantité'].sum(),'mille tonnes de Manioc exportées')\n",
    "print('Soit un taux de Exportation de Manioc en Thaïlande:',round((RatioManiocExportThai*100),2),'%')\n",
    "print('**********************************************************************')\n",
    "print('Si on tien compte Quantité importé ,la quantité net de Manioc exporté en Thaïland est:', ManiocThai['Exportations - Quantité'].sum()- ManiocThai['Importations - Quantité'].sum(),'mille tonnes de Manioc exportées')\n",
    "print('Soit un taux de Exportation de Manioc en Thaïlande:',round((RatioManiocExportThaiNet*100),2),'%')\n",
    "\n",
    "print('**********************************************************************')\n",
    "print('En 2017,Thaïlande a réparti :',ManiocThai['Nourriture'].sum(),'mille tonnes de Manioc pour nourriture, dans', ManiocThai['Disponibilité intérieure'].sum(),'mille tonnes de Disponibilité Intérieur de Manioc')\n",
    "print('Soit un taux de repartition Nourriture de:',round((RatioManiocNourriture*100),2),'%')\n"
   ]
  },
  {
   "cell_type": "code",
   "execution_count": 81,
   "id": "99f1509f-7455-42c0-8303-5d9847d1aaef",
   "metadata": {},
   "outputs": [
    {
     "name": "stdout",
     "output_type": "stream",
     "text": [
      "Après la quantité exportée de Manioc,La disponibilité calorie par Habitant en Thaïlande est:\n",
      " 2785.0 Kcal/personne/jour\n"
     ]
    }
   ],
   "source": [
    "# On vérifie également Disponibilité Kcal/habitant en Thaïlande\n",
    "#Filtrer Thaïlande dans la colonne Zone de dataframe df_dispo_alimentaire et remplir les cases vides par '0'\n",
    "DisponibiliteThai=df_dispo_alimentaire[df_dispo_alimentaire.Zone=='Thaïlande']\n",
    "DisponibiliteThai['Disponibilité alimentaire (Kcal/personne/jour)'].fillna(0)\n",
    "#Calculer la sum de disponibilité Kcal/habitant/jour\n",
    "DisponibiliteKcalParHabitantThai=DisponibiliteThai['Disponibilité alimentaire (Kcal/personne/jour)'].sum()\n",
    "print('Après la quantité exportée de Manioc,La disponibilité calorie par Habitant en Thaïlande est:\\n',DisponibiliteKcalParHabitantThai,'Kcal/personne/jour')"
   ]
  },
  {
   "cell_type": "code",
   "execution_count": 82,
   "id": "f25de40d-0545-4826-a4fc-31c025aa2eb6",
   "metadata": {},
   "outputs": [
    {
     "data": {
      "text/plain": [
       "Text(-7.375, 0.5, 'Mille Tonnes')"
      ]
     },
     "execution_count": 82,
     "metadata": {},
     "output_type": "execute_result"
    },
    {
     "data": {
      "text/plain": [
       "<Figure size 1152x576 with 0 Axes>"
      ]
     },
     "metadata": {},
     "output_type": "display_data"
    },
    {
     "data": {
      "image/png": "[encoded data removed]",
      "text/plain": [
       "<Figure size 432x288 with 1 Axes>"
      ]
     },
     "metadata": {
      "needs_background": "light"
     },
     "output_type": "display_data"
    }
   ],
   "source": [
    "#Graphieque type Water Fall pour visualiser le proportion de chaque variable dans la disponibilité intérieur de Manioc en Thaïlande\n",
    "#DisponibilitéIntérieur=Production+Importation+Variation de stock-Exportation\n",
    "plt.figure(figsize=(16,8)) \n",
    "x = [30228,-25214,1250, 0] \n",
    "label = [\"Production\",\"Exportations - Quantité\",\"Importations - Quantité\",\"Variation de stock\"]\n",
    "waterfall_chart.plot(label, x, net_label='Disponibilité Intérieure',rotation_value=45,formatting='{:,.2f}')\n",
    "plt.title(\"Ressource de Disponibilité Intérieure Manioc Thaïlande\")\n",
    "plt.ylabel(\"Mille Tonnes\")"
   ]
  },
  {
   "cell_type": "code",
   "execution_count": 83,
   "id": "d99149df-c4c4-4851-aa01-0d0f57612ed7",
   "metadata": {},
   "outputs": [
    {
     "data": {
      "text/plain": [
       "Text(-1.0, 0.5, 'Mille Tonnes')"
      ]
     },
     "execution_count": 83,
     "metadata": {},
     "output_type": "execute_result"
    },
    {
     "data": {
      "text/plain": [
       "<Figure size 1152x576 with 0 Axes>"
      ]
     },
     "metadata": {},
     "output_type": "display_data"
    },
    {
     "data": {
      "image/png": "[encoded data removed]",
      "text/plain": [
       "<Figure size 432x288 with 1 Axes>"
      ]
     },
     "metadata": {
      "needs_background": "light"
     },
     "output_type": "display_data"
    }
   ],
   "source": [
    "#Graphieque type Water Fall pour visualiser le proportion de chaque variable dans la disponibilité intérieur de Manioc en Thaïlande\n",
    "#DisponibilitéIntérieur=Production+Importation+Variation de stock-Exportation\n",
    "plt.figure(figsize=(16,8)) \n",
    "x = [871, 1511, 1800, 2081, 0, 0] \n",
    "label = [\"Nourriture\",\"Pertes\",\"Aliments Pour Animaux\",\"Autres Utilisations\",\"Semences\",\"Traitement\"]\n",
    "waterfall_chart.plot(label, x, net_label='Disponibilité Intérieure',rotation_value=45,formatting='{:,.2f}')\n",
    "plt.title(\"Répartition Disponibilité Intérieure Manioc Thaïlande\")\n",
    "plt.ylabel(\"Mille Tonnes\")"
   ]
  }
 ],
 "metadata": {
  "kernelspec": {
   "display_name": "Python 3 (ipykernel)",
   "language": "python",
   "name": "python3"
  },
  "language_info": {
   "codemirror_mode": {
    "name": "ipython",
    "version": 3
   },
   "file_extension": ".py",
   "mimetype": "text/x-python",
   "name": "python",
   "nbconvert_exporter": "python",
   "pygments_lexer": "ipython3",
   "version": "3.8.7"
  }
 },
 "nbformat": 4,
 "nbformat_minor": 5
}
